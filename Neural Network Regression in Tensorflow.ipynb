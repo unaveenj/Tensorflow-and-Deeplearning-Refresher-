{
 "cells": [
  {
   "cell_type": "markdown",
   "metadata": {},
   "source": [
    "# Introduction to Regression with Neural Networks in Tensorflow\n",
    "\n",
    "Regression is basically predicting numerical variables based on other combinations of variables"
   ]
  },
  {
   "cell_type": "code",
   "execution_count": 2,
   "metadata": {},
   "outputs": [
    {
     "name": "stdout",
     "output_type": "stream",
     "text": [
      "2.3.0\n"
     ]
    }
   ],
   "source": [
    "#Import Tensorflow\n",
    "import tensorflow as tf\n",
    "print(tf.__version__)"
   ]
  },
  {
   "cell_type": "markdown",
   "metadata": {},
   "source": [
    "# Create some data to view and fit"
   ]
  },
  {
   "cell_type": "code",
   "execution_count": 7,
   "metadata": {},
   "outputs": [
    {
     "data": {
      "text/plain": [
       "<matplotlib.collections.PathCollection at 0x1875d285988>"
      ]
     },
     "execution_count": 7,
     "metadata": {},
     "output_type": "execute_result"
    },
    {
     "data": {
      "image/png": "[encoded data removed]",
      "text/plain": [
       "<Figure size 432x288 with 1 Axes>"
      ]
     },
     "metadata": {
      "needs_background": "light"
     },
     "output_type": "display_data"
    }
   ],
   "source": [
    "import numpy as np\n",
    "import matplotlib.pyplot as plt\n",
    "\n",
    "#Create features\n",
    "X=np.array([-7.0,-4,-1,2,5,8,11,14])\n",
    "\n",
    "#Create labels\n",
    "y=np.array([3.0,6,9,12,15,18,21,24])\n",
    "\n",
    "#Visualise it\n",
    "plt.scatter(X,y)"
   ]
  },
  {
   "cell_type": "code",
   "execution_count": 8,
   "metadata": {},
   "outputs": [
    {
     "data": {
      "text/plain": [
       "array([ True,  True,  True,  True,  True,  True,  True,  True])"
      ]
     },
     "execution_count": 8,
     "metadata": {},
     "output_type": "execute_result"
    }
   ],
   "source": [
    "#See the relationship between X and y\n",
    "y ==X+10"
   ]
  },
  {
   "cell_type": "markdown",
   "metadata": {},
   "source": [
    "# Input and output shapes"
   ]
  },
  {
   "cell_type": "code",
   "execution_count": 17,
   "metadata": {},
   "outputs": [],
   "source": [
    "X = tf.cast(tf.constant(X),dtype=tf.float32)\n",
    "y= tf.cast(tf.constant(y),dtype=tf.float32)"
   ]
  },
  {
   "cell_type": "code",
   "execution_count": 18,
   "metadata": {},
   "outputs": [
    {
     "data": {
      "text/plain": [
       "(<tf.Tensor: shape=(8,), dtype=float32, numpy=array([-7., -4., -1.,  2.,  5.,  8., 11., 14.], dtype=float32)>,\n",
       " <tf.Tensor: shape=(8,), dtype=float32, numpy=array([ 3.,  6.,  9., 12., 15., 18., 21., 24.], dtype=float32)>)"
      ]
     },
     "execution_count": 18,
     "metadata": {},
     "output_type": "execute_result"
    }
   ],
   "source": [
    "X,y"
   ]
  },
  {
   "cell_type": "code",
   "execution_count": 19,
   "metadata": {},
   "outputs": [
    {
     "data": {
      "text/plain": [
       "(TensorShape([]), TensorShape([]))"
      ]
     },
     "execution_count": 19,
     "metadata": {},
     "output_type": "execute_result"
    }
   ],
   "source": [
    "input_shape = X[0].shape\n",
    "output_shape = y[0].shape\n",
    "input_shape, output_shape"
   ]
  },
  {
   "cell_type": "markdown",
   "metadata": {},
   "source": [
    "# Modelling in Tensorflow\n",
    "\n",
    "1. **Create a model** - define input and output layers as well as the hidden layers of the neural network\n",
    "2. **Compiling model** - Define the loss function and optimizers\n",
    "3. **Fitting the model** on the training data\n",
    "4. **Evaluvate the model** on the testing data"
   ]
  },
  {
   "cell_type": "markdown",
   "metadata": {},
   "source": [
    "| **Hyperparameter** | **Typical value** |\n",
    "| --- | --- |\n",
    "| Input layer shape | Same shape as number of features (e.g. 3 for # bedrooms, # bathrooms, # car spaces in housing price prediction) |\n",
    "| Hidden layer(s) | Problem specific, minimum = 1, maximum = unlimited |\n",
    "| Neurons per hidden layer | Problem specific, generally 10 to 100 |\n",
    "| Output layer shape | Same shape as desired prediction shape (e.g. 1 for house price) |\n",
    "| Hidden activation | Usually [ReLU](https://www.kaggle.com/dansbecker/rectified-linear-units-relu-in-deep-learning) (rectified linear unit) |\n",
    "| Output activation | None, ReLU, logistic/tanh |\n",
    "| Loss function | [MSE](https://en.wikipedia.org/wiki/Mean_squared_error) (mean square error) or [MAE](https://en.wikipedia.org/wiki/Mean_absolute_error) (mean absolute error)/Huber (combination of MAE/MSE) if outliers |\n",
    "| Optimizer | [SGD](https://www.tensorflow.org/api_docs/python/tf/keras/optimizers/SGD) (stochastic gradient descent), [Adam](https://www.tensorflow.org/api_docs/python/tf/keras/optimizers/Adam) |\n",
    "\n",
    "***Table 1:*** *Typical architecture of a regression network.* ***Source:*** *Adapted from page 293 of [Hands-On Machine Learning with Scikit-Learn, Keras & TensorFlow Book by Aurélien Géron](https://www.oreilly.com/library/view/hands-on-machine-learning/9781492032632/)*\n",
    "\n",
    "Again, if you're new to neural networks and deep learning in general, much of the above table won't make sense. But don't worry, we'll be getting hands-on with all of it soon.\n",
    "\n",
    "> 🔑 **Note:** A **hyperparameter** in machine learning is something a data analyst or developer can set themselves, where as a **parameter** usually describes something a model learns on its own (a value not explicitly set by an analyst)."
   ]
  },
  {
   "cell_type": "code",
   "execution_count": 36,
   "metadata": {},
   "outputs": [
    {
     "name": "stdout",
     "output_type": "stream",
     "text": [
      "Epoch 1/5\n",
      "1/1 [==============================] - 0s 2ms/step - loss: 11.5048 - mae: 11.5048\n",
      "Epoch 2/5\n",
      "1/1 [==============================] - 0s 997us/step - loss: 11.3723 - mae: 11.3723\n",
      "Epoch 3/5\n",
      "1/1 [==============================] - 0s 999us/step - loss: 11.2398 - mae: 11.2398\n",
      "Epoch 4/5\n",
      "1/1 [==============================] - 0s 998us/step - loss: 11.1073 - mae: 11.1073\n",
      "Epoch 5/5\n",
      "1/1 [==============================] - 0s 996us/step - loss: 10.9748 - mae: 10.9748\n"
     ]
    },
    {
     "data": {
      "text/plain": [
       "<tensorflow.python.keras.callbacks.History at 0x187647e3d88>"
      ]
     },
     "execution_count": 36,
     "metadata": {},
     "output_type": "execute_result"
    }
   ],
   "source": [
    "#Set random seed for repoducability\n",
    "tf.random.set_seed(42)\n",
    "\n",
    "#1. Create a model using the Sequential API\n",
    "\n",
    "model = tf.keras.Sequential()\n",
    "model.add(tf.keras.layers.Dense(1))\n",
    "# model = tf.keras.Sequential([\n",
    "#     tf.keras.layers.Dense(1) # Just one layer\n",
    "# ])\n",
    "\n",
    "#2. Compile the model\n",
    "model.compile(loss=tf.keras.losses.MAE,\n",
    "             optimizer=tf.optimizers.SGD(),\n",
    "              metrics = [\"mae\"])\n",
    "\n",
    "# 3. Fit the model\n",
    "model.fit(X,y,epochs=5)\n",
    "\n"
   ]
  },
  {
   "cell_type": "code",
   "execution_count": 37,
   "metadata": {},
   "outputs": [
    {
     "data": {
      "text/plain": [
       "(<tf.Tensor: shape=(8,), dtype=float32, numpy=array([-7., -4., -1.,  2.,  5.,  8., 11., 14.], dtype=float32)>,\n",
       " <tf.Tensor: shape=(8,), dtype=float32, numpy=array([ 3.,  6.,  9., 12., 15., 18., 21., 24.], dtype=float32)>)"
      ]
     },
     "execution_count": 37,
     "metadata": {},
     "output_type": "execute_result"
    }
   ],
   "source": [
    "#Chck X and y values\n",
    "X , y"
   ]
  },
  {
   "cell_type": "code",
   "execution_count": 39,
   "metadata": {},
   "outputs": [
    {
     "data": {
      "text/plain": [
       "array([[12.716021]], dtype=float32)"
      ]
     },
     "execution_count": 39,
     "metadata": {},
     "output_type": "execute_result"
    }
   ],
   "source": [
    "#Make a prediction using out model\n",
    "model.predict([17.0])"
   ]
  },
  {
   "cell_type": "markdown",
   "metadata": {},
   "source": [
    "From the above, we notice the predicted value is far ahead of the expected value."
   ]
  },
  {
   "cell_type": "markdown",
   "metadata": {},
   "source": [
    "# Improving the model\n",
    "To improve our model, we alter almost every part of the 3 steps we went through before.\n",
    "\n",
    "1. **Creating a model** - here you might want to add more layers, increase the number of hidden units (also called neurons) within each layer, change the activation functions of each layer.\n",
    "2. **Compiling a model** - you might want to choose optimization function or perhaps change the **learning rate** of the optimization function.\n",
    "3. **Fitting a model** - perhaps you could fit a model for more **epochs** (leave it training for longer) or on more data (give the model more examples to learn from)."
   ]
  },
  {
   "cell_type": "code",
   "execution_count": 41,
   "metadata": {},
   "outputs": [
    {
     "name": "stdout",
     "output_type": "stream",
     "text": [
      "Epoch 1/100\n",
      "1/1 [==============================] - 0s 13ms/step - loss: 11.2219 - mae: 11.2219\n",
      "Epoch 2/100\n",
      "1/1 [==============================] - 0s 1ms/step - loss: 11.0894 - mae: 11.0894\n",
      "Epoch 3/100\n",
      "1/1 [==============================] - 0s 3ms/step - loss: 10.9569 - mae: 10.9569\n",
      "Epoch 4/100\n",
      "1/1 [==============================] - 0s 2ms/step - loss: 10.8244 - mae: 10.8244\n",
      "Epoch 5/100\n",
      "1/1 [==============================] - 0s 997us/step - loss: 10.6919 - mae: 10.6919\n",
      "Epoch 6/100\n",
      "1/1 [==============================] - 0s 2ms/step - loss: 10.5594 - mae: 10.5594\n",
      "Epoch 7/100\n",
      "1/1 [==============================] - 0s 998us/step - loss: 10.4269 - mae: 10.4269\n",
      "Epoch 8/100\n",
      "1/1 [==============================] - 0s 3ms/step - loss: 10.2944 - mae: 10.2944\n",
      "Epoch 9/100\n",
      "1/1 [==============================] - 0s 995us/step - loss: 10.1619 - mae: 10.1619\n",
      "Epoch 10/100\n",
      "1/1 [==============================] - 0s 2ms/step - loss: 10.0294 - mae: 10.0294\n",
      "Epoch 11/100\n",
      "1/1 [==============================] - 0s 1ms/step - loss: 9.8969 - mae: 9.8969\n",
      "Epoch 12/100\n",
      "1/1 [==============================] - 0s 999us/step - loss: 9.7644 - mae: 9.7644\n",
      "Epoch 13/100\n",
      "1/1 [==============================] - 0s 1ms/step - loss: 9.6319 - mae: 9.6319\n",
      "Epoch 14/100\n",
      "1/1 [==============================] - 0s 3ms/step - loss: 9.4994 - mae: 9.4994\n",
      "Epoch 15/100\n",
      "1/1 [==============================] - 0s 1ms/step - loss: 9.3669 - mae: 9.3669\n",
      "Epoch 16/100\n",
      "1/1 [==============================] - 0s 2ms/step - loss: 9.2344 - mae: 9.2344\n",
      "Epoch 17/100\n",
      "1/1 [==============================] - 0s 2ms/step - loss: 9.1019 - mae: 9.1019\n",
      "Epoch 18/100\n",
      "1/1 [==============================] - 0s 998us/step - loss: 8.9694 - mae: 8.9694\n",
      "Epoch 19/100\n",
      "1/1 [==============================] - 0s 1ms/step - loss: 8.8369 - mae: 8.8369\n",
      "Epoch 20/100\n",
      "1/1 [==============================] - 0s 2ms/step - loss: 8.7044 - mae: 8.7044\n",
      "Epoch 21/100\n",
      "1/1 [==============================] - 0s 998us/step - loss: 8.5719 - mae: 8.5719\n",
      "Epoch 22/100\n",
      "1/1 [==============================] - 0s 2ms/step - loss: 8.4394 - mae: 8.4394\n",
      "Epoch 23/100\n",
      "1/1 [==============================] - 0s 2ms/step - loss: 8.3069 - mae: 8.3069\n",
      "Epoch 24/100\n",
      "1/1 [==============================] - 0s 998us/step - loss: 8.1744 - mae: 8.1744\n",
      "Epoch 25/100\n",
      "1/1 [==============================] - 0s 5ms/step - loss: 8.0419 - mae: 8.0419\n",
      "Epoch 26/100\n",
      "1/1 [==============================] - 0s 998us/step - loss: 7.9094 - mae: 7.9094\n",
      "Epoch 27/100\n",
      "1/1 [==============================] - 0s 2ms/step - loss: 7.7769 - mae: 7.7769\n",
      "Epoch 28/100\n",
      "1/1 [==============================] - 0s 998us/step - loss: 7.6444 - mae: 7.6444\n",
      "Epoch 29/100\n",
      "1/1 [==============================] - 0s 996us/step - loss: 7.5119 - mae: 7.5119\n",
      "Epoch 30/100\n",
      "1/1 [==============================] - 0s 2ms/step - loss: 7.3794 - mae: 7.3794\n",
      "Epoch 31/100\n",
      "1/1 [==============================] - 0s 997us/step - loss: 7.2750 - mae: 7.2750\n",
      "Epoch 32/100\n",
      "1/1 [==============================] - 0s 999us/step - loss: 7.2694 - mae: 7.2694\n",
      "Epoch 33/100\n",
      "1/1 [==============================] - 0s 2ms/step - loss: 7.2638 - mae: 7.2638\n",
      "Epoch 34/100\n",
      "1/1 [==============================] - 0s 985us/step - loss: 7.2581 - mae: 7.2581\n",
      "Epoch 35/100\n",
      "1/1 [==============================] - 0s 2ms/step - loss: 7.2525 - mae: 7.2525\n",
      "Epoch 36/100\n",
      "1/1 [==============================] - 0s 2ms/step - loss: 7.2469 - mae: 7.2469\n",
      "Epoch 37/100\n",
      "1/1 [==============================] - 0s 989us/step - loss: 7.2412 - mae: 7.2412\n",
      "Epoch 38/100\n",
      "1/1 [==============================] - 0s 996us/step - loss: 7.2356 - mae: 7.2356\n",
      "Epoch 39/100\n",
      "1/1 [==============================] - 0s 997us/step - loss: 7.2300 - mae: 7.2300\n",
      "Epoch 40/100\n",
      "1/1 [==============================] - 0s 997us/step - loss: 7.2244 - mae: 7.2244\n",
      "Epoch 41/100\n",
      "1/1 [==============================] - 0s 2ms/step - loss: 7.2188 - mae: 7.2188\n",
      "Epoch 42/100\n",
      "1/1 [==============================] - 0s 0s/step - loss: 7.2131 - mae: 7.2131\n",
      "Epoch 43/100\n",
      "1/1 [==============================] - 0s 997us/step - loss: 7.2075 - mae: 7.2075\n",
      "Epoch 44/100\n",
      "1/1 [==============================] - 0s 3ms/step - loss: 7.2019 - mae: 7.2019\n",
      "Epoch 45/100\n",
      "1/1 [==============================] - 0s 999us/step - loss: 7.1962 - mae: 7.1962\n",
      "Epoch 46/100\n",
      "1/1 [==============================] - 0s 1ms/step - loss: 7.1906 - mae: 7.1906\n",
      "Epoch 47/100\n",
      "1/1 [==============================] - 0s 2ms/step - loss: 7.1850 - mae: 7.1850\n",
      "Epoch 48/100\n",
      "1/1 [==============================] - 0s 998us/step - loss: 7.1794 - mae: 7.1794\n",
      "Epoch 49/100\n",
      "1/1 [==============================] - 0s 4ms/step - loss: 7.1737 - mae: 7.1737\n",
      "Epoch 50/100\n",
      "1/1 [==============================] - 0s 997us/step - loss: 7.1681 - mae: 7.1681\n",
      "Epoch 51/100\n",
      "1/1 [==============================] - 0s 2ms/step - loss: 7.1625 - mae: 7.1625\n",
      "Epoch 52/100\n",
      "1/1 [==============================] - 0s 996us/step - loss: 7.1569 - mae: 7.1569\n",
      "Epoch 53/100\n",
      "1/1 [==============================] - 0s 998us/step - loss: 7.1512 - mae: 7.1512\n",
      "Epoch 54/100\n",
      "1/1 [==============================] - 0s 3ms/step - loss: 7.1456 - mae: 7.1456\n",
      "Epoch 55/100\n",
      "1/1 [==============================] - 0s 2ms/step - loss: 7.1400 - mae: 7.1400\n",
      "Epoch 56/100\n",
      "1/1 [==============================] - 0s 2ms/step - loss: 7.1344 - mae: 7.1344\n",
      "Epoch 57/100\n",
      "1/1 [==============================] - 0s 998us/step - loss: 7.1287 - mae: 7.1287\n",
      "Epoch 58/100\n",
      "1/1 [==============================] - 0s 2ms/step - loss: 7.1231 - mae: 7.1231\n",
      "Epoch 59/100\n",
      "1/1 [==============================] - 0s 3ms/step - loss: 7.1175 - mae: 7.1175\n",
      "Epoch 60/100\n",
      "1/1 [==============================] - 0s 997us/step - loss: 7.1119 - mae: 7.1119\n",
      "Epoch 61/100\n",
      "1/1 [==============================] - 0s 997us/step - loss: 7.1062 - mae: 7.1062\n",
      "Epoch 62/100\n",
      "1/1 [==============================] - 0s 2ms/step - loss: 7.1006 - mae: 7.1006\n",
      "Epoch 63/100\n",
      "1/1 [==============================] - 0s 999us/step - loss: 7.0950 - mae: 7.0950\n",
      "Epoch 64/100\n",
      "1/1 [==============================] - 0s 2ms/step - loss: 7.0894 - mae: 7.0894\n",
      "Epoch 65/100\n",
      "1/1 [==============================] - 0s 999us/step - loss: 7.0838 - mae: 7.0838\n",
      "Epoch 66/100\n",
      "1/1 [==============================] - 0s 998us/step - loss: 7.0781 - mae: 7.0781\n",
      "Epoch 67/100\n",
      "1/1 [==============================] - 0s 981us/step - loss: 7.0725 - mae: 7.0725\n",
      "Epoch 68/100\n",
      "1/1 [==============================] - 0s 3ms/step - loss: 7.0669 - mae: 7.0669\n",
      "Epoch 69/100\n",
      "1/1 [==============================] - 0s 2ms/step - loss: 7.0613 - mae: 7.0613\n",
      "Epoch 70/100\n",
      "1/1 [==============================] - 0s 998us/step - loss: 7.0556 - mae: 7.0556\n",
      "Epoch 71/100\n",
      "1/1 [==============================] - 0s 4ms/step - loss: 7.0500 - mae: 7.0500\n",
      "Epoch 72/100\n",
      "1/1 [==============================] - 0s 2ms/step - loss: 7.0444 - mae: 7.0444\n",
      "Epoch 73/100\n",
      "1/1 [==============================] - 0s 4ms/step - loss: 7.0388 - mae: 7.0388\n",
      "Epoch 74/100\n",
      "1/1 [==============================] - 0s 2ms/step - loss: 7.0331 - mae: 7.0331\n",
      "Epoch 75/100\n",
      "1/1 [==============================] - 0s 998us/step - loss: 7.0275 - mae: 7.0275\n",
      "Epoch 76/100\n",
      "1/1 [==============================] - 0s 997us/step - loss: 7.0219 - mae: 7.0219\n",
      "Epoch 77/100\n",
      "1/1 [==============================] - 0s 2ms/step - loss: 7.0163 - mae: 7.0163\n",
      "Epoch 78/100\n",
      "1/1 [==============================] - 0s 2ms/step - loss: 7.0106 - mae: 7.0106\n",
      "Epoch 79/100\n",
      "1/1 [==============================] - ETA: 0s - loss: 7.0050 - mae: 7.005 - 0s 996us/step - loss: 7.0050 - mae: 7.0050\n",
      "Epoch 80/100\n",
      "1/1 [==============================] - 0s 2ms/step - loss: 6.9994 - mae: 6.9994\n",
      "Epoch 81/100\n",
      "1/1 [==============================] - 0s 2ms/step - loss: 6.9938 - mae: 6.9938\n",
      "Epoch 82/100\n",
      "1/1 [==============================] - 0s 3ms/step - loss: 6.9881 - mae: 6.9881\n",
      "Epoch 83/100\n",
      "1/1 [==============================] - 0s 2ms/step - loss: 6.9825 - mae: 6.9825\n",
      "Epoch 84/100\n",
      "1/1 [==============================] - 0s 4ms/step - loss: 6.9769 - mae: 6.9769\n",
      "Epoch 85/100\n",
      "1/1 [==============================] - 0s 2ms/step - loss: 6.9713 - mae: 6.9713\n",
      "Epoch 86/100\n",
      "1/1 [==============================] - 0s 996us/step - loss: 6.9656 - mae: 6.9656\n",
      "Epoch 87/100\n"
     ]
    },
    {
     "name": "stdout",
     "output_type": "stream",
     "text": [
      "1/1 [==============================] - 0s 2ms/step - loss: 6.9600 - mae: 6.9600\n",
      "Epoch 88/100\n",
      "1/1 [==============================] - 0s 3ms/step - loss: 6.9544 - mae: 6.9544\n",
      "Epoch 89/100\n",
      "1/1 [==============================] - 0s 4ms/step - loss: 6.9488 - mae: 6.9488\n",
      "Epoch 90/100\n",
      "1/1 [==============================] - 0s 2ms/step - loss: 6.9431 - mae: 6.9431\n",
      "Epoch 91/100\n",
      "1/1 [==============================] - 0s 3ms/step - loss: 6.9375 - mae: 6.9375\n",
      "Epoch 92/100\n",
      "1/1 [==============================] - 0s 996us/step - loss: 6.9319 - mae: 6.9319\n",
      "Epoch 93/100\n",
      "1/1 [==============================] - 0s 996us/step - loss: 6.9263 - mae: 6.9263\n",
      "Epoch 94/100\n",
      "1/1 [==============================] - 0s 2ms/step - loss: 6.9206 - mae: 6.9206\n",
      "Epoch 95/100\n",
      "1/1 [==============================] - 0s 2ms/step - loss: 6.9150 - mae: 6.9150\n",
      "Epoch 96/100\n",
      "1/1 [==============================] - 0s 2ms/step - loss: 6.9094 - mae: 6.9094\n",
      "Epoch 97/100\n",
      "1/1 [==============================] - 0s 2ms/step - loss: 6.9038 - mae: 6.9038\n",
      "Epoch 98/100\n",
      "1/1 [==============================] - 0s 0s/step - loss: 6.8981 - mae: 6.8981\n",
      "Epoch 99/100\n",
      "1/1 [==============================] - 0s 996us/step - loss: 6.8925 - mae: 6.8925\n",
      "Epoch 100/100\n",
      "1/1 [==============================] - 0s 2ms/step - loss: 6.8869 - mae: 6.8869\n"
     ]
    },
    {
     "data": {
      "text/plain": [
       "<tensorflow.python.keras.callbacks.History at 0x18765a9ff08>"
      ]
     },
     "execution_count": 41,
     "metadata": {},
     "output_type": "execute_result"
    }
   ],
   "source": [
    "#Rebuilding our model -> Increaseing the number of epochs to 100\n",
    "\n",
    "#1. Create the model \n",
    "model=tf.keras.Sequential()\n",
    "model.add(tf.keras.layers.Dense(1))\n",
    "\n",
    "#2. Compile the model\n",
    "model.compile(loss=tf.keras.losses.MAE,\n",
    "             optimizer=tf.keras.optimizers.SGD(),\n",
    "             metrics=[\"mae\"])\n",
    "\n",
    "#3. Fit the model\n",
    "model.fit(X,y,epochs=100)"
   ]
  },
  {
   "cell_type": "markdown",
   "metadata": {},
   "source": [
    "Just by altering one hyperparameter from our model i.e. number of epochs , we reduced our loss to around 7."
   ]
  },
  {
   "cell_type": "code",
   "execution_count": 42,
   "metadata": {},
   "outputs": [
    {
     "data": {
      "text/plain": [
       "(<tf.Tensor: shape=(8,), dtype=float32, numpy=array([-7., -4., -1.,  2.,  5.,  8., 11., 14.], dtype=float32)>,\n",
       " <tf.Tensor: shape=(8,), dtype=float32, numpy=array([ 3.,  6.,  9., 12., 15., 18., 21., 24.], dtype=float32)>)"
      ]
     },
     "execution_count": 42,
     "metadata": {},
     "output_type": "execute_result"
    }
   ],
   "source": [
    "X,y"
   ]
  },
  {
   "cell_type": "code",
   "execution_count": 44,
   "metadata": {},
   "outputs": [
    {
     "data": {
      "text/plain": [
       "array([[29.739855]], dtype=float32)"
      ]
     },
     "execution_count": 44,
     "metadata": {},
     "output_type": "execute_result"
    }
   ],
   "source": [
    "model.predict([17])"
   ]
  },
  {
   "cell_type": "markdown",
   "metadata": {},
   "source": [
    "This prediction is much better than before from 12 to 29. "
   ]
  },
  {
   "cell_type": "code",
   "execution_count": 49,
   "metadata": {},
   "outputs": [
    {
     "name": "stdout",
     "output_type": "stream",
     "text": [
      "Epoch 1/100\n",
      "1/1 [==============================] - 0s 15ms/step - loss: 10.5736 - mae: 10.5736\n",
      "Epoch 2/100\n",
      "1/1 [==============================] - 0s 3ms/step - loss: 10.5691 - mae: 10.5691\n",
      "Epoch 3/100\n",
      "1/1 [==============================] - 0s 1ms/step - loss: 10.5646 - mae: 10.5646\n",
      "Epoch 4/100\n",
      "1/1 [==============================] - 0s 997us/step - loss: 10.5601 - mae: 10.5601\n",
      "Epoch 5/100\n",
      "1/1 [==============================] - 0s 1ms/step - loss: 10.5556 - mae: 10.5556\n",
      "Epoch 6/100\n",
      "1/1 [==============================] - 0s 0s/step - loss: 10.5511 - mae: 10.5511\n",
      "Epoch 7/100\n",
      "1/1 [==============================] - 0s 2ms/step - loss: 10.5466 - mae: 10.5466\n",
      "Epoch 8/100\n",
      "1/1 [==============================] - 0s 1ms/step - loss: 10.5421 - mae: 10.5421\n",
      "Epoch 9/100\n",
      "1/1 [==============================] - 0s 996us/step - loss: 10.5376 - mae: 10.5376\n",
      "Epoch 10/100\n",
      "1/1 [==============================] - 0s 2ms/step - loss: 10.5331 - mae: 10.5331\n",
      "Epoch 11/100\n",
      "1/1 [==============================] - 0s 996us/step - loss: 10.5286 - mae: 10.5286\n",
      "Epoch 12/100\n",
      "1/1 [==============================] - 0s 2ms/step - loss: 10.5241 - mae: 10.5241\n",
      "Epoch 13/100\n",
      "1/1 [==============================] - 0s 998us/step - loss: 10.5196 - mae: 10.5196\n",
      "Epoch 14/100\n",
      "1/1 [==============================] - 0s 998us/step - loss: 10.5151 - mae: 10.5151\n",
      "Epoch 15/100\n",
      "1/1 [==============================] - 0s 0s/step - loss: 10.5106 - mae: 10.5106\n",
      "Epoch 16/100\n",
      "1/1 [==============================] - 0s 2ms/step - loss: 10.5061 - mae: 10.5061\n",
      "Epoch 17/100\n",
      "1/1 [==============================] - 0s 997us/step - loss: 10.5016 - mae: 10.5016\n",
      "Epoch 18/100\n",
      "1/1 [==============================] - 0s 998us/step - loss: 10.4971 - mae: 10.4971\n",
      "Epoch 19/100\n",
      "1/1 [==============================] - 0s 999us/step - loss: 10.4926 - mae: 10.4926\n",
      "Epoch 20/100\n",
      "1/1 [==============================] - 0s 985us/step - loss: 10.4881 - mae: 10.4881\n",
      "Epoch 21/100\n",
      "1/1 [==============================] - 0s 994us/step - loss: 10.4836 - mae: 10.4836\n",
      "Epoch 22/100\n",
      "1/1 [==============================] - 0s 993us/step - loss: 10.4791 - mae: 10.4791\n",
      "Epoch 23/100\n",
      "1/1 [==============================] - 0s 997us/step - loss: 10.4746 - mae: 10.4746\n",
      "Epoch 24/100\n",
      "1/1 [==============================] - 0s 0s/step - loss: 10.4701 - mae: 10.4701\n",
      "Epoch 25/100\n",
      "1/1 [==============================] - 0s 997us/step - loss: 10.4656 - mae: 10.4656\n",
      "Epoch 26/100\n",
      "1/1 [==============================] - 0s 986us/step - loss: 10.4611 - mae: 10.4611\n",
      "Epoch 27/100\n",
      "1/1 [==============================] - 0s 998us/step - loss: 10.4566 - mae: 10.4566\n",
      "Epoch 28/100\n",
      "1/1 [==============================] - 0s 0s/step - loss: 10.4521 - mae: 10.4521\n",
      "Epoch 29/100\n",
      "1/1 [==============================] - 0s 1ms/step - loss: 10.4476 - mae: 10.4476\n",
      "Epoch 30/100\n",
      "1/1 [==============================] - 0s 1ms/step - loss: 10.4431 - mae: 10.4431\n",
      "Epoch 31/100\n",
      "1/1 [==============================] - 0s 998us/step - loss: 10.4386 - mae: 10.4386\n",
      "Epoch 32/100\n",
      "1/1 [==============================] - 0s 0s/step - loss: 10.4341 - mae: 10.4341\n",
      "Epoch 33/100\n",
      "1/1 [==============================] - 0s 999us/step - loss: 10.4296 - mae: 10.4296\n",
      "Epoch 34/100\n",
      "1/1 [==============================] - 0s 998us/step - loss: 10.4251 - mae: 10.4251\n",
      "Epoch 35/100\n",
      "1/1 [==============================] - 0s 996us/step - loss: 10.4206 - mae: 10.4206\n",
      "Epoch 36/100\n",
      "1/1 [==============================] - 0s 997us/step - loss: 10.4161 - mae: 10.4161\n",
      "Epoch 37/100\n",
      "1/1 [==============================] - 0s 998us/step - loss: 10.4116 - mae: 10.4116\n",
      "Epoch 38/100\n",
      "1/1 [==============================] - 0s 997us/step - loss: 10.4071 - mae: 10.4071\n",
      "Epoch 39/100\n",
      "1/1 [==============================] - 0s 0s/step - loss: 10.4026 - mae: 10.4026\n",
      "Epoch 40/100\n",
      "1/1 [==============================] - 0s 997us/step - loss: 10.3981 - mae: 10.3981\n",
      "Epoch 41/100\n",
      "1/1 [==============================] - 0s 992us/step - loss: 10.3936 - mae: 10.3936\n",
      "Epoch 42/100\n",
      "1/1 [==============================] - 0s 2ms/step - loss: 10.3891 - mae: 10.3891\n",
      "Epoch 43/100\n",
      "1/1 [==============================] - 0s 997us/step - loss: 10.3846 - mae: 10.3846\n",
      "Epoch 44/100\n",
      "1/1 [==============================] - 0s 2ms/step - loss: 10.3801 - mae: 10.3801\n",
      "Epoch 45/100\n",
      "1/1 [==============================] - 0s 2ms/step - loss: 10.3756 - mae: 10.3756\n",
      "Epoch 46/100\n",
      "1/1 [==============================] - 0s 998us/step - loss: 10.3711 - mae: 10.3711\n",
      "Epoch 47/100\n",
      "1/1 [==============================] - 0s 998us/step - loss: 10.3666 - mae: 10.3666\n",
      "Epoch 48/100\n",
      "1/1 [==============================] - 0s 2ms/step - loss: 10.3621 - mae: 10.3621\n",
      "Epoch 49/100\n",
      "1/1 [==============================] - 0s 1ms/step - loss: 10.3576 - mae: 10.3576\n",
      "Epoch 50/100\n",
      "1/1 [==============================] - 0s 998us/step - loss: 10.3531 - mae: 10.3531\n",
      "Epoch 51/100\n",
      "1/1 [==============================] - 0s 997us/step - loss: 10.3486 - mae: 10.3486\n",
      "Epoch 52/100\n",
      "1/1 [==============================] - 0s 3ms/step - loss: 10.3441 - mae: 10.3441\n",
      "Epoch 53/100\n",
      "1/1 [==============================] - 0s 998us/step - loss: 10.3396 - mae: 10.3396\n",
      "Epoch 54/100\n",
      "1/1 [==============================] - 0s 998us/step - loss: 10.3351 - mae: 10.3351\n",
      "Epoch 55/100\n",
      "1/1 [==============================] - 0s 2ms/step - loss: 10.3306 - mae: 10.3306\n",
      "Epoch 56/100\n",
      "1/1 [==============================] - 0s 0s/step - loss: 10.3261 - mae: 10.3261\n",
      "Epoch 57/100\n",
      "1/1 [==============================] - 0s 997us/step - loss: 10.3216 - mae: 10.3216\n",
      "Epoch 58/100\n",
      "1/1 [==============================] - 0s 997us/step - loss: 10.3171 - mae: 10.3171\n",
      "Epoch 59/100\n",
      "1/1 [==============================] - 0s 0s/step - loss: 10.3126 - mae: 10.3126\n",
      "Epoch 60/100\n",
      "1/1 [==============================] - 0s 999us/step - loss: 10.3081 - mae: 10.3081\n",
      "Epoch 61/100\n",
      "1/1 [==============================] - 0s 0s/step - loss: 10.3036 - mae: 10.3036\n",
      "Epoch 62/100\n",
      "1/1 [==============================] - 0s 2ms/step - loss: 10.2991 - mae: 10.2991\n",
      "Epoch 63/100\n",
      "1/1 [==============================] - 0s 993us/step - loss: 10.2946 - mae: 10.2946\n",
      "Epoch 64/100\n",
      "1/1 [==============================] - 0s 992us/step - loss: 10.2901 - mae: 10.2901\n",
      "Epoch 65/100\n",
      "1/1 [==============================] - 0s 997us/step - loss: 10.2856 - mae: 10.2856\n",
      "Epoch 66/100\n",
      "1/1 [==============================] - 0s 997us/step - loss: 10.2811 - mae: 10.2811\n",
      "Epoch 67/100\n",
      "1/1 [==============================] - 0s 0s/step - loss: 10.2766 - mae: 10.2766\n",
      "Epoch 68/100\n",
      "1/1 [==============================] - 0s 2ms/step - loss: 10.2721 - mae: 10.2721\n",
      "Epoch 69/100\n",
      "1/1 [==============================] - 0s 998us/step - loss: 10.2676 - mae: 10.2676\n",
      "Epoch 70/100\n",
      "1/1 [==============================] - 0s 2ms/step - loss: 10.2631 - mae: 10.2631\n",
      "Epoch 71/100\n",
      "1/1 [==============================] - 0s 1000us/step - loss: 10.2586 - mae: 10.2586\n",
      "Epoch 72/100\n",
      "1/1 [==============================] - 0s 995us/step - loss: 10.2541 - mae: 10.2541\n",
      "Epoch 73/100\n",
      "1/1 [==============================] - 0s 998us/step - loss: 10.2496 - mae: 10.2496\n",
      "Epoch 74/100\n",
      "1/1 [==============================] - 0s 0s/step - loss: 10.2451 - mae: 10.2451\n",
      "Epoch 75/100\n",
      "1/1 [==============================] - 0s 998us/step - loss: 10.2406 - mae: 10.2406\n",
      "Epoch 76/100\n",
      "1/1 [==============================] - 0s 997us/step - loss: 10.2361 - mae: 10.2361\n",
      "Epoch 77/100\n",
      "1/1 [==============================] - 0s 2ms/step - loss: 10.2316 - mae: 10.2316\n",
      "Epoch 78/100\n",
      "1/1 [==============================] - 0s 997us/step - loss: 10.2271 - mae: 10.2271\n",
      "Epoch 79/100\n",
      "1/1 [==============================] - 0s 996us/step - loss: 10.2226 - mae: 10.2226\n",
      "Epoch 80/100\n",
      "1/1 [==============================] - 0s 998us/step - loss: 10.2181 - mae: 10.2181\n",
      "Epoch 81/100\n",
      "1/1 [==============================] - 0s 996us/step - loss: 10.2136 - mae: 10.2136\n",
      "Epoch 82/100\n",
      "1/1 [==============================] - 0s 996us/step - loss: 10.2091 - mae: 10.2091\n",
      "Epoch 83/100\n",
      "1/1 [==============================] - 0s 997us/step - loss: 10.2046 - mae: 10.2046\n",
      "Epoch 84/100\n",
      "1/1 [==============================] - 0s 997us/step - loss: 10.2001 - mae: 10.2001\n",
      "Epoch 85/100\n",
      "1/1 [==============================] - 0s 0s/step - loss: 10.1956 - mae: 10.1956\n",
      "Epoch 86/100\n"
     ]
    },
    {
     "name": "stdout",
     "output_type": "stream",
     "text": [
      "1/1 [==============================] - 0s 998us/step - loss: 10.1911 - mae: 10.1911\n",
      "Epoch 87/100\n",
      "1/1 [==============================] - 0s 997us/step - loss: 10.1866 - mae: 10.1866\n",
      "Epoch 88/100\n",
      "1/1 [==============================] - 0s 0s/step - loss: 10.1821 - mae: 10.1821\n",
      "Epoch 89/100\n",
      "1/1 [==============================] - 0s 996us/step - loss: 10.1776 - mae: 10.1776\n",
      "Epoch 90/100\n",
      "1/1 [==============================] - 0s 993us/step - loss: 10.1731 - mae: 10.1731\n",
      "Epoch 91/100\n",
      "1/1 [==============================] - 0s 998us/step - loss: 10.1686 - mae: 10.1686\n",
      "Epoch 92/100\n",
      "1/1 [==============================] - 0s 2ms/step - loss: 10.1641 - mae: 10.1641\n",
      "Epoch 93/100\n",
      "1/1 [==============================] - 0s 0s/step - loss: 10.1596 - mae: 10.1596\n",
      "Epoch 94/100\n",
      "1/1 [==============================] - 0s 997us/step - loss: 10.1551 - mae: 10.1551\n",
      "Epoch 95/100\n",
      "1/1 [==============================] - 0s 2ms/step - loss: 10.1506 - mae: 10.1506\n",
      "Epoch 96/100\n",
      "1/1 [==============================] - 0s 994us/step - loss: 10.1461 - mae: 10.1461\n",
      "Epoch 97/100\n",
      "1/1 [==============================] - 0s 2ms/step - loss: 10.1416 - mae: 10.1416\n",
      "Epoch 98/100\n",
      "1/1 [==============================] - 0s 997us/step - loss: 10.1371 - mae: 10.1371\n",
      "Epoch 99/100\n",
      "1/1 [==============================] - 0s 997us/step - loss: 10.1326 - mae: 10.1326\n",
      "Epoch 100/100\n",
      "1/1 [==============================] - 0s 2ms/step - loss: 10.1281 - mae: 10.1281\n"
     ]
    },
    {
     "data": {
      "text/plain": [
       "<tensorflow.python.keras.callbacks.History at 0x18765dfcf88>"
      ]
     },
     "execution_count": 49,
     "metadata": {},
     "output_type": "execute_result"
    }
   ],
   "source": [
    "#Rebuilding the model -> Here we change the the optimizer from SGD to Adam\n",
    "\n",
    "#1. Create the model\n",
    "model = tf.keras.Sequential()\n",
    "model.add(tf.keras.layers.Dense(1))\n",
    "\n",
    "#2. Compile the model\n",
    "model.compile(loss = tf.keras.losses.MAE,\n",
    "             optimizer = tf.keras.optimizers.Adam(),\n",
    "             metrics=[\"mae\"])\n",
    "\n",
    "#3. Fit the model\n",
    "model.fit(X,y,epochs = 100)\n"
   ]
  },
  {
   "cell_type": "code",
   "execution_count": 51,
   "metadata": {},
   "outputs": [
    {
     "data": {
      "text/plain": [
       "array([[16.014063]], dtype=float32)"
      ]
     },
     "execution_count": 51,
     "metadata": {},
     "output_type": "execute_result"
    }
   ],
   "source": [
    "model.predict([17.0])"
   ]
  },
  {
   "cell_type": "code",
   "execution_count": 94,
   "metadata": {},
   "outputs": [
    {
     "name": "stdout",
     "output_type": "stream",
     "text": [
      "Epoch 1/150\n",
      "1/1 [==============================] - 0s 998us/step - loss: 13.3798 - mae: 13.3798\n",
      "Epoch 2/150\n",
      "1/1 [==============================] - 0s 2ms/step - loss: 12.6559 - mae: 12.6559\n",
      "Epoch 3/150\n",
      "1/1 [==============================] - 0s 998us/step - loss: 11.9359 - mae: 11.9359\n",
      "Epoch 4/150\n",
      "1/1 [==============================] - 0s 2ms/step - loss: 11.2167 - mae: 11.2167\n",
      "Epoch 5/150\n",
      "1/1 [==============================] - 0s 0s/step - loss: 10.4949 - mae: 10.4949\n",
      "Epoch 6/150\n",
      "1/1 [==============================] - 0s 996us/step - loss: 9.7677 - mae: 9.7677\n",
      "Epoch 7/150\n",
      "1/1 [==============================] - 0s 997us/step - loss: 9.0325 - mae: 9.0325\n",
      "Epoch 8/150\n",
      "1/1 [==============================] - 0s 3ms/step - loss: 8.2863 - mae: 8.2863\n",
      "Epoch 9/150\n",
      "1/1 [==============================] - 0s 0s/step - loss: 7.5261 - mae: 7.5261\n",
      "Epoch 10/150\n",
      "1/1 [==============================] - 0s 1ms/step - loss: 6.7941 - mae: 6.7941\n",
      "Epoch 11/150\n",
      "1/1 [==============================] - 0s 3ms/step - loss: 6.7582 - mae: 6.7582\n",
      "Epoch 12/150\n",
      "1/1 [==============================] - 0s 997us/step - loss: 7.0403 - mae: 7.0403\n",
      "Epoch 13/150\n",
      "1/1 [==============================] - 0s 999us/step - loss: 7.2090 - mae: 7.2090\n",
      "Epoch 14/150\n",
      "1/1 [==============================] - 0s 0s/step - loss: 7.2887 - mae: 7.2887\n",
      "Epoch 15/150\n",
      "1/1 [==============================] - 0s 1ms/step - loss: 7.2502 - mae: 7.2502\n",
      "Epoch 16/150\n",
      "1/1 [==============================] - 0s 999us/step - loss: 7.0810 - mae: 7.0810\n",
      "Epoch 17/150\n",
      "1/1 [==============================] - 0s 995us/step - loss: 6.8955 - mae: 6.8955\n",
      "Epoch 18/150\n",
      "1/1 [==============================] - 0s 2ms/step - loss: 6.6782 - mae: 6.6782\n",
      "Epoch 19/150\n",
      "1/1 [==============================] - 0s 4ms/step - loss: 6.4353 - mae: 6.4353\n",
      "Epoch 20/150\n",
      "1/1 [==============================] - 0s 997us/step - loss: 6.1719 - mae: 6.1719\n",
      "Epoch 21/150\n",
      "1/1 [==============================] - 0s 2ms/step - loss: 6.0822 - mae: 6.0822\n",
      "Epoch 22/150\n",
      "1/1 [==============================] - 0s 3ms/step - loss: 6.0314 - mae: 6.0314\n",
      "Epoch 23/150\n",
      "1/1 [==============================] - 0s 998us/step - loss: 6.1531 - mae: 6.1531\n",
      "Epoch 24/150\n",
      "1/1 [==============================] - 0s 3ms/step - loss: 6.2004 - mae: 6.2004\n",
      "Epoch 25/150\n",
      "1/1 [==============================] - 0s 995us/step - loss: 6.1425 - mae: 6.1425\n",
      "Epoch 26/150\n",
      "1/1 [==============================] - 0s 998us/step - loss: 5.9927 - mae: 5.9927\n",
      "Epoch 27/150\n",
      "1/1 [==============================] - 0s 995us/step - loss: 5.7608 - mae: 5.7608\n",
      "Epoch 28/150\n",
      "1/1 [==============================] - 0s 998us/step - loss: 5.5438 - mae: 5.5438\n",
      "Epoch 29/150\n",
      "1/1 [==============================] - 0s 998us/step - loss: 5.4354 - mae: 5.4354\n",
      "Epoch 30/150\n",
      "1/1 [==============================] - 0s 1ms/step - loss: 5.3237 - mae: 5.3237\n",
      "Epoch 31/150\n",
      "1/1 [==============================] - 0s 998us/step - loss: 5.3486 - mae: 5.3486\n",
      "Epoch 32/150\n",
      "1/1 [==============================] - 0s 3ms/step - loss: 5.3321 - mae: 5.3321\n",
      "Epoch 33/150\n",
      "1/1 [==============================] - 0s 2ms/step - loss: 5.2675 - mae: 5.2675\n",
      "Epoch 34/150\n",
      "1/1 [==============================] - 0s 992us/step - loss: 5.1585 - mae: 5.1585\n",
      "Epoch 35/150\n",
      "1/1 [==============================] - 0s 996us/step - loss: 5.0089 - mae: 5.0089\n",
      "Epoch 36/150\n",
      "1/1 [==============================] - 0s 3ms/step - loss: 4.8220 - mae: 4.8220\n",
      "Epoch 37/150\n",
      "1/1 [==============================] - 0s 998us/step - loss: 4.6012 - mae: 4.6012\n",
      "Epoch 38/150\n",
      "1/1 [==============================] - 0s 998us/step - loss: 4.4991 - mae: 4.4991\n",
      "Epoch 39/150\n",
      "1/1 [==============================] - 0s 989us/step - loss: 4.3967 - mae: 4.3967\n",
      "Epoch 40/150\n",
      "1/1 [==============================] - 0s 999us/step - loss: 4.4074 - mae: 4.4074\n",
      "Epoch 41/150\n",
      "1/1 [==============================] - 0s 1ms/step - loss: 4.3221 - mae: 4.3221\n",
      "Epoch 42/150\n",
      "1/1 [==============================] - 0s 997us/step - loss: 4.1170 - mae: 4.1170\n",
      "Epoch 43/150\n",
      "1/1 [==============================] - 0s 2ms/step - loss: 3.8479 - mae: 3.8479\n",
      "Epoch 44/150\n",
      "1/1 [==============================] - 0s 985us/step - loss: 3.6784 - mae: 3.6784\n",
      "Epoch 45/150\n",
      "1/1 [==============================] - 0s 998us/step - loss: 3.5300 - mae: 3.5300\n",
      "Epoch 46/150\n",
      "1/1 [==============================] - 0s 998us/step - loss: 3.4270 - mae: 3.4270\n",
      "Epoch 47/150\n",
      "1/1 [==============================] - 0s 2ms/step - loss: 3.2670 - mae: 3.2670\n",
      "Epoch 48/150\n",
      "1/1 [==============================] - 0s 2ms/step - loss: 3.0528 - mae: 3.0528\n",
      "Epoch 49/150\n",
      "1/1 [==============================] - 0s 998us/step - loss: 2.8157 - mae: 2.8157\n",
      "Epoch 50/150\n",
      "1/1 [==============================] - 0s 999us/step - loss: 2.6345 - mae: 2.6345\n",
      "Epoch 51/150\n",
      "1/1 [==============================] - 0s 997us/step - loss: 2.4416 - mae: 2.4416\n",
      "Epoch 52/150\n",
      "1/1 [==============================] - 0s 2ms/step - loss: 2.3126 - mae: 2.3126\n",
      "Epoch 53/150\n",
      "1/1 [==============================] - ETA: 0s - loss: 2.0247 - mae: 2.024 - 0s 2ms/step - loss: 2.0247 - mae: 2.0247\n",
      "Epoch 54/150\n",
      "1/1 [==============================] - 0s 2ms/step - loss: 1.7708 - mae: 1.7708\n",
      "Epoch 55/150\n",
      "1/1 [==============================] - 0s 996us/step - loss: 1.6108 - mae: 1.6108\n",
      "Epoch 56/150\n",
      "1/1 [==============================] - 0s 2ms/step - loss: 1.3768 - mae: 1.3768\n",
      "Epoch 57/150\n",
      "1/1 [==============================] - 0s 2ms/step - loss: 1.0723 - mae: 1.0723\n",
      "Epoch 58/150\n",
      "1/1 [==============================] - ETA: 0s - loss: 0.7910 - mae: 0.791 - 0s 2ms/step - loss: 0.7910 - mae: 0.7910\n",
      "Epoch 59/150\n",
      "1/1 [==============================] - 0s 3ms/step - loss: 0.5310 - mae: 0.5310\n",
      "Epoch 60/150\n",
      "1/1 [==============================] - 0s 997us/step - loss: 0.2949 - mae: 0.2949\n",
      "Epoch 61/150\n",
      "1/1 [==============================] - 0s 5ms/step - loss: 0.1443 - mae: 0.1443\n",
      "Epoch 62/150\n",
      "1/1 [==============================] - 0s 2ms/step - loss: 0.4234 - mae: 0.4234\n",
      "Epoch 63/150\n",
      "1/1 [==============================] - 0s 4ms/step - loss: 0.5584 - mae: 0.5584\n",
      "Epoch 64/150\n",
      "1/1 [==============================] - 0s 997us/step - loss: 0.6271 - mae: 0.6271\n",
      "Epoch 65/150\n",
      "1/1 [==============================] - 0s 3ms/step - loss: 0.6990 - mae: 0.6990\n",
      "Epoch 66/150\n",
      "1/1 [==============================] - 0s 997us/step - loss: 0.7169 - mae: 0.7169\n",
      "Epoch 67/150\n",
      "1/1 [==============================] - 0s 2ms/step - loss: 0.7268 - mae: 0.7268\n",
      "Epoch 68/150\n",
      "1/1 [==============================] - 0s 3ms/step - loss: 0.6424 - mae: 0.6424\n",
      "Epoch 69/150\n",
      "1/1 [==============================] - 0s 0s/step - loss: 0.5665 - mae: 0.5665\n",
      "Epoch 70/150\n",
      "1/1 [==============================] - 0s 995us/step - loss: 0.4295 - mae: 0.4295\n",
      "Epoch 71/150\n",
      "1/1 [==============================] - 0s 2ms/step - loss: 0.4176 - mae: 0.4176\n",
      "Epoch 72/150\n",
      "1/1 [==============================] - 0s 998us/step - loss: 0.3125 - mae: 0.3125\n",
      "Epoch 73/150\n",
      "1/1 [==============================] - 0s 2ms/step - loss: 0.0912 - mae: 0.0912\n",
      "Epoch 74/150\n",
      "1/1 [==============================] - 0s 2ms/step - loss: 0.1330 - mae: 0.1330\n",
      "Epoch 75/150\n",
      "1/1 [==============================] - 0s 2ms/step - loss: 0.3071 - mae: 0.3071\n",
      "Epoch 76/150\n",
      "1/1 [==============================] - 0s 2ms/step - loss: 0.3127 - mae: 0.3127\n",
      "Epoch 77/150\n",
      "1/1 [==============================] - 0s 0s/step - loss: 0.3093 - mae: 0.3093\n",
      "Epoch 78/150\n",
      "1/1 [==============================] - 0s 0s/step - loss: 0.2911 - mae: 0.2911\n",
      "Epoch 79/150\n",
      "1/1 [==============================] - 0s 2ms/step - loss: 0.2295 - mae: 0.2295\n",
      "Epoch 80/150\n",
      "1/1 [==============================] - 0s 997us/step - loss: 0.1560 - mae: 0.1560\n",
      "Epoch 81/150\n",
      "1/1 [==============================] - 0s 2ms/step - loss: 0.1453 - mae: 0.1453\n",
      "Epoch 82/150\n",
      "1/1 [==============================] - 0s 1ms/step - loss: 0.0810 - mae: 0.0810\n",
      "Epoch 83/150\n",
      "1/1 [==============================] - 0s 998us/step - loss: 0.2210 - mae: 0.2210\n",
      "Epoch 84/150\n",
      "1/1 [==============================] - 0s 2ms/step - loss: 0.1665 - mae: 0.1665\n",
      "Epoch 85/150\n",
      "1/1 [==============================] - 0s 4ms/step - loss: 0.2338 - mae: 0.2338\n",
      "Epoch 86/150\n",
      "1/1 [==============================] - 0s 2ms/step - loss: 0.1325 - mae: 0.1325\n",
      "Epoch 87/150\n"
     ]
    },
    {
     "name": "stdout",
     "output_type": "stream",
     "text": [
      "1/1 [==============================] - 0s 3ms/step - loss: 0.2929 - mae: 0.2929\n",
      "Epoch 88/150\n",
      "1/1 [==============================] - 0s 2ms/step - loss: 0.2163 - mae: 0.2163\n",
      "Epoch 89/150\n",
      "1/1 [==============================] - 0s 2ms/step - loss: 0.1646 - mae: 0.1646\n",
      "Epoch 90/150\n",
      "1/1 [==============================] - 0s 996us/step - loss: 0.2218 - mae: 0.2218\n",
      "Epoch 91/150\n",
      "1/1 [==============================] - 0s 998us/step - loss: 0.1570 - mae: 0.1570\n",
      "Epoch 92/150\n",
      "1/1 [==============================] - 0s 2ms/step - loss: 0.1525 - mae: 0.1525\n",
      "Epoch 93/150\n",
      "1/1 [==============================] - 0s 1ms/step - loss: 0.1172 - mae: 0.1172\n",
      "Epoch 94/150\n",
      "1/1 [==============================] - 0s 2ms/step - loss: 0.0220 - mae: 0.0220\n",
      "Epoch 95/150\n",
      "1/1 [==============================] - 0s 997us/step - loss: 0.1700 - mae: 0.1700\n",
      "Epoch 96/150\n",
      "1/1 [==============================] - 0s 997us/step - loss: 0.1168 - mae: 0.1168\n",
      "Epoch 97/150\n",
      "1/1 [==============================] - 0s 997us/step - loss: 0.2621 - mae: 0.2621\n",
      "Epoch 98/150\n",
      "1/1 [==============================] - 0s 0s/step - loss: 0.2569 - mae: 0.2569\n",
      "Epoch 99/150\n",
      "1/1 [==============================] - 0s 997us/step - loss: 0.0755 - mae: 0.0755\n",
      "Epoch 100/150\n",
      "1/1 [==============================] - 0s 998us/step - loss: 0.1193 - mae: 0.1193\n",
      "Epoch 101/150\n",
      "1/1 [==============================] - 0s 997us/step - loss: 0.1018 - mae: 0.1018\n",
      "Epoch 102/150\n",
      "1/1 [==============================] - 0s 2ms/step - loss: 0.1165 - mae: 0.1165\n",
      "Epoch 103/150\n",
      "1/1 [==============================] - 0s 2ms/step - loss: 0.1259 - mae: 0.1259\n",
      "Epoch 104/150\n",
      "1/1 [==============================] - 0s 3ms/step - loss: 0.0495 - mae: 0.0495\n",
      "Epoch 105/150\n",
      "1/1 [==============================] - 0s 2ms/step - loss: 0.2641 - mae: 0.2641\n",
      "Epoch 106/150\n",
      "1/1 [==============================] - 0s 4ms/step - loss: 0.2761 - mae: 0.2761\n",
      "Epoch 107/150\n",
      "1/1 [==============================] - 0s 995us/step - loss: 0.0509 - mae: 0.0509\n",
      "Epoch 108/150\n",
      "1/1 [==============================] - 0s 2ms/step - loss: 0.2044 - mae: 0.2044\n",
      "Epoch 109/150\n",
      "1/1 [==============================] - 0s 2ms/step - loss: 0.1307 - mae: 0.1307\n",
      "Epoch 110/150\n",
      "1/1 [==============================] - 0s 4ms/step - loss: 0.1895 - mae: 0.1895\n",
      "Epoch 111/150\n",
      "1/1 [==============================] - 0s 3ms/step - loss: 0.2234 - mae: 0.2234\n",
      "Epoch 112/150\n",
      "1/1 [==============================] - 0s 3ms/step - loss: 0.0467 - mae: 0.0467\n",
      "Epoch 113/150\n",
      "1/1 [==============================] - 0s 4ms/step - loss: 0.3678 - mae: 0.3678\n",
      "Epoch 114/150\n",
      "1/1 [==============================] - 0s 8ms/step - loss: 0.4320 - mae: 0.4320\n",
      "Epoch 115/150\n",
      "1/1 [==============================] - 0s 3ms/step - loss: 0.2429 - mae: 0.2429\n",
      "Epoch 116/150\n",
      "1/1 [==============================] - 0s 2ms/step - loss: 0.1867 - mae: 0.1867\n",
      "Epoch 117/150\n",
      "1/1 [==============================] - 0s 5ms/step - loss: 0.3144 - mae: 0.3144\n",
      "Epoch 118/150\n",
      "1/1 [==============================] - 0s 2ms/step - loss: 0.1827 - mae: 0.1827\n",
      "Epoch 119/150\n",
      "1/1 [==============================] - 0s 9ms/step - loss: 0.1784 - mae: 0.1784\n",
      "Epoch 120/150\n",
      "1/1 [==============================] - 0s 2ms/step - loss: 0.2655 - mae: 0.2655\n",
      "Epoch 121/150\n",
      "1/1 [==============================] - 0s 2ms/step - loss: 0.1095 - mae: 0.1095\n",
      "Epoch 122/150\n",
      "1/1 [==============================] - 0s 3ms/step - loss: 0.2734 - mae: 0.2734\n",
      "Epoch 123/150\n",
      "1/1 [==============================] - 0s 996us/step - loss: 0.3789 - mae: 0.3789\n",
      "Epoch 124/150\n",
      "1/1 [==============================] - 0s 2ms/step - loss: 0.2430 - mae: 0.2430\n",
      "Epoch 125/150\n",
      "1/1 [==============================] - 0s 2ms/step - loss: 0.1366 - mae: 0.1366\n",
      "Epoch 126/150\n",
      "1/1 [==============================] - 0s 995us/step - loss: 0.2383 - mae: 0.2383\n",
      "Epoch 127/150\n",
      "1/1 [==============================] - 0s 3ms/step - loss: 0.1014 - mae: 0.1014\n",
      "Epoch 128/150\n",
      "1/1 [==============================] - 0s 3ms/step - loss: 0.2326 - mae: 0.2326\n",
      "Epoch 129/150\n",
      "1/1 [==============================] - 0s 3ms/step - loss: 0.3003 - mae: 0.3003\n",
      "Epoch 130/150\n",
      "1/1 [==============================] - 0s 2ms/step - loss: 0.1309 - mae: 0.1309\n",
      "Epoch 131/150\n",
      "1/1 [==============================] - 0s 995us/step - loss: 0.2592 - mae: 0.2592\n",
      "Epoch 132/150\n",
      "1/1 [==============================] - 0s 5ms/step - loss: 0.3747 - mae: 0.3747\n",
      "Epoch 133/150\n",
      "1/1 [==============================] - 0s 3ms/step - loss: 0.2538 - mae: 0.2538\n",
      "Epoch 134/150\n",
      "1/1 [==============================] - 0s 4ms/step - loss: 0.0803 - mae: 0.0803\n",
      "Epoch 135/150\n",
      "1/1 [==============================] - 0s 998us/step - loss: 0.1515 - mae: 0.1515\n",
      "Epoch 136/150\n",
      "1/1 [==============================] - 0s 0s/step - loss: 0.0184 - mae: 0.0184\n",
      "Epoch 137/150\n",
      "1/1 [==============================] - 0s 3ms/step - loss: 0.1612 - mae: 0.1612\n",
      "Epoch 138/150\n",
      "1/1 [==============================] - 0s 999us/step - loss: 0.0879 - mae: 0.0879\n",
      "Epoch 139/150\n",
      "1/1 [==============================] - 0s 997us/step - loss: 0.1899 - mae: 0.1899\n",
      "Epoch 140/150\n",
      "1/1 [==============================] - 0s 2ms/step - loss: 0.2065 - mae: 0.2065\n",
      "Epoch 141/150\n",
      "1/1 [==============================] - 0s 2ms/step - loss: 0.0272 - mae: 0.0272\n",
      "Epoch 142/150\n",
      "1/1 [==============================] - 0s 2ms/step - loss: 0.0507 - mae: 0.0507\n",
      "Epoch 143/150\n",
      "1/1 [==============================] - 0s 999us/step - loss: 0.1173 - mae: 0.1173\n",
      "Epoch 144/150\n",
      "1/1 [==============================] - 0s 998us/step - loss: 0.0804 - mae: 0.0804\n",
      "Epoch 145/150\n",
      "1/1 [==============================] - 0s 2ms/step - loss: 0.1234 - mae: 0.1234\n",
      "Epoch 146/150\n",
      "1/1 [==============================] - 0s 998us/step - loss: 0.0745 - mae: 0.0745\n",
      "Epoch 147/150\n",
      "1/1 [==============================] - 0s 2ms/step - loss: 0.1771 - mae: 0.1771\n",
      "Epoch 148/150\n",
      "1/1 [==============================] - 0s 997us/step - loss: 0.1748 - mae: 0.1748\n",
      "Epoch 149/150\n",
      "1/1 [==============================] - 0s 2ms/step - loss: 0.0781 - mae: 0.0781\n",
      "Epoch 150/150\n",
      "1/1 [==============================] - 0s 996us/step - loss: 0.1117 - mae: 0.1117\n"
     ]
    },
    {
     "data": {
      "text/plain": [
       "<tensorflow.python.keras.callbacks.History at 0x1876c49dec8>"
      ]
     },
     "execution_count": 94,
     "metadata": {},
     "output_type": "execute_result"
    }
   ],
   "source": [
    "#Create another model\n",
    "\n",
    "#1. Create model\n",
    "model = tf.keras.Sequential()\n",
    "model.add(tf.keras.layers.Dense(50,activation=None)) #Additional hidden layer added\n",
    "model.add(tf.keras.layers.Dense(1))\n",
    "\n",
    "#2.Compile model\n",
    "model.compile(loss=tf.keras.losses.MAE,\n",
    "             optimizer = tf.keras.optimizers.Adam(lr=0.01),\n",
    "             metrics=[\"mae\"])\n",
    "\n",
    "#3.Fit the model\n",
    "model.fit(X,y,epochs=150)"
   ]
  },
  {
   "cell_type": "code",
   "execution_count": 102,
   "metadata": {},
   "outputs": [
    {
     "data": {
      "text/plain": [
       "30"
      ]
     },
     "execution_count": 102,
     "metadata": {},
     "output_type": "execute_result"
    }
   ],
   "source": [
    "int(model.predict([21]))"
   ]
  },
  {
   "cell_type": "markdown",
   "metadata": {},
   "source": [
    "<b>NOTE : Common ways to improve a deep model :</b>\n",
    "1. Adding Layers\n",
    "2. Increasing number of hidden units\n",
    "3. Change the activation functions\n",
    "4. Change the optimization function\n",
    "5. Change the learning rate"
   ]
  },
  {
   "cell_type": "code",
   "execution_count": null,
   "metadata": {},
   "outputs": [],
   "source": []
  }
 ],
 "metadata": {
  "kernelspec": {
   "display_name": "Python 3",
   "language": "python",
   "name": "python3"
  },
  "language_info": {
   "codemirror_mode": {
    "name": "ipython",
    "version": 3
   },
   "file_extension": ".py",
   "mimetype": "text/x-python",
   "name": "python",
   "nbconvert_exporter": "python",
   "pygments_lexer": "ipython3",
   "version": "3.7.7"
  }
 },
 "nbformat": 4,
 "nbformat_minor": 4
}
