{
  "nbformat": 4,
  "nbformat_minor": 0,
  "metadata": {
    "colab": {
      "name": "Tensorflow Classfication Problem.ipynb",
      "provenance": [],
      "collapsed_sections": []
    },
    "kernelspec": {
      "name": "python3",
      "display_name": "Python 3"
    },
    "language_info": {
      "name": "python"
    },
    "accelerator": "GPU"
  },
  "cells": [
    {
      "cell_type": "markdown",
      "metadata": {
        "id": "BDC_4_fVLqy-"
      },
      "source": [
        "# Introduction to neural network classfication with Tensorflow\n",
        "\n",
        "A few types of classfication :\n",
        "* Binary Classfication\n",
        "* Multiclass Classfication\n",
        "* Multilabel Classfication"
      ]
    },
    {
      "cell_type": "markdown",
      "metadata": {
        "id": "hKSfsUX3L5Z7"
      },
      "source": [
        "# Create a data to view and fit"
      ]
    },
    {
      "cell_type": "code",
      "metadata": {
        "id": "U8apUpXhL81F"
      },
      "source": [
        "from sklearn.datasets import make_circles\n",
        "\n",
        "#Make 1000 samples\n",
        "n_samples = 1000\n",
        "\n",
        "#Create circules\n",
        "X,y = make_circles(n_samples,noise=0.03,random_state=42)\n"
      ],
      "execution_count": 2,
      "outputs": []
    },
    {
      "cell_type": "code",
      "metadata": {
        "colab": {
          "base_uri": "https://localhost:8080/"
        },
        "id": "a3u7qyx4M81p",
        "outputId": "321d2972-4d6e-4fe6-c283-3178b9ba1e18"
      },
      "source": [
        "X"
      ],
      "execution_count": 3,
      "outputs": [
        {
          "output_type": "execute_result",
          "data": {
            "text/plain": [
              "array([[ 0.75424625,  0.23148074],\n",
              "       [-0.75615888,  0.15325888],\n",
              "       [-0.81539193,  0.17328203],\n",
              "       ...,\n",
              "       [-0.13690036, -0.81001183],\n",
              "       [ 0.67036156, -0.76750154],\n",
              "       [ 0.28105665,  0.96382443]])"
            ]
          },
          "metadata": {
            "tags": []
          },
          "execution_count": 3
        }
      ]
    },
    {
      "cell_type": "code",
      "metadata": {
        "colab": {
          "base_uri": "https://localhost:8080/"
        },
        "id": "v0u3fMBRNLDh",
        "outputId": "ed7ed424-73aa-443e-b950-6a5b4e28b1cb"
      },
      "source": [
        "y"
      ],
      "execution_count": 4,
      "outputs": [
        {
          "output_type": "execute_result",
          "data": {
            "text/plain": [
              "array([1, 1, 1, 1, 0, 1, 1, 1, 1, 0, 1, 0, 1, 1, 1, 1, 0, 1, 1, 0, 1, 0,\n",
              "       0, 1, 0, 0, 0, 1, 1, 1, 0, 0, 1, 0, 0, 0, 1, 1, 1, 0, 0, 0, 0, 1,\n",
              "       0, 0, 1, 1, 0, 1, 1, 1, 0, 1, 0, 0, 1, 0, 0, 1, 0, 0, 1, 0, 1, 1,\n",
              "       1, 1, 0, 1, 0, 0, 1, 1, 0, 0, 1, 0, 1, 0, 1, 0, 0, 0, 0, 1, 1, 1,\n",
              "       1, 0, 0, 0, 1, 0, 1, 0, 1, 0, 0, 1, 1, 0, 1, 0, 1, 1, 1, 1, 0, 1,\n",
              "       1, 1, 1, 1, 0, 0, 0, 1, 1, 0, 1, 0, 1, 0, 0, 1, 1, 0, 1, 1, 1, 1,\n",
              "       0, 1, 1, 0, 0, 0, 0, 0, 0, 0, 1, 0, 1, 1, 1, 0, 1, 0, 1, 0, 1, 0,\n",
              "       1, 0, 0, 1, 0, 1, 1, 1, 1, 1, 1, 1, 0, 1, 0, 0, 0, 0, 0, 1, 0, 0,\n",
              "       0, 0, 1, 1, 0, 1, 0, 1, 1, 0, 0, 0, 1, 1, 1, 1, 1, 0, 0, 0, 0, 0,\n",
              "       1, 0, 0, 1, 1, 1, 1, 1, 0, 1, 0, 1, 0, 0, 1, 1, 1, 0, 1, 0, 1, 1,\n",
              "       0, 1, 1, 0, 1, 0, 1, 0, 1, 1, 0, 1, 0, 1, 0, 0, 0, 1, 0, 0, 0, 0,\n",
              "       1, 1, 0, 0, 0, 0, 0, 0, 0, 1, 1, 1, 0, 0, 1, 1, 1, 0, 1, 0, 0, 0,\n",
              "       0, 1, 1, 0, 1, 0, 0, 0, 1, 0, 1, 0, 0, 1, 0, 1, 1, 1, 0, 0, 0, 1,\n",
              "       0, 0, 0, 1, 1, 1, 1, 0, 0, 0, 1, 0, 0, 0, 1, 0, 0, 0, 1, 1, 0, 1,\n",
              "       1, 1, 1, 1, 1, 1, 0, 0, 0, 0, 1, 0, 0, 0, 0, 1, 1, 1, 0, 0, 1, 0,\n",
              "       1, 0, 1, 1, 0, 0, 1, 1, 1, 1, 0, 0, 0, 0, 0, 0, 1, 1, 0, 1, 0, 0,\n",
              "       1, 0, 0, 0, 0, 0, 0, 0, 0, 1, 0, 0, 0, 0, 1, 0, 0, 1, 0, 1, 0, 0,\n",
              "       0, 1, 0, 0, 1, 1, 0, 0, 1, 0, 0, 1, 1, 0, 1, 1, 0, 0, 1, 0, 1, 0,\n",
              "       0, 0, 1, 1, 0, 0, 1, 1, 1, 1, 1, 0, 0, 1, 1, 1, 1, 0, 1, 1, 1, 1,\n",
              "       1, 0, 0, 1, 0, 1, 0, 0, 0, 0, 1, 0, 0, 0, 0, 0, 0, 0, 0, 0, 1, 1,\n",
              "       0, 1, 1, 1, 1, 1, 1, 0, 1, 1, 1, 1, 0, 0, 0, 1, 1, 1, 0, 0, 0, 0,\n",
              "       1, 1, 0, 0, 0, 0, 1, 0, 0, 0, 1, 0, 0, 1, 1, 1, 1, 1, 1, 0, 0, 0,\n",
              "       1, 0, 0, 0, 0, 0, 1, 1, 1, 0, 0, 0, 0, 0, 1, 1, 1, 0, 0, 1, 1, 1,\n",
              "       1, 0, 1, 1, 0, 1, 0, 0, 0, 1, 0, 0, 1, 0, 0, 1, 1, 0, 0, 1, 1, 0,\n",
              "       1, 0, 1, 0, 1, 0, 1, 0, 0, 0, 1, 0, 0, 0, 0, 0, 0, 1, 1, 1, 1, 0,\n",
              "       0, 0, 1, 0, 1, 1, 0, 0, 0, 0, 0, 1, 1, 1, 0, 0, 1, 0, 0, 1, 0, 0,\n",
              "       1, 0, 0, 1, 0, 0, 0, 1, 0, 0, 1, 1, 1, 0, 1, 1, 0, 0, 0, 1, 1, 1,\n",
              "       1, 0, 0, 1, 1, 1, 0, 0, 0, 0, 1, 1, 0, 0, 1, 1, 0, 0, 1, 1, 1, 1,\n",
              "       1, 1, 1, 0, 1, 0, 1, 0, 0, 1, 0, 1, 1, 1, 1, 0, 0, 1, 1, 0, 0, 1,\n",
              "       0, 1, 0, 0, 0, 1, 0, 0, 1, 1, 1, 1, 0, 1, 1, 1, 1, 1, 1, 1, 0, 1,\n",
              "       0, 1, 1, 1, 0, 0, 1, 0, 0, 0, 1, 1, 1, 1, 0, 0, 0, 0, 1, 0, 1, 1,\n",
              "       1, 0, 1, 0, 0, 1, 0, 0, 1, 1, 1, 1, 1, 0, 1, 0, 0, 0, 1, 1, 1, 1,\n",
              "       1, 0, 0, 0, 1, 1, 1, 1, 0, 0, 0, 0, 0, 1, 1, 0, 1, 0, 1, 0, 0, 0,\n",
              "       0, 0, 0, 0, 0, 0, 1, 1, 1, 1, 1, 0, 1, 0, 1, 1, 1, 1, 0, 1, 1, 1,\n",
              "       1, 1, 1, 1, 1, 0, 1, 1, 0, 1, 0, 0, 0, 1, 0, 1, 1, 1, 0, 1, 1, 0,\n",
              "       1, 1, 0, 1, 0, 1, 1, 0, 0, 1, 1, 1, 0, 0, 0, 0, 1, 1, 0, 0, 1, 1,\n",
              "       1, 1, 1, 1, 1, 1, 1, 1, 1, 1, 1, 1, 0, 0, 1, 0, 1, 0, 1, 0, 1, 1,\n",
              "       1, 1, 1, 1, 0, 1, 0, 1, 1, 1, 0, 1, 1, 0, 0, 1, 0, 1, 1, 0, 0, 1,\n",
              "       1, 1, 1, 1, 1, 1, 1, 0, 1, 1, 1, 0, 1, 0, 0, 1, 1, 0, 0, 0, 1, 0,\n",
              "       0, 1, 0, 0, 0, 1, 0, 1, 0, 0, 0, 0, 1, 0, 1, 1, 1, 1, 0, 1, 0, 0,\n",
              "       0, 0, 0, 0, 1, 0, 1, 0, 1, 0, 1, 1, 1, 0, 1, 0, 1, 0, 0, 1, 1, 1,\n",
              "       0, 0, 0, 1, 1, 0, 1, 0, 1, 1, 0, 1, 0, 0, 1, 1, 1, 0, 0, 0, 1, 1,\n",
              "       0, 0, 0, 0, 0, 1, 1, 0, 1, 0, 0, 0, 1, 0, 0, 0, 1, 1, 1, 1, 0, 1,\n",
              "       1, 1, 0, 1, 1, 1, 1, 0, 1, 1, 0, 1, 1, 0, 0, 1, 1, 1, 0, 0, 0, 0,\n",
              "       0, 0, 1, 0, 0, 1, 0, 0, 0, 1, 0, 1, 0, 1, 1, 0, 0, 0, 0, 0, 0, 0,\n",
              "       0, 1, 0, 1, 0, 0, 0, 1, 0, 0])"
            ]
          },
          "metadata": {
            "tags": []
          },
          "execution_count": 4
        }
      ]
    },
    {
      "cell_type": "markdown",
      "metadata": {
        "id": "3zshcnjyNL7m"
      },
      "source": [
        "This is a binary classification\n",
        "\n",
        "Let's visualise the data"
      ]
    },
    {
      "cell_type": "code",
      "metadata": {
        "colab": {
          "base_uri": "https://localhost:8080/",
          "height": 406
        },
        "id": "hRw3e3RZNdNb",
        "outputId": "6be13454-ec7e-4991-e06c-340c940ac915"
      },
      "source": [
        "import pandas as pd\n",
        "circles = pd.DataFrame({\"X0\":X[:,0],\"X1\":X[:,1], \"label\":y})\n",
        "circles"
      ],
      "execution_count": 5,
      "outputs": [
        {
          "output_type": "execute_result",
          "data": {
            "text/html": [
              "<div>\n",
              "<style scoped>\n",
              "    .dataframe tbody tr th:only-of-type {\n",
              "        vertical-align: middle;\n",
              "    }\n",
              "\n",
              "    .dataframe tbody tr th {\n",
              "        vertical-align: top;\n",
              "    }\n",
              "\n",
              "    .dataframe thead th {\n",
              "        text-align: right;\n",
              "    }\n",
              "</style>\n",
              "<table border=\"1\" class=\"dataframe\">\n",
              "  <thead>\n",
              "    <tr style=\"text-align: right;\">\n",
              "      <th></th>\n",
              "      <th>X0</th>\n",
              "      <th>X1</th>\n",
              "      <th>label</th>\n",
              "    </tr>\n",
              "  </thead>\n",
              "  <tbody>\n",
              "    <tr>\n",
              "      <th>0</th>\n",
              "      <td>0.754246</td>\n",
              "      <td>0.231481</td>\n",
              "      <td>1</td>\n",
              "    </tr>\n",
              "    <tr>\n",
              "      <th>1</th>\n",
              "      <td>-0.756159</td>\n",
              "      <td>0.153259</td>\n",
              "      <td>1</td>\n",
              "    </tr>\n",
              "    <tr>\n",
              "      <th>2</th>\n",
              "      <td>-0.815392</td>\n",
              "      <td>0.173282</td>\n",
              "      <td>1</td>\n",
              "    </tr>\n",
              "    <tr>\n",
              "      <th>3</th>\n",
              "      <td>-0.393731</td>\n",
              "      <td>0.692883</td>\n",
              "      <td>1</td>\n",
              "    </tr>\n",
              "    <tr>\n",
              "      <th>4</th>\n",
              "      <td>0.442208</td>\n",
              "      <td>-0.896723</td>\n",
              "      <td>0</td>\n",
              "    </tr>\n",
              "    <tr>\n",
              "      <th>...</th>\n",
              "      <td>...</td>\n",
              "      <td>...</td>\n",
              "      <td>...</td>\n",
              "    </tr>\n",
              "    <tr>\n",
              "      <th>995</th>\n",
              "      <td>0.244054</td>\n",
              "      <td>0.944125</td>\n",
              "      <td>0</td>\n",
              "    </tr>\n",
              "    <tr>\n",
              "      <th>996</th>\n",
              "      <td>-0.978655</td>\n",
              "      <td>-0.272373</td>\n",
              "      <td>0</td>\n",
              "    </tr>\n",
              "    <tr>\n",
              "      <th>997</th>\n",
              "      <td>-0.136900</td>\n",
              "      <td>-0.810012</td>\n",
              "      <td>1</td>\n",
              "    </tr>\n",
              "    <tr>\n",
              "      <th>998</th>\n",
              "      <td>0.670362</td>\n",
              "      <td>-0.767502</td>\n",
              "      <td>0</td>\n",
              "    </tr>\n",
              "    <tr>\n",
              "      <th>999</th>\n",
              "      <td>0.281057</td>\n",
              "      <td>0.963824</td>\n",
              "      <td>0</td>\n",
              "    </tr>\n",
              "  </tbody>\n",
              "</table>\n",
              "<p>1000 rows × 3 columns</p>\n",
              "</div>"
            ],
            "text/plain": [
              "           X0        X1  label\n",
              "0    0.754246  0.231481      1\n",
              "1   -0.756159  0.153259      1\n",
              "2   -0.815392  0.173282      1\n",
              "3   -0.393731  0.692883      1\n",
              "4    0.442208 -0.896723      0\n",
              "..        ...       ...    ...\n",
              "995  0.244054  0.944125      0\n",
              "996 -0.978655 -0.272373      0\n",
              "997 -0.136900 -0.810012      1\n",
              "998  0.670362 -0.767502      0\n",
              "999  0.281057  0.963824      0\n",
              "\n",
              "[1000 rows x 3 columns]"
            ]
          },
          "metadata": {
            "tags": []
          },
          "execution_count": 5
        }
      ]
    },
    {
      "cell_type": "code",
      "metadata": {
        "colab": {
          "base_uri": "https://localhost:8080/",
          "height": 282
        },
        "id": "NzvZFdUTOUVL",
        "outputId": "e3b0f91f-7473-4197-bc6a-8ba46dc0e5ad"
      },
      "source": [
        "import matplotlib.pyplot as plt\n",
        "plt.scatter(X[:,0],X[:,1],c=y,cmap=plt.cm.RdYlBu)"
      ],
      "execution_count": 6,
      "outputs": [
        {
          "output_type": "execute_result",
          "data": {
            "text/plain": [
              "<matplotlib.collections.PathCollection at 0x7feafccd58d0>"
            ]
          },
          "metadata": {
            "tags": []
          },
          "execution_count": 6
        },
        {
          "output_type": "display_data",
          "data": {
            "image/png": "[encoded data removed]",
            "text/plain": [
              "<Figure size 432x288 with 1 Axes>"
            ]
          },
          "metadata": {
            "tags": [],
            "needs_background": "light"
          }
        }
      ]
    },
    {
      "cell_type": "code",
      "metadata": {
        "colab": {
          "base_uri": "https://localhost:8080/"
        },
        "id": "s13gBrXVSa6N",
        "outputId": "2af4e51c-5618-47dd-caaa-4b882ade7e38"
      },
      "source": [
        "#Check the shapes of our features and labels\n",
        "X.shape , y.shape"
      ],
      "execution_count": 7,
      "outputs": [
        {
          "output_type": "execute_result",
          "data": {
            "text/plain": [
              "((1000, 2), (1000,))"
            ]
          },
          "metadata": {
            "tags": []
          },
          "execution_count": 7
        }
      ]
    },
    {
      "cell_type": "code",
      "metadata": {
        "colab": {
          "base_uri": "https://localhost:8080/"
        },
        "id": "zqvgQWqwTuCw",
        "outputId": "73f8b201-7190-4a82-8544-28098fb77c6a"
      },
      "source": [
        "#Number of samples\n",
        "len(X), len(y)"
      ],
      "execution_count": 8,
      "outputs": [
        {
          "output_type": "execute_result",
          "data": {
            "text/plain": [
              "(1000, 1000)"
            ]
          },
          "metadata": {
            "tags": []
          },
          "execution_count": 8
        }
      ]
    },
    {
      "cell_type": "markdown",
      "metadata": {
        "id": "MgaPkoeMT0j3"
      },
      "source": [
        "# Steps in modelling the above problem \n",
        "i.e. classify the blue and red dots"
      ]
    },
    {
      "cell_type": "markdown",
      "metadata": {
        "id": "tnoepiQEUJKP"
      },
      "source": [
        "1. **Creating a model** - piece together the layers of a neural network yourself (using the [functional](https://www.tensorflow.org/guide/keras/functional) or [sequential API](https://www.tensorflow.org/api_docs/python/tf/keras/Sequential)) or import a previously built model (known as transfer learning).\n",
        "2. **Compiling a model** - defining how a model's performance should be measured (loss/metrics) as well as defining how it should improve (optimizer). \n",
        "3. **Fitting a model** - letting the model try to find patterns in the data (how does `X` get to `y`). \n"
      ]
    },
    {
      "cell_type": "markdown",
      "metadata": {
        "id": "6h-tH_GiYtau"
      },
      "source": [
        "| **Hyperparameter** | **Binary Classification** | **Multiclass classification** |\n",
        "| --- | --- | --- |\n",
        "| Input layer shape | Same as number of features (e.g. 5 for age, sex, height, weight, smoking status in heart disease prediction) | Same as binary classification |\n",
        "| Hidden layer(s) | Problem specific, minimum = 1, maximum = unlimited | Same as binary classification |\n",
        "| Neurons per hidden layer | Problem specific, generally 10 to 100 | Same as binary classification |\n",
        "| Output layer shape | 1 (one class or the other) | 1 per class (e.g. 3 for food, person or dog photo) |\n",
        "| Hidden activation | Usually [ReLU](https://www.kaggle.com/dansbecker/rectified-linear-units-relu-in-deep-learning) (rectified linear unit) | Same as binary classification |\n",
        "| Output activation | [Sigmoid](https://en.wikipedia.org/wiki/Sigmoid_function) | [Softmax](https://en.wikipedia.org/wiki/Softmax_function) |\n",
        "| Loss function | [Cross entropy](https://en.wikipedia.org/wiki/Cross_entropy#Cross-entropy_loss_function_and_logistic_regression) ([`tf.keras.losses.BinaryCrossentropy`](https://www.tensorflow.org/api_docs/python/tf/keras/losses/BinaryCrossentropy) in TensorFlow) | Cross entropy ([`tf.keras.losses.CategoricalCrossentropy`](https://www.tensorflow.org/api_docs/python/tf/keras/losses/CategoricalCrossentropy) in TensorFlow) |\n",
        "| Optimizer | [SGD](https://www.tensorflow.org/api_docs/python/tf/keras/optimizers/SGD) (stochastic gradient descent), [Adam](https://www.tensorflow.org/api_docs/python/tf/keras/optimizers/Adam) | Same as binary classification |\n",
        "\n",
        "***Table 1:*** *Typical architecture of a classification network.* ***Source:*** *Adapted from page 295 of [Hands-On Machine Learning with Scikit-Learn, Keras & TensorFlow Book by Aurélien Géron](https://www.oreilly.com/library/view/hands-on-machine-learning/9781492032632/)"
      ]
    },
    {
      "cell_type": "code",
      "metadata": {
        "id": "jm58vdg6YE4D"
      },
      "source": [
        "import tensorflow as tf"
      ],
      "execution_count": 9,
      "outputs": []
    },
    {
      "cell_type": "code",
      "metadata": {
        "colab": {
          "base_uri": "https://localhost:8080/"
        },
        "id": "OHATh2FdYOJU",
        "outputId": "bf156593-56bc-4e2c-fe65-ea2b25f80d3f"
      },
      "source": [
        "tf.random.set_seed(42)\n",
        "\n",
        "#1. Create a model\n",
        "model_1 = tf.keras.models.Sequential()\n",
        "model_1.add(tf.keras.layers.Dense(1))\n",
        "\n",
        "#2. Compile model\n",
        "model_1.compile(loss = tf.keras.losses.BinaryCrossentropy(),\n",
        "                optimizer = tf.keras.optimizers.SGD(),\n",
        "                metrics=['accuracy'])\n",
        "\n",
        "#3. Fit the model\n",
        "model_1.fit(X,y,epochs = 200)"
      ],
      "execution_count": 10,
      "outputs": [
        {
          "output_type": "stream",
          "text": [
            "Epoch 1/200\n",
            "32/32 [==============================] - 3s 2ms/step - loss: 2.8544 - accuracy: 0.4600\n",
            "Epoch 2/200\n",
            "32/32 [==============================] - 0s 2ms/step - loss: 0.7131 - accuracy: 0.5430\n",
            "Epoch 3/200\n",
            "32/32 [==============================] - 0s 2ms/step - loss: 0.6973 - accuracy: 0.5090\n",
            "Epoch 4/200\n",
            "32/32 [==============================] - 0s 2ms/step - loss: 0.6950 - accuracy: 0.5010\n",
            "Epoch 5/200\n",
            "32/32 [==============================] - 0s 2ms/step - loss: 0.6942 - accuracy: 0.4830\n",
            "Epoch 6/200\n",
            "32/32 [==============================] - 0s 2ms/step - loss: 0.6938 - accuracy: 0.4990\n",
            "Epoch 7/200\n",
            "32/32 [==============================] - 0s 2ms/step - loss: 0.6943 - accuracy: 0.4880\n",
            "Epoch 8/200\n",
            "32/32 [==============================] - 0s 2ms/step - loss: 0.6941 - accuracy: 0.4950\n",
            "Epoch 9/200\n",
            "32/32 [==============================] - 0s 2ms/step - loss: 0.6940 - accuracy: 0.4840\n",
            "Epoch 10/200\n",
            "32/32 [==============================] - 0s 2ms/step - loss: 0.6938 - accuracy: 0.4820\n",
            "Epoch 11/200\n",
            "32/32 [==============================] - 0s 2ms/step - loss: 0.6944 - accuracy: 0.4640\n",
            "Epoch 12/200\n",
            "32/32 [==============================] - 0s 2ms/step - loss: 0.6945 - accuracy: 0.4800\n",
            "Epoch 13/200\n",
            "32/32 [==============================] - 0s 2ms/step - loss: 0.6943 - accuracy: 0.4830\n",
            "Epoch 14/200\n",
            "32/32 [==============================] - 0s 2ms/step - loss: 0.6944 - accuracy: 0.5030\n",
            "Epoch 15/200\n",
            "32/32 [==============================] - 0s 2ms/step - loss: 0.6941 - accuracy: 0.4510\n",
            "Epoch 16/200\n",
            "32/32 [==============================] - 0s 2ms/step - loss: 0.6944 - accuracy: 0.4880\n",
            "Epoch 17/200\n",
            "32/32 [==============================] - 0s 2ms/step - loss: 0.6941 - accuracy: 0.4910\n",
            "Epoch 18/200\n",
            "32/32 [==============================] - 0s 2ms/step - loss: 0.6940 - accuracy: 0.4760\n",
            "Epoch 19/200\n",
            "32/32 [==============================] - 0s 2ms/step - loss: 0.6941 - accuracy: 0.4820\n",
            "Epoch 20/200\n",
            "32/32 [==============================] - 0s 2ms/step - loss: 0.6941 - accuracy: 0.4560\n",
            "Epoch 21/200\n",
            "32/32 [==============================] - 0s 2ms/step - loss: 0.6939 - accuracy: 0.4900\n",
            "Epoch 22/200\n",
            "32/32 [==============================] - 0s 2ms/step - loss: 0.6942 - accuracy: 0.4690\n",
            "Epoch 23/200\n",
            "32/32 [==============================] - 0s 2ms/step - loss: 0.6940 - accuracy: 0.4840\n",
            "Epoch 24/200\n",
            "32/32 [==============================] - 0s 2ms/step - loss: 0.6942 - accuracy: 0.4680\n",
            "Epoch 25/200\n",
            "32/32 [==============================] - 0s 2ms/step - loss: 0.6939 - accuracy: 0.4890\n",
            "Epoch 26/200\n",
            "32/32 [==============================] - 0s 2ms/step - loss: 0.6943 - accuracy: 0.4740\n",
            "Epoch 27/200\n",
            "32/32 [==============================] - 0s 2ms/step - loss: 0.6938 - accuracy: 0.5060\n",
            "Epoch 28/200\n",
            "32/32 [==============================] - 0s 2ms/step - loss: 0.6943 - accuracy: 0.4690\n",
            "Epoch 29/200\n",
            "32/32 [==============================] - 0s 2ms/step - loss: 0.6942 - accuracy: 0.4620\n",
            "Epoch 30/200\n",
            "32/32 [==============================] - 0s 2ms/step - loss: 0.6941 - accuracy: 0.4870\n",
            "Epoch 31/200\n",
            "32/32 [==============================] - 0s 2ms/step - loss: 0.6942 - accuracy: 0.5230\n",
            "Epoch 32/200\n",
            "32/32 [==============================] - 0s 2ms/step - loss: 0.6941 - accuracy: 0.4670\n",
            "Epoch 33/200\n",
            "32/32 [==============================] - 0s 2ms/step - loss: 0.6942 - accuracy: 0.4760\n",
            "Epoch 34/200\n",
            "32/32 [==============================] - 0s 2ms/step - loss: 0.6946 - accuracy: 0.4590\n",
            "Epoch 35/200\n",
            "32/32 [==============================] - 0s 2ms/step - loss: 0.6941 - accuracy: 0.5010\n",
            "Epoch 36/200\n",
            "32/32 [==============================] - 0s 2ms/step - loss: 0.6943 - accuracy: 0.4710\n",
            "Epoch 37/200\n",
            "32/32 [==============================] - 0s 2ms/step - loss: 0.6940 - accuracy: 0.5020\n",
            "Epoch 38/200\n",
            "32/32 [==============================] - 0s 2ms/step - loss: 0.6940 - accuracy: 0.4670\n",
            "Epoch 39/200\n",
            "32/32 [==============================] - 0s 2ms/step - loss: 0.6941 - accuracy: 0.4350\n",
            "Epoch 40/200\n",
            "32/32 [==============================] - 0s 2ms/step - loss: 0.6948 - accuracy: 0.4720\n",
            "Epoch 41/200\n",
            "32/32 [==============================] - 0s 2ms/step - loss: 0.6941 - accuracy: 0.4730\n",
            "Epoch 42/200\n",
            "32/32 [==============================] - 0s 2ms/step - loss: 0.6941 - accuracy: 0.4640\n",
            "Epoch 43/200\n",
            "32/32 [==============================] - 0s 2ms/step - loss: 0.6942 - accuracy: 0.4850\n",
            "Epoch 44/200\n",
            "32/32 [==============================] - 0s 2ms/step - loss: 0.6935 - accuracy: 0.5080\n",
            "Epoch 45/200\n",
            "32/32 [==============================] - 0s 2ms/step - loss: 0.6944 - accuracy: 0.4710\n",
            "Epoch 46/200\n",
            "32/32 [==============================] - 0s 3ms/step - loss: 0.6942 - accuracy: 0.4850\n",
            "Epoch 47/200\n",
            "32/32 [==============================] - 0s 2ms/step - loss: 0.6939 - accuracy: 0.4940\n",
            "Epoch 48/200\n",
            "32/32 [==============================] - 0s 2ms/step - loss: 0.6939 - accuracy: 0.4900\n",
            "Epoch 49/200\n",
            "32/32 [==============================] - 0s 2ms/step - loss: 0.6941 - accuracy: 0.4770\n",
            "Epoch 50/200\n",
            "32/32 [==============================] - 0s 2ms/step - loss: 0.6941 - accuracy: 0.4980\n",
            "Epoch 51/200\n",
            "32/32 [==============================] - 0s 2ms/step - loss: 0.6942 - accuracy: 0.4820\n",
            "Epoch 52/200\n",
            "32/32 [==============================] - 0s 2ms/step - loss: 0.6941 - accuracy: 0.4890\n",
            "Epoch 53/200\n",
            "32/32 [==============================] - 0s 2ms/step - loss: 0.6939 - accuracy: 0.4690\n",
            "Epoch 54/200\n",
            "32/32 [==============================] - 0s 2ms/step - loss: 0.6943 - accuracy: 0.4920\n",
            "Epoch 55/200\n",
            "32/32 [==============================] - 0s 2ms/step - loss: 0.6942 - accuracy: 0.4970\n",
            "Epoch 56/200\n",
            "32/32 [==============================] - 0s 2ms/step - loss: 0.6940 - accuracy: 0.4800\n",
            "Epoch 57/200\n",
            "32/32 [==============================] - 0s 2ms/step - loss: 0.6944 - accuracy: 0.4710\n",
            "Epoch 58/200\n",
            "32/32 [==============================] - 0s 2ms/step - loss: 0.6942 - accuracy: 0.4870\n",
            "Epoch 59/200\n",
            "32/32 [==============================] - 0s 2ms/step - loss: 0.6939 - accuracy: 0.5030\n",
            "Epoch 60/200\n",
            "32/32 [==============================] - 0s 2ms/step - loss: 0.6942 - accuracy: 0.5060\n",
            "Epoch 61/200\n",
            "32/32 [==============================] - 0s 2ms/step - loss: 0.6944 - accuracy: 0.4990\n",
            "Epoch 62/200\n",
            "32/32 [==============================] - 0s 2ms/step - loss: 0.6941 - accuracy: 0.4760\n",
            "Epoch 63/200\n",
            "32/32 [==============================] - 0s 2ms/step - loss: 0.6940 - accuracy: 0.4690\n",
            "Epoch 64/200\n",
            "32/32 [==============================] - 0s 2ms/step - loss: 0.6942 - accuracy: 0.4930\n",
            "Epoch 65/200\n",
            "32/32 [==============================] - 0s 2ms/step - loss: 0.6943 - accuracy: 0.4690\n",
            "Epoch 66/200\n",
            "32/32 [==============================] - 0s 2ms/step - loss: 0.6940 - accuracy: 0.4770\n",
            "Epoch 67/200\n",
            "32/32 [==============================] - 0s 2ms/step - loss: 0.6945 - accuracy: 0.4670\n",
            "Epoch 68/200\n",
            "32/32 [==============================] - 0s 2ms/step - loss: 0.6939 - accuracy: 0.4680\n",
            "Epoch 69/200\n",
            "32/32 [==============================] - 0s 2ms/step - loss: 0.6943 - accuracy: 0.5070\n",
            "Epoch 70/200\n",
            "32/32 [==============================] - 0s 2ms/step - loss: 0.6943 - accuracy: 0.4630\n",
            "Epoch 71/200\n",
            "32/32 [==============================] - 0s 2ms/step - loss: 0.6939 - accuracy: 0.4820\n",
            "Epoch 72/200\n",
            "32/32 [==============================] - 0s 2ms/step - loss: 0.6942 - accuracy: 0.4890\n",
            "Epoch 73/200\n",
            "32/32 [==============================] - 0s 2ms/step - loss: 0.6941 - accuracy: 0.4760\n",
            "Epoch 74/200\n",
            "32/32 [==============================] - 0s 2ms/step - loss: 0.6940 - accuracy: 0.5090\n",
            "Epoch 75/200\n",
            "32/32 [==============================] - 0s 2ms/step - loss: 0.6941 - accuracy: 0.4940\n",
            "Epoch 76/200\n",
            "32/32 [==============================] - 0s 2ms/step - loss: 0.6940 - accuracy: 0.5010\n",
            "Epoch 77/200\n",
            "32/32 [==============================] - 0s 2ms/step - loss: 0.6942 - accuracy: 0.4870\n",
            "Epoch 78/200\n",
            "32/32 [==============================] - 0s 2ms/step - loss: 0.6941 - accuracy: 0.4610\n",
            "Epoch 79/200\n",
            "32/32 [==============================] - 0s 2ms/step - loss: 0.6940 - accuracy: 0.4860\n",
            "Epoch 80/200\n",
            "32/32 [==============================] - 0s 2ms/step - loss: 0.6943 - accuracy: 0.5050\n",
            "Epoch 81/200\n",
            "32/32 [==============================] - 0s 2ms/step - loss: 0.6943 - accuracy: 0.5050\n",
            "Epoch 82/200\n",
            "32/32 [==============================] - 0s 2ms/step - loss: 0.6941 - accuracy: 0.4690\n",
            "Epoch 83/200\n",
            "32/32 [==============================] - 0s 2ms/step - loss: 0.6941 - accuracy: 0.4930\n",
            "Epoch 84/200\n",
            "32/32 [==============================] - 0s 2ms/step - loss: 0.6942 - accuracy: 0.4960\n",
            "Epoch 85/200\n",
            "32/32 [==============================] - 0s 2ms/step - loss: 0.6939 - accuracy: 0.4930\n",
            "Epoch 86/200\n",
            "32/32 [==============================] - 0s 2ms/step - loss: 0.6940 - accuracy: 0.4880\n",
            "Epoch 87/200\n",
            "32/32 [==============================] - 0s 2ms/step - loss: 0.6942 - accuracy: 0.4720\n",
            "Epoch 88/200\n",
            "32/32 [==============================] - 0s 2ms/step - loss: 0.6944 - accuracy: 0.4470\n",
            "Epoch 89/200\n",
            "32/32 [==============================] - 0s 2ms/step - loss: 0.6945 - accuracy: 0.4720\n",
            "Epoch 90/200\n",
            "32/32 [==============================] - 0s 2ms/step - loss: 0.6941 - accuracy: 0.4820\n",
            "Epoch 91/200\n",
            "32/32 [==============================] - 0s 2ms/step - loss: 0.6944 - accuracy: 0.4860\n",
            "Epoch 92/200\n",
            "32/32 [==============================] - 0s 2ms/step - loss: 0.6941 - accuracy: 0.5050\n",
            "Epoch 93/200\n",
            "32/32 [==============================] - 0s 2ms/step - loss: 0.6941 - accuracy: 0.4720\n",
            "Epoch 94/200\n",
            "32/32 [==============================] - 0s 2ms/step - loss: 0.6946 - accuracy: 0.4770\n",
            "Epoch 95/200\n",
            "32/32 [==============================] - 0s 2ms/step - loss: 0.6940 - accuracy: 0.4760\n",
            "Epoch 96/200\n",
            "32/32 [==============================] - 0s 2ms/step - loss: 0.6945 - accuracy: 0.4610\n",
            "Epoch 97/200\n",
            "32/32 [==============================] - 0s 2ms/step - loss: 0.6942 - accuracy: 0.4690\n",
            "Epoch 98/200\n",
            "32/32 [==============================] - 0s 2ms/step - loss: 0.6942 - accuracy: 0.4840\n",
            "Epoch 99/200\n",
            "32/32 [==============================] - 0s 2ms/step - loss: 0.6944 - accuracy: 0.4980\n",
            "Epoch 100/200\n",
            "32/32 [==============================] - 0s 2ms/step - loss: 0.6943 - accuracy: 0.4850\n",
            "Epoch 101/200\n",
            "32/32 [==============================] - 0s 2ms/step - loss: 0.6939 - accuracy: 0.5060\n",
            "Epoch 102/200\n",
            "32/32 [==============================] - 0s 2ms/step - loss: 0.6946 - accuracy: 0.4750\n",
            "Epoch 103/200\n",
            "32/32 [==============================] - 0s 2ms/step - loss: 0.6944 - accuracy: 0.4760\n",
            "Epoch 104/200\n",
            "32/32 [==============================] - 0s 2ms/step - loss: 0.6941 - accuracy: 0.4900\n",
            "Epoch 105/200\n",
            "32/32 [==============================] - 0s 2ms/step - loss: 0.6939 - accuracy: 0.4960\n",
            "Epoch 106/200\n",
            "32/32 [==============================] - 0s 2ms/step - loss: 0.6940 - accuracy: 0.4950\n",
            "Epoch 107/200\n",
            "32/32 [==============================] - 0s 2ms/step - loss: 0.6938 - accuracy: 0.4690\n",
            "Epoch 108/200\n",
            "32/32 [==============================] - 0s 2ms/step - loss: 0.6943 - accuracy: 0.4940\n",
            "Epoch 109/200\n",
            "32/32 [==============================] - 0s 2ms/step - loss: 0.6942 - accuracy: 0.4510\n",
            "Epoch 110/200\n",
            "32/32 [==============================] - 0s 2ms/step - loss: 0.6944 - accuracy: 0.4570\n",
            "Epoch 111/200\n",
            "32/32 [==============================] - 0s 2ms/step - loss: 0.6943 - accuracy: 0.4820\n",
            "Epoch 112/200\n",
            "32/32 [==============================] - 0s 2ms/step - loss: 0.6946 - accuracy: 0.4770\n",
            "Epoch 113/200\n",
            "32/32 [==============================] - 0s 2ms/step - loss: 0.6944 - accuracy: 0.4740\n",
            "Epoch 114/200\n",
            "32/32 [==============================] - 0s 2ms/step - loss: 0.6944 - accuracy: 0.4660\n",
            "Epoch 115/200\n",
            "32/32 [==============================] - 0s 2ms/step - loss: 0.6941 - accuracy: 0.4690\n",
            "Epoch 116/200\n",
            "32/32 [==============================] - 0s 2ms/step - loss: 0.6942 - accuracy: 0.4830\n",
            "Epoch 117/200\n",
            "32/32 [==============================] - 0s 2ms/step - loss: 0.6943 - accuracy: 0.5000\n",
            "Epoch 118/200\n",
            "32/32 [==============================] - 0s 2ms/step - loss: 0.6939 - accuracy: 0.4990\n",
            "Epoch 119/200\n",
            "32/32 [==============================] - 0s 2ms/step - loss: 0.6944 - accuracy: 0.4750\n",
            "Epoch 120/200\n",
            "32/32 [==============================] - 0s 2ms/step - loss: 0.6940 - accuracy: 0.4980\n",
            "Epoch 121/200\n",
            "32/32 [==============================] - 0s 2ms/step - loss: 0.6942 - accuracy: 0.4740\n",
            "Epoch 122/200\n",
            "32/32 [==============================] - 0s 2ms/step - loss: 0.6941 - accuracy: 0.4920\n",
            "Epoch 123/200\n",
            "32/32 [==============================] - 0s 2ms/step - loss: 0.6944 - accuracy: 0.4640\n",
            "Epoch 124/200\n",
            "32/32 [==============================] - 0s 2ms/step - loss: 0.6943 - accuracy: 0.4660\n",
            "Epoch 125/200\n",
            "32/32 [==============================] - 0s 2ms/step - loss: 0.6940 - accuracy: 0.4800\n",
            "Epoch 126/200\n",
            "32/32 [==============================] - 0s 2ms/step - loss: 0.6941 - accuracy: 0.4960\n",
            "Epoch 127/200\n",
            "32/32 [==============================] - 0s 2ms/step - loss: 0.6942 - accuracy: 0.4760\n",
            "Epoch 128/200\n",
            "32/32 [==============================] - 0s 2ms/step - loss: 0.6943 - accuracy: 0.4920\n",
            "Epoch 129/200\n",
            "32/32 [==============================] - 0s 2ms/step - loss: 0.6939 - accuracy: 0.5100\n",
            "Epoch 130/200\n",
            "32/32 [==============================] - 0s 2ms/step - loss: 0.6936 - accuracy: 0.4840\n",
            "Epoch 131/200\n",
            "32/32 [==============================] - 0s 2ms/step - loss: 0.6944 - accuracy: 0.4780\n",
            "Epoch 132/200\n",
            "32/32 [==============================] - 0s 2ms/step - loss: 0.6939 - accuracy: 0.4760\n",
            "Epoch 133/200\n",
            "32/32 [==============================] - 0s 2ms/step - loss: 0.6942 - accuracy: 0.4800\n",
            "Epoch 134/200\n",
            "32/32 [==============================] - 0s 2ms/step - loss: 0.6944 - accuracy: 0.4740\n",
            "Epoch 135/200\n",
            "32/32 [==============================] - 0s 2ms/step - loss: 0.6943 - accuracy: 0.4670\n",
            "Epoch 136/200\n",
            "32/32 [==============================] - 0s 2ms/step - loss: 0.6944 - accuracy: 0.4590\n",
            "Epoch 137/200\n",
            "32/32 [==============================] - 0s 2ms/step - loss: 0.6943 - accuracy: 0.4840\n",
            "Epoch 138/200\n",
            "32/32 [==============================] - 0s 2ms/step - loss: 0.6943 - accuracy: 0.4610\n",
            "Epoch 139/200\n",
            "32/32 [==============================] - 0s 2ms/step - loss: 0.6942 - accuracy: 0.4810\n",
            "Epoch 140/200\n",
            "32/32 [==============================] - 0s 2ms/step - loss: 0.6942 - accuracy: 0.4610\n",
            "Epoch 141/200\n",
            "32/32 [==============================] - 0s 2ms/step - loss: 0.6941 - accuracy: 0.4630\n",
            "Epoch 142/200\n",
            "32/32 [==============================] - 0s 2ms/step - loss: 0.6941 - accuracy: 0.4790\n",
            "Epoch 143/200\n",
            "32/32 [==============================] - 0s 2ms/step - loss: 0.6943 - accuracy: 0.4790\n",
            "Epoch 144/200\n",
            "32/32 [==============================] - 0s 2ms/step - loss: 0.6943 - accuracy: 0.4650\n",
            "Epoch 145/200\n",
            "32/32 [==============================] - 0s 2ms/step - loss: 0.6943 - accuracy: 0.4990\n",
            "Epoch 146/200\n",
            "32/32 [==============================] - 0s 2ms/step - loss: 0.6945 - accuracy: 0.4570\n",
            "Epoch 147/200\n",
            "32/32 [==============================] - 0s 2ms/step - loss: 0.6943 - accuracy: 0.5110\n",
            "Epoch 148/200\n",
            "32/32 [==============================] - 0s 2ms/step - loss: 0.6943 - accuracy: 0.4880\n",
            "Epoch 149/200\n",
            "32/32 [==============================] - 0s 2ms/step - loss: 0.6941 - accuracy: 0.4500\n",
            "Epoch 150/200\n",
            "32/32 [==============================] - 0s 2ms/step - loss: 0.6943 - accuracy: 0.4700\n",
            "Epoch 151/200\n",
            "32/32 [==============================] - 0s 2ms/step - loss: 0.6938 - accuracy: 0.4620\n",
            "Epoch 152/200\n",
            "32/32 [==============================] - 0s 2ms/step - loss: 0.6940 - accuracy: 0.4990\n",
            "Epoch 153/200\n",
            "32/32 [==============================] - 0s 2ms/step - loss: 0.6942 - accuracy: 0.4870\n",
            "Epoch 154/200\n",
            "32/32 [==============================] - 0s 2ms/step - loss: 0.6936 - accuracy: 0.4810\n",
            "Epoch 155/200\n",
            "32/32 [==============================] - 0s 2ms/step - loss: 0.6944 - accuracy: 0.4780\n",
            "Epoch 156/200\n",
            "32/32 [==============================] - 0s 2ms/step - loss: 0.6944 - accuracy: 0.4680\n",
            "Epoch 157/200\n",
            "32/32 [==============================] - 0s 2ms/step - loss: 0.6944 - accuracy: 0.4990\n",
            "Epoch 158/200\n",
            "32/32 [==============================] - 0s 2ms/step - loss: 0.6940 - accuracy: 0.4940\n",
            "Epoch 159/200\n",
            "32/32 [==============================] - 0s 2ms/step - loss: 0.6943 - accuracy: 0.4710\n",
            "Epoch 160/200\n",
            "32/32 [==============================] - 0s 2ms/step - loss: 0.6943 - accuracy: 0.4880\n",
            "Epoch 161/200\n",
            "32/32 [==============================] - 0s 2ms/step - loss: 0.6942 - accuracy: 0.4770\n",
            "Epoch 162/200\n",
            "32/32 [==============================] - 0s 2ms/step - loss: 0.6943 - accuracy: 0.4920\n",
            "Epoch 163/200\n",
            "32/32 [==============================] - 0s 2ms/step - loss: 0.6946 - accuracy: 0.4690\n",
            "Epoch 164/200\n",
            "32/32 [==============================] - 0s 2ms/step - loss: 0.6943 - accuracy: 0.4610\n",
            "Epoch 165/200\n",
            "32/32 [==============================] - 0s 2ms/step - loss: 0.6939 - accuracy: 0.4970\n",
            "Epoch 166/200\n",
            "32/32 [==============================] - 0s 2ms/step - loss: 0.6942 - accuracy: 0.4800\n",
            "Epoch 167/200\n",
            "32/32 [==============================] - 0s 2ms/step - loss: 0.6948 - accuracy: 0.4930\n",
            "Epoch 168/200\n",
            "32/32 [==============================] - 0s 2ms/step - loss: 0.6941 - accuracy: 0.4690\n",
            "Epoch 169/200\n",
            "32/32 [==============================] - 0s 2ms/step - loss: 0.6940 - accuracy: 0.4880\n",
            "Epoch 170/200\n",
            "32/32 [==============================] - 0s 2ms/step - loss: 0.6938 - accuracy: 0.4850\n",
            "Epoch 171/200\n",
            "32/32 [==============================] - 0s 2ms/step - loss: 0.6939 - accuracy: 0.4980\n",
            "Epoch 172/200\n",
            "32/32 [==============================] - 0s 2ms/step - loss: 0.6942 - accuracy: 0.4770\n",
            "Epoch 173/200\n",
            "32/32 [==============================] - 0s 2ms/step - loss: 0.6942 - accuracy: 0.4730\n",
            "Epoch 174/200\n",
            "32/32 [==============================] - 0s 2ms/step - loss: 0.6943 - accuracy: 0.4950\n",
            "Epoch 175/200\n",
            "32/32 [==============================] - 0s 2ms/step - loss: 0.6946 - accuracy: 0.4900\n",
            "Epoch 176/200\n",
            "32/32 [==============================] - 0s 2ms/step - loss: 0.6942 - accuracy: 0.4770\n",
            "Epoch 177/200\n",
            "32/32 [==============================] - 0s 2ms/step - loss: 0.6941 - accuracy: 0.4670\n",
            "Epoch 178/200\n",
            "32/32 [==============================] - 0s 2ms/step - loss: 0.6941 - accuracy: 0.4840\n",
            "Epoch 179/200\n",
            "32/32 [==============================] - 0s 2ms/step - loss: 0.6943 - accuracy: 0.4880\n",
            "Epoch 180/200\n",
            "32/32 [==============================] - 0s 2ms/step - loss: 0.6942 - accuracy: 0.4960\n",
            "Epoch 181/200\n",
            "32/32 [==============================] - 0s 2ms/step - loss: 0.6943 - accuracy: 0.4890\n",
            "Epoch 182/200\n",
            "32/32 [==============================] - 0s 2ms/step - loss: 0.6941 - accuracy: 0.4760\n",
            "Epoch 183/200\n",
            "32/32 [==============================] - 0s 2ms/step - loss: 0.6942 - accuracy: 0.5030\n",
            "Epoch 184/200\n",
            "32/32 [==============================] - 0s 2ms/step - loss: 0.6943 - accuracy: 0.4890\n",
            "Epoch 185/200\n",
            "32/32 [==============================] - 0s 3ms/step - loss: 0.6944 - accuracy: 0.4890\n",
            "Epoch 186/200\n",
            "32/32 [==============================] - 0s 2ms/step - loss: 0.6945 - accuracy: 0.4810\n",
            "Epoch 187/200\n",
            "32/32 [==============================] - 0s 2ms/step - loss: 0.6943 - accuracy: 0.4760\n",
            "Epoch 188/200\n",
            "32/32 [==============================] - 0s 2ms/step - loss: 0.6943 - accuracy: 0.4910\n",
            "Epoch 189/200\n",
            "32/32 [==============================] - 0s 2ms/step - loss: 0.6940 - accuracy: 0.5120\n",
            "Epoch 190/200\n",
            "32/32 [==============================] - 0s 2ms/step - loss: 0.6943 - accuracy: 0.4720\n",
            "Epoch 191/200\n",
            "32/32 [==============================] - 0s 2ms/step - loss: 0.6941 - accuracy: 0.4770\n",
            "Epoch 192/200\n",
            "32/32 [==============================] - 0s 2ms/step - loss: 0.6940 - accuracy: 0.4970\n",
            "Epoch 193/200\n",
            "32/32 [==============================] - 0s 2ms/step - loss: 0.6939 - accuracy: 0.4720\n",
            "Epoch 194/200\n",
            "32/32 [==============================] - 0s 2ms/step - loss: 0.6941 - accuracy: 0.4940\n",
            "Epoch 195/200\n",
            "32/32 [==============================] - 0s 2ms/step - loss: 0.6942 - accuracy: 0.4660\n",
            "Epoch 196/200\n",
            "32/32 [==============================] - 0s 2ms/step - loss: 0.6943 - accuracy: 0.4740\n",
            "Epoch 197/200\n",
            "32/32 [==============================] - 0s 2ms/step - loss: 0.6942 - accuracy: 0.4890\n",
            "Epoch 198/200\n",
            "32/32 [==============================] - 0s 2ms/step - loss: 0.6943 - accuracy: 0.4830\n",
            "Epoch 199/200\n",
            "32/32 [==============================] - 0s 2ms/step - loss: 0.6937 - accuracy: 0.5120\n",
            "Epoch 200/200\n",
            "32/32 [==============================] - 0s 2ms/step - loss: 0.6941 - accuracy: 0.4810\n"
          ],
          "name": "stdout"
        },
        {
          "output_type": "execute_result",
          "data": {
            "text/plain": [
              "<tensorflow.python.keras.callbacks.History at 0x7feac1a0cf10>"
            ]
          },
          "metadata": {
            "tags": []
          },
          "execution_count": 10
        }
      ]
    },
    {
      "cell_type": "code",
      "metadata": {
        "colab": {
          "base_uri": "https://localhost:8080/",
          "height": 282
        },
        "id": "TZxEwJFmZvfi",
        "outputId": "75e2f601-0160-4c1a-dc0a-f4f388b1b7ee"
      },
      "source": [
        "circles[\"label\"].hist()"
      ],
      "execution_count": 11,
      "outputs": [
        {
          "output_type": "execute_result",
          "data": {
            "text/plain": [
              "<matplotlib.axes._subplots.AxesSubplot at 0x7fea74124ed0>"
            ]
          },
          "metadata": {
            "tags": []
          },
          "execution_count": 11
        },
        {
          "output_type": "display_data",
          "data": {
            "image/png": "[encoded data removed]",
            "text/plain": [
              "<Figure size 432x288 with 1 Axes>"
            ]
          },
          "metadata": {
            "tags": [],
            "needs_background": "light"
          }
        }
      ]
    },
    {
      "cell_type": "code",
      "metadata": {
        "id": "ocBQB3Y1bdAm"
      },
      "source": [
        "import numpy as np\n",
        "\n",
        "def plot_decision_boundary(model, X, y):\n",
        "  \"\"\"\n",
        "  Plots the decision boundary created by a model predicting on X.\n",
        "  This function has been adapted from two phenomenal resources:\n",
        "   1. CS231n - https://cs231n.github.io/neural-networks-case-study/\n",
        "   2. Made with ML basics - https://github.com/madewithml/basics/blob/master/notebooks/09_Multilayer_Perceptrons/09_TF_Multilayer_Perceptrons.ipynb\n",
        "  \"\"\"\n",
        "  # Define the axis boundaries of the plot and create a meshgrid\n",
        "  x_min, x_max = X[:, 0].min() - 0.1, X[:, 0].max() + 0.1\n",
        "  y_min, y_max = X[:, 1].min() - 0.1, X[:, 1].max() + 0.1\n",
        "  xx, yy = np.meshgrid(np.linspace(x_min, x_max, 100),\n",
        "                       np.linspace(y_min, y_max, 100))\n",
        "  \n",
        "  # Create X values (we're going to predict on all of these)\n",
        "  x_in = np.c_[xx.ravel(), yy.ravel()] # stack 2D arrays together: https://numpy.org/devdocs/reference/generated/numpy.c_.html\n",
        "  \n",
        "  # Make predictions using the trained model\n",
        "  y_pred = model.predict(x_in)\n",
        "\n",
        "  # Check for multi-class\n",
        "  if len(y_pred[0]) > 1:\n",
        "    print(\"doing multiclass classification...\")\n",
        "    # We have to reshape our predictions to get them ready for plotting\n",
        "    y_pred = np.argmax(y_pred, axis=1).reshape(xx.shape)\n",
        "  else:\n",
        "    print(\"doing binary classifcation...\")\n",
        "    y_pred = np.round(y_pred).reshape(xx.shape)\n",
        "  \n",
        "  # Plot decision boundary\n",
        "  plt.contourf(xx, yy, y_pred, cmap=plt.cm.RdYlBu, alpha=0.7)\n",
        "  plt.scatter(X[:, 0], X[:, 1], c=y, s=40, cmap=plt.cm.RdYlBu)\n",
        "  plt.xlim(xx.min(), xx.max())\n",
        "  plt.ylim(yy.min(), yy.max())"
      ],
      "execution_count": 12,
      "outputs": []
    },
    {
      "cell_type": "code",
      "metadata": {
        "colab": {
          "base_uri": "https://localhost:8080/",
          "height": 282
        },
        "id": "-duHjZzIQO5D",
        "outputId": "e5b23d77-1e75-4c14-81c7-2b9994e2b0b8"
      },
      "source": [
        "# Check out the predictions our model is making \n",
        "plot_decision_boundary(model_1, X, y)"
      ],
      "execution_count": 13,
      "outputs": [
        {
          "output_type": "stream",
          "text": [
            "doing binary classifcation...\n"
          ],
          "name": "stdout"
        },
        {
          "output_type": "display_data",
          "data": {
            "image/png": "[encoded data removed]",
            "text/plain": [
              "<Figure size 432x288 with 1 Axes>"
            ]
          },
          "metadata": {
            "tags": [],
            "needs_background": "light"
          }
        }
      ]
    },
    {
      "cell_type": "code",
      "metadata": {
        "colab": {
          "base_uri": "https://localhost:8080/"
        },
        "id": "JH1RTa0mQPxu",
        "outputId": "492d6930-09e3-4ff9-926e-536c133b7ae4"
      },
      "source": [
        "# Set random seed\n",
        "tf.random.set_seed(42)\n",
        "\n",
        "# 1. Create the model (this time 3 layers)\n",
        "model_3 = tf.keras.Sequential([\n",
        "  tf.keras.layers.Dense(100), # add 100 dense neurons\n",
        "  tf.keras.layers.Dense(10), # add another layer with 10 neurons\n",
        "  tf.keras.layers.Dense(1)\n",
        "])\n",
        "\n",
        "# 2. Compile the model\n",
        "model_3.compile(loss=tf.keras.losses.BinaryCrossentropy(),\n",
        "                optimizer=tf.keras.optimizers.Adam(), # use Adam instead of SGD\n",
        "                metrics=['accuracy'])\n",
        "\n",
        "# 3. Fit the model\n",
        "model_3.fit(X, y, epochs=100, verbose=0) # fit for 100 passes of the data"
      ],
      "execution_count": 14,
      "outputs": [
        {
          "output_type": "execute_result",
          "data": {
            "text/plain": [
              "<tensorflow.python.keras.callbacks.History at 0x7fea6643a310>"
            ]
          },
          "metadata": {
            "tags": []
          },
          "execution_count": 14
        }
      ]
    },
    {
      "cell_type": "code",
      "metadata": {
        "colab": {
          "base_uri": "https://localhost:8080/",
          "height": 282
        },
        "id": "lW0NJqOQQY0n",
        "outputId": "9e31d64b-64f0-4570-ddd0-7f650af75bd0"
      },
      "source": [
        "# Check out the predictions our model is making \n",
        "plot_decision_boundary(model_3, X, y)"
      ],
      "execution_count": 15,
      "outputs": [
        {
          "output_type": "stream",
          "text": [
            "doing binary classifcation...\n"
          ],
          "name": "stdout"
        },
        {
          "output_type": "display_data",
          "data": {
            "image/png": "[encoded data removed]",
            "text/plain": [
              "<Figure size 432x288 with 1 Axes>"
            ]
          },
          "metadata": {
            "tags": [],
            "needs_background": "light"
          }
        }
      ]
    },
    {
      "cell_type": "markdown",
      "metadata": {
        "id": "ZrfzokcrQooK"
      },
      "source": [
        "# The missing piece: Non-linearity\n",
        "\n",
        "Okay, so we saw our neural network can model straight lines (with ability a little bit better than guessing).\n",
        "\n",
        "What about non-straight (non-linear) lines?\n",
        "\n",
        "If we're going to model our classification data (the red and clue circles), we're going to need some non-linear lines.\n",
        "\n",
        "> 🔨 **Practice:** Before we get to the next steps, I'd encourage you to play around with the [TensorFlow Playground](https://playground.tensorflow.org/#activation=linear&batchSize=1&dataset=circle&regDataset=reg-plane&learningRate=0.01&regularizationRate=0&noise=0&networkShape=1&seed=0.09561&showTestData=false&discretize=false&percTrainData=70&x=true&y=true&xTimesY=false&xSquared=false&ySquared=false&cosX=false&sinX=false&cosY=false&sinY=false&collectStats=false&problem=classification&initZero=false&hideText=false&regularizationRate_hide=true&discretize_hide=true&regularization_hide=true&dataset_hide=true&noise_hide=true&batchSize_hide=true) (check out what the data has in common with our own classification data) for 10-minutes. In particular the tab which says \"activation\". Once you're done, come back.\n",
        "\n",
        "Did you try out the activation options? If so, what did you find?\n",
        "\n",
        "If you didn't, don't worry, let's see it in code.\n",
        "\n",
        "We're going to replicate the neural network you can see at this link: [TensorFlow Playground](https://playground.tensorflow.org/#activation=linear&batchSize=1&dataset=circle&regDataset=reg-plane&learningRate=0.01&regularizationRate=0&noise=0&networkShape=1&seed=0.09561&showTestData=false&discretize=false&percTrainData=70&x=true&y=true&xTimesY=false&xSquared=false&ySquared=false&cosX=false&sinX=false&cosY=false&sinY=false&collectStats=false&problem=classification&initZero=false&hideText=false&regularizationRate_hide=true&discretize_hide=true&regularization_hide=true&dataset_hide=true&noise_hide=true&batchSize_hide=true).\n",
        "\n",
        "![simple neural net created with TensorFlow playground](https://raw.githubusercontent.com/mrdbourke/tensorflow-deep-learning/main/images/02-tensorflow-playground-simple-net-linear-activation.png)\n",
        "*The neural network we're going to recreate with TensorFlow code. See it live at [TensorFlow Playground](https://playground.tensorflow.org/#activation=linear&batchSize=1&dataset=circle&regDataset=reg-plane&learningRate=0.01&regularizationRate=0&noise=0&networkShape=1&seed=0.09561&showTestData=false&discretize=false&percTrainData=70&x=true&y=true&xTimesY=false&xSquared=false&ySquared=false&cosX=false&sinX=false&cosY=false&sinY=false&collectStats=false&problem=classification&initZero=false&hideText=false&regularizationRate_hide=true&discretize_hide=true&regularization_hide=true&dataset_hide=true&noise_hide=true&batchSize_hide=true).*\n",
        "\n",
        "The main change we'll add to models we've built before is the use of the `activation` keyword.\n"
      ]
    },
    {
      "cell_type": "code",
      "metadata": {
        "colab": {
          "base_uri": "https://localhost:8080/"
        },
        "id": "vpvOisX0Qr2w",
        "outputId": "4c7b2bdc-25fc-4fa2-a721-156b5a249e0b"
      },
      "source": [
        "#Building model with non linear activation\n",
        "\n",
        "#1. Build the model\n",
        "model_4 = tf.keras.models.Sequential([\n",
        "      tf.keras.layers.Dense(100,activation=\"relu\"),\n",
        "      tf.keras.layers.Dense(100,activation='relu'),\n",
        "      tf.keras.layers.Dense(2)\n",
        "])\n",
        "\n",
        "#2. Compile the model \n",
        "model_4.compile(loss = tf.keras.losses.BinaryCrossentropy(),\n",
        "                optimizer = tf.keras.optimizers.Adam(),\n",
        "                metrics = ['accuracy'])\n",
        "\n",
        "#3. Build the model\n",
        "model_4.fit(X,y,epochs=200)"
      ],
      "execution_count": 16,
      "outputs": [
        {
          "output_type": "stream",
          "text": [
            "Epoch 1/200\n",
            "32/32 [==============================] - 0s 3ms/step - loss: 4.2816 - accuracy: 0.5000\n",
            "Epoch 2/200\n",
            "32/32 [==============================] - 0s 2ms/step - loss: 4.2450 - accuracy: 0.5000\n",
            "Epoch 3/200\n",
            "32/32 [==============================] - 0s 2ms/step - loss: 4.2349 - accuracy: 0.5000\n",
            "Epoch 4/200\n",
            "32/32 [==============================] - 0s 2ms/step - loss: 4.2258 - accuracy: 0.5000\n",
            "Epoch 5/200\n",
            "32/32 [==============================] - 0s 2ms/step - loss: 4.2135 - accuracy: 0.5000\n",
            "Epoch 6/200\n",
            "32/32 [==============================] - 0s 2ms/step - loss: 4.1985 - accuracy: 0.5000\n",
            "Epoch 7/200\n",
            "32/32 [==============================] - 0s 3ms/step - loss: 4.1778 - accuracy: 0.5000\n",
            "Epoch 8/200\n",
            "32/32 [==============================] - 0s 2ms/step - loss: 4.1467 - accuracy: 0.5000\n",
            "Epoch 9/200\n",
            "32/32 [==============================] - 0s 2ms/step - loss: 4.1065 - accuracy: 0.5000\n",
            "Epoch 10/200\n",
            "32/32 [==============================] - 0s 2ms/step - loss: 4.0517 - accuracy: 0.5000\n",
            "Epoch 11/200\n",
            "32/32 [==============================] - 0s 2ms/step - loss: 3.9984 - accuracy: 0.4750\n",
            "Epoch 12/200\n",
            "32/32 [==============================] - 0s 2ms/step - loss: 3.9455 - accuracy: 0.4860\n",
            "Epoch 13/200\n",
            "32/32 [==============================] - 0s 2ms/step - loss: 3.9097 - accuracy: 0.4750\n",
            "Epoch 14/200\n",
            "32/32 [==============================] - 0s 2ms/step - loss: 3.8878 - accuracy: 0.4490\n",
            "Epoch 15/200\n",
            "32/32 [==============================] - 0s 2ms/step - loss: 3.8812 - accuracy: 0.4090\n",
            "Epoch 16/200\n",
            "32/32 [==============================] - 0s 2ms/step - loss: 3.8727 - accuracy: 0.3890\n",
            "Epoch 17/200\n",
            "32/32 [==============================] - 0s 2ms/step - loss: 3.8706 - accuracy: 0.3750\n",
            "Epoch 18/200\n",
            "32/32 [==============================] - 0s 2ms/step - loss: 3.8710 - accuracy: 0.3240\n",
            "Epoch 19/200\n",
            "32/32 [==============================] - 0s 3ms/step - loss: 3.8676 - accuracy: 0.3170\n",
            "Epoch 20/200\n",
            "32/32 [==============================] - 0s 3ms/step - loss: 3.8660 - accuracy: 0.3140\n",
            "Epoch 21/200\n",
            "32/32 [==============================] - 0s 2ms/step - loss: 3.8649 - accuracy: 0.3050\n",
            "Epoch 22/200\n",
            "32/32 [==============================] - 0s 3ms/step - loss: 3.8636 - accuracy: 0.2690\n",
            "Epoch 23/200\n",
            "32/32 [==============================] - 0s 2ms/step - loss: 3.8643 - accuracy: 0.2720\n",
            "Epoch 24/200\n",
            "32/32 [==============================] - 0s 2ms/step - loss: 3.8635 - accuracy: 0.2570\n",
            "Epoch 25/200\n",
            "32/32 [==============================] - 0s 2ms/step - loss: 3.8636 - accuracy: 0.2260\n",
            "Epoch 26/200\n",
            "32/32 [==============================] - 0s 2ms/step - loss: 3.8629 - accuracy: 0.2320\n",
            "Epoch 27/200\n",
            "32/32 [==============================] - 0s 3ms/step - loss: 3.8614 - accuracy: 0.2310\n",
            "Epoch 28/200\n",
            "32/32 [==============================] - 0s 2ms/step - loss: 3.8610 - accuracy: 0.2090\n",
            "Epoch 29/200\n",
            "32/32 [==============================] - 0s 2ms/step - loss: 3.8612 - accuracy: 0.1970\n",
            "Epoch 30/200\n",
            "32/32 [==============================] - 0s 2ms/step - loss: 3.8615 - accuracy: 0.1860\n",
            "Epoch 31/200\n",
            "32/32 [==============================] - 0s 2ms/step - loss: 3.8603 - accuracy: 0.2060\n",
            "Epoch 32/200\n",
            "32/32 [==============================] - 0s 2ms/step - loss: 3.8609 - accuracy: 0.1740\n",
            "Epoch 33/200\n",
            "32/32 [==============================] - 0s 2ms/step - loss: 3.8605 - accuracy: 0.1600\n",
            "Epoch 34/200\n",
            "32/32 [==============================] - 0s 2ms/step - loss: 3.8625 - accuracy: 0.1570\n",
            "Epoch 35/200\n",
            "32/32 [==============================] - 0s 2ms/step - loss: 3.8599 - accuracy: 0.1590\n",
            "Epoch 36/200\n",
            "32/32 [==============================] - 0s 2ms/step - loss: 3.8599 - accuracy: 0.1600\n",
            "Epoch 37/200\n",
            "32/32 [==============================] - 0s 2ms/step - loss: 3.8600 - accuracy: 0.1360\n",
            "Epoch 38/200\n",
            "32/32 [==============================] - 0s 2ms/step - loss: 3.8587 - accuracy: 0.1570\n",
            "Epoch 39/200\n",
            "32/32 [==============================] - 0s 2ms/step - loss: 3.8605 - accuracy: 0.1360\n",
            "Epoch 40/200\n",
            "32/32 [==============================] - 0s 2ms/step - loss: 3.8587 - accuracy: 0.1250\n",
            "Epoch 41/200\n",
            "32/32 [==============================] - 0s 2ms/step - loss: 3.8600 - accuracy: 0.1300\n",
            "Epoch 42/200\n",
            "32/32 [==============================] - 0s 2ms/step - loss: 3.8593 - accuracy: 0.1150\n",
            "Epoch 43/200\n",
            "32/32 [==============================] - 0s 3ms/step - loss: 3.8602 - accuracy: 0.1400\n",
            "Epoch 44/200\n",
            "32/32 [==============================] - 0s 2ms/step - loss: 3.8582 - accuracy: 0.0960\n",
            "Epoch 45/200\n",
            "32/32 [==============================] - 0s 2ms/step - loss: 3.8580 - accuracy: 0.1060\n",
            "Epoch 46/200\n",
            "32/32 [==============================] - 0s 2ms/step - loss: 3.8581 - accuracy: 0.1070\n",
            "Epoch 47/200\n",
            "32/32 [==============================] - 0s 2ms/step - loss: 3.8584 - accuracy: 0.1070\n",
            "Epoch 48/200\n",
            "32/32 [==============================] - 0s 2ms/step - loss: 3.8595 - accuracy: 0.1020\n",
            "Epoch 49/200\n",
            "32/32 [==============================] - 0s 3ms/step - loss: 3.8590 - accuracy: 0.0930\n",
            "Epoch 50/200\n",
            "32/32 [==============================] - 0s 2ms/step - loss: 3.8587 - accuracy: 0.0940\n",
            "Epoch 51/200\n",
            "32/32 [==============================] - 0s 2ms/step - loss: 3.8583 - accuracy: 0.0910\n",
            "Epoch 52/200\n",
            "32/32 [==============================] - 0s 2ms/step - loss: 3.8583 - accuracy: 0.0950\n",
            "Epoch 53/200\n",
            "32/32 [==============================] - 0s 2ms/step - loss: 3.8585 - accuracy: 0.0700\n",
            "Epoch 54/200\n",
            "32/32 [==============================] - 0s 2ms/step - loss: 3.8591 - accuracy: 0.1160\n",
            "Epoch 55/200\n",
            "32/32 [==============================] - 0s 2ms/step - loss: 3.8588 - accuracy: 0.0730\n",
            "Epoch 56/200\n",
            "32/32 [==============================] - 0s 2ms/step - loss: 3.8576 - accuracy: 0.0810\n",
            "Epoch 57/200\n",
            "32/32 [==============================] - 0s 2ms/step - loss: 3.8574 - accuracy: 0.0700\n",
            "Epoch 58/200\n",
            "32/32 [==============================] - 0s 2ms/step - loss: 3.8590 - accuracy: 0.0880\n",
            "Epoch 59/200\n",
            "32/32 [==============================] - 0s 2ms/step - loss: 3.8581 - accuracy: 0.0800\n",
            "Epoch 60/200\n",
            "32/32 [==============================] - 0s 2ms/step - loss: 3.8580 - accuracy: 0.0830\n",
            "Epoch 61/200\n",
            "32/32 [==============================] - 0s 2ms/step - loss: 3.8608 - accuracy: 0.0680\n",
            "Epoch 62/200\n",
            "32/32 [==============================] - 0s 2ms/step - loss: 3.8577 - accuracy: 0.0760\n",
            "Epoch 63/200\n",
            "32/32 [==============================] - 0s 2ms/step - loss: 3.8586 - accuracy: 0.0660\n",
            "Epoch 64/200\n",
            "32/32 [==============================] - 0s 2ms/step - loss: 3.8574 - accuracy: 0.0790\n",
            "Epoch 65/200\n",
            "32/32 [==============================] - 0s 2ms/step - loss: 3.8581 - accuracy: 0.0790\n",
            "Epoch 66/200\n",
            "32/32 [==============================] - 0s 2ms/step - loss: 3.8581 - accuracy: 0.0640\n",
            "Epoch 67/200\n",
            "32/32 [==============================] - 0s 2ms/step - loss: 3.8580 - accuracy: 0.0610\n",
            "Epoch 68/200\n",
            "32/32 [==============================] - 0s 2ms/step - loss: 3.8577 - accuracy: 0.0650\n",
            "Epoch 69/200\n",
            "32/32 [==============================] - 0s 2ms/step - loss: 3.8580 - accuracy: 0.0670\n",
            "Epoch 70/200\n",
            "32/32 [==============================] - 0s 2ms/step - loss: 3.8577 - accuracy: 0.0590\n",
            "Epoch 71/200\n",
            "32/32 [==============================] - 0s 3ms/step - loss: 3.8587 - accuracy: 0.0710\n",
            "Epoch 72/200\n",
            "32/32 [==============================] - 0s 2ms/step - loss: 3.8585 - accuracy: 0.0820\n",
            "Epoch 73/200\n",
            "32/32 [==============================] - 0s 2ms/step - loss: 3.8579 - accuracy: 0.0740\n",
            "Epoch 74/200\n",
            "32/32 [==============================] - 0s 2ms/step - loss: 3.8574 - accuracy: 0.0470\n",
            "Epoch 75/200\n",
            "32/32 [==============================] - 0s 2ms/step - loss: 3.8578 - accuracy: 0.0560\n",
            "Epoch 76/200\n",
            "32/32 [==============================] - 0s 2ms/step - loss: 3.8583 - accuracy: 0.0780\n",
            "Epoch 77/200\n",
            "32/32 [==============================] - 0s 2ms/step - loss: 3.8584 - accuracy: 0.0570\n",
            "Epoch 78/200\n",
            "32/32 [==============================] - 0s 2ms/step - loss: 3.8576 - accuracy: 0.0630\n",
            "Epoch 79/200\n",
            "32/32 [==============================] - 0s 2ms/step - loss: 3.8574 - accuracy: 0.0450\n",
            "Epoch 80/200\n",
            "32/32 [==============================] - 0s 2ms/step - loss: 3.8571 - accuracy: 0.0550\n",
            "Epoch 81/200\n",
            "32/32 [==============================] - 0s 2ms/step - loss: 3.8573 - accuracy: 0.0500\n",
            "Epoch 82/200\n",
            "32/32 [==============================] - 0s 2ms/step - loss: 3.8569 - accuracy: 0.0460\n",
            "Epoch 83/200\n",
            "32/32 [==============================] - 0s 3ms/step - loss: 3.8605 - accuracy: 0.0710\n",
            "Epoch 84/200\n",
            "32/32 [==============================] - 0s 2ms/step - loss: 3.8586 - accuracy: 0.0710\n",
            "Epoch 85/200\n",
            "32/32 [==============================] - 0s 2ms/step - loss: 3.8570 - accuracy: 0.0370\n",
            "Epoch 86/200\n",
            "32/32 [==============================] - 0s 2ms/step - loss: 3.8574 - accuracy: 0.0400\n",
            "Epoch 87/200\n",
            "32/32 [==============================] - 0s 3ms/step - loss: 3.8575 - accuracy: 0.0520\n",
            "Epoch 88/200\n",
            "32/32 [==============================] - 0s 3ms/step - loss: 3.8585 - accuracy: 0.0360\n",
            "Epoch 89/200\n",
            "32/32 [==============================] - 0s 2ms/step - loss: 3.8579 - accuracy: 0.0490\n",
            "Epoch 90/200\n",
            "32/32 [==============================] - 0s 2ms/step - loss: 3.8581 - accuracy: 0.0510\n",
            "Epoch 91/200\n",
            "32/32 [==============================] - 0s 2ms/step - loss: 3.8591 - accuracy: 0.0450\n",
            "Epoch 92/200\n",
            "32/32 [==============================] - 0s 2ms/step - loss: 3.8599 - accuracy: 0.0480\n",
            "Epoch 93/200\n",
            "32/32 [==============================] - 0s 2ms/step - loss: 3.8573 - accuracy: 0.0380\n",
            "Epoch 94/200\n",
            "32/32 [==============================] - 0s 3ms/step - loss: 3.8571 - accuracy: 0.0420\n",
            "Epoch 95/200\n",
            "32/32 [==============================] - 0s 2ms/step - loss: 3.8568 - accuracy: 0.0310\n",
            "Epoch 96/200\n",
            "32/32 [==============================] - 0s 2ms/step - loss: 3.8570 - accuracy: 0.0220\n",
            "Epoch 97/200\n",
            "32/32 [==============================] - 0s 2ms/step - loss: 3.8569 - accuracy: 0.0250\n",
            "Epoch 98/200\n",
            "32/32 [==============================] - 0s 2ms/step - loss: 3.8566 - accuracy: 0.0370\n",
            "Epoch 99/200\n",
            "32/32 [==============================] - 0s 2ms/step - loss: 3.8570 - accuracy: 0.0220\n",
            "Epoch 100/200\n",
            "32/32 [==============================] - 0s 2ms/step - loss: 3.8567 - accuracy: 0.0260\n",
            "Epoch 101/200\n",
            "32/32 [==============================] - 0s 2ms/step - loss: 3.8572 - accuracy: 0.0380\n",
            "Epoch 102/200\n",
            "32/32 [==============================] - 0s 2ms/step - loss: 3.8567 - accuracy: 0.0410\n",
            "Epoch 103/200\n",
            "32/32 [==============================] - 0s 2ms/step - loss: 3.8577 - accuracy: 0.0330\n",
            "Epoch 104/200\n",
            "32/32 [==============================] - 0s 2ms/step - loss: 3.8600 - accuracy: 0.0550\n",
            "Epoch 105/200\n",
            "32/32 [==============================] - 0s 2ms/step - loss: 3.8571 - accuracy: 0.0290\n",
            "Epoch 106/200\n",
            "32/32 [==============================] - 0s 2ms/step - loss: 3.8566 - accuracy: 0.0170\n",
            "Epoch 107/200\n",
            "32/32 [==============================] - 0s 2ms/step - loss: 3.8567 - accuracy: 0.0340\n",
            "Epoch 108/200\n",
            "32/32 [==============================] - 0s 2ms/step - loss: 3.8568 - accuracy: 0.0310\n",
            "Epoch 109/200\n",
            "32/32 [==============================] - 0s 2ms/step - loss: 3.8567 - accuracy: 0.0190\n",
            "Epoch 110/200\n",
            "32/32 [==============================] - 0s 2ms/step - loss: 3.8569 - accuracy: 0.0290\n",
            "Epoch 111/200\n",
            "32/32 [==============================] - 0s 2ms/step - loss: 3.8575 - accuracy: 0.0220\n",
            "Epoch 112/200\n",
            "32/32 [==============================] - 0s 2ms/step - loss: 3.8577 - accuracy: 0.0370\n",
            "Epoch 113/200\n",
            "32/32 [==============================] - 0s 2ms/step - loss: 3.8567 - accuracy: 0.0260\n",
            "Epoch 114/200\n",
            "32/32 [==============================] - 0s 3ms/step - loss: 3.8568 - accuracy: 0.0270\n",
            "Epoch 115/200\n",
            "32/32 [==============================] - 0s 2ms/step - loss: 3.8591 - accuracy: 0.0300\n",
            "Epoch 116/200\n",
            "32/32 [==============================] - 0s 2ms/step - loss: 3.8574 - accuracy: 0.0440\n",
            "Epoch 117/200\n",
            "32/32 [==============================] - 0s 2ms/step - loss: 3.8573 - accuracy: 0.0270\n",
            "Epoch 118/200\n",
            "32/32 [==============================] - 0s 2ms/step - loss: 3.8573 - accuracy: 0.0460\n",
            "Epoch 119/200\n",
            "32/32 [==============================] - 0s 2ms/step - loss: 3.8574 - accuracy: 0.0340\n",
            "Epoch 120/200\n",
            "32/32 [==============================] - 0s 2ms/step - loss: 3.8570 - accuracy: 0.0190\n",
            "Epoch 121/200\n",
            "32/32 [==============================] - 0s 3ms/step - loss: 3.8587 - accuracy: 0.0360\n",
            "Epoch 122/200\n",
            "32/32 [==============================] - 0s 2ms/step - loss: 3.8699 - accuracy: 0.0510\n",
            "Epoch 123/200\n",
            "32/32 [==============================] - 0s 3ms/step - loss: 3.8595 - accuracy: 0.0450\n",
            "Epoch 124/200\n",
            "32/32 [==============================] - 0s 2ms/step - loss: 3.8619 - accuracy: 0.0400\n",
            "Epoch 125/200\n",
            "32/32 [==============================] - 0s 2ms/step - loss: 4.3749 - accuracy: 0.1090\n",
            "Epoch 126/200\n",
            "32/32 [==============================] - 0s 2ms/step - loss: 3.9188 - accuracy: 0.0580\n",
            "Epoch 127/200\n",
            "32/32 [==============================] - 0s 3ms/step - loss: 3.8621 - accuracy: 0.0380\n",
            "Epoch 128/200\n",
            "32/32 [==============================] - 0s 2ms/step - loss: 3.8577 - accuracy: 0.0150\n",
            "Epoch 129/200\n",
            "32/32 [==============================] - 0s 2ms/step - loss: 3.8566 - accuracy: 0.0200\n",
            "Epoch 130/200\n",
            "32/32 [==============================] - 0s 3ms/step - loss: 3.8567 - accuracy: 0.0180\n",
            "Epoch 131/200\n",
            "32/32 [==============================] - 0s 2ms/step - loss: 3.8565 - accuracy: 0.0140\n",
            "Epoch 132/200\n",
            "32/32 [==============================] - 0s 2ms/step - loss: 3.8565 - accuracy: 0.0210\n",
            "Epoch 133/200\n",
            "32/32 [==============================] - 0s 2ms/step - loss: 3.8565 - accuracy: 0.0160\n",
            "Epoch 134/200\n",
            "32/32 [==============================] - 0s 2ms/step - loss: 3.8565 - accuracy: 0.0130\n",
            "Epoch 135/200\n",
            "32/32 [==============================] - 0s 2ms/step - loss: 3.8567 - accuracy: 0.0210\n",
            "Epoch 136/200\n",
            "32/32 [==============================] - 0s 2ms/step - loss: 3.8566 - accuracy: 0.0110\n",
            "Epoch 137/200\n",
            "32/32 [==============================] - 0s 2ms/step - loss: 3.8564 - accuracy: 0.0230\n",
            "Epoch 138/200\n",
            "32/32 [==============================] - 0s 2ms/step - loss: 3.8566 - accuracy: 0.0190\n",
            "Epoch 139/200\n",
            "32/32 [==============================] - 0s 2ms/step - loss: 3.8565 - accuracy: 0.0200\n",
            "Epoch 140/200\n",
            "32/32 [==============================] - 0s 2ms/step - loss: 3.8564 - accuracy: 0.0170\n",
            "Epoch 141/200\n",
            "32/32 [==============================] - 0s 2ms/step - loss: 3.8566 - accuracy: 0.0100\n",
            "Epoch 142/200\n",
            "32/32 [==============================] - 0s 3ms/step - loss: 3.8565 - accuracy: 0.0190\n",
            "Epoch 143/200\n",
            "32/32 [==============================] - 0s 2ms/step - loss: 3.8566 - accuracy: 0.0180\n",
            "Epoch 144/200\n",
            "32/32 [==============================] - 0s 2ms/step - loss: 3.8566 - accuracy: 0.0260\n",
            "Epoch 145/200\n",
            "32/32 [==============================] - 0s 3ms/step - loss: 3.8565 - accuracy: 0.0240\n",
            "Epoch 146/200\n",
            "32/32 [==============================] - 0s 2ms/step - loss: 3.8566 - accuracy: 0.0180\n",
            "Epoch 147/200\n",
            "32/32 [==============================] - 0s 2ms/step - loss: 3.8569 - accuracy: 0.0210\n",
            "Epoch 148/200\n",
            "32/32 [==============================] - 0s 2ms/step - loss: 3.8564 - accuracy: 0.0150\n",
            "Epoch 149/200\n",
            "32/32 [==============================] - 0s 2ms/step - loss: 3.8564 - accuracy: 0.0140\n",
            "Epoch 150/200\n",
            "32/32 [==============================] - 0s 3ms/step - loss: 3.8564 - accuracy: 0.0200\n",
            "Epoch 151/200\n",
            "32/32 [==============================] - 0s 3ms/step - loss: 3.8564 - accuracy: 0.0150\n",
            "Epoch 152/200\n",
            "32/32 [==============================] - 0s 2ms/step - loss: 3.8565 - accuracy: 0.0190\n",
            "Epoch 153/200\n",
            "32/32 [==============================] - 0s 2ms/step - loss: 3.8566 - accuracy: 0.0140\n",
            "Epoch 154/200\n",
            "32/32 [==============================] - 0s 2ms/step - loss: 3.8566 - accuracy: 0.0130\n",
            "Epoch 155/200\n",
            "32/32 [==============================] - 0s 2ms/step - loss: 3.8565 - accuracy: 0.0120\n",
            "Epoch 156/200\n",
            "32/32 [==============================] - 0s 3ms/step - loss: 3.8565 - accuracy: 0.0160\n",
            "Epoch 157/200\n",
            "32/32 [==============================] - 0s 3ms/step - loss: 3.8565 - accuracy: 0.0150\n",
            "Epoch 158/200\n",
            "32/32 [==============================] - 0s 2ms/step - loss: 3.8564 - accuracy: 0.0160\n",
            "Epoch 159/200\n",
            "32/32 [==============================] - 0s 2ms/step - loss: 3.8565 - accuracy: 0.0100\n",
            "Epoch 160/200\n",
            "32/32 [==============================] - 0s 2ms/step - loss: 3.8564 - accuracy: 0.0200\n",
            "Epoch 161/200\n",
            "32/32 [==============================] - 0s 2ms/step - loss: 3.8567 - accuracy: 0.0140\n",
            "Epoch 162/200\n",
            "32/32 [==============================] - 0s 2ms/step - loss: 3.8575 - accuracy: 0.0110\n",
            "Epoch 163/200\n",
            "32/32 [==============================] - 0s 2ms/step - loss: 3.8566 - accuracy: 0.0100\n",
            "Epoch 164/200\n",
            "32/32 [==============================] - 0s 2ms/step - loss: 3.8578 - accuracy: 0.0170\n",
            "Epoch 165/200\n",
            "32/32 [==============================] - 0s 2ms/step - loss: 3.8566 - accuracy: 0.0220\n",
            "Epoch 166/200\n",
            "32/32 [==============================] - 0s 2ms/step - loss: 3.8564 - accuracy: 0.0230\n",
            "Epoch 167/200\n",
            "32/32 [==============================] - 0s 3ms/step - loss: 3.8564 - accuracy: 0.0130\n",
            "Epoch 168/200\n",
            "32/32 [==============================] - 0s 2ms/step - loss: 3.8564 - accuracy: 0.0170\n",
            "Epoch 169/200\n",
            "32/32 [==============================] - 0s 3ms/step - loss: 3.8563 - accuracy: 0.0130\n",
            "Epoch 170/200\n",
            "32/32 [==============================] - 0s 3ms/step - loss: 3.8564 - accuracy: 0.0080\n",
            "Epoch 171/200\n",
            "32/32 [==============================] - 0s 2ms/step - loss: 3.8565 - accuracy: 0.0120\n",
            "Epoch 172/200\n",
            "32/32 [==============================] - 0s 2ms/step - loss: 3.8566 - accuracy: 0.0060\n",
            "Epoch 173/200\n",
            "32/32 [==============================] - 0s 2ms/step - loss: 3.8564 - accuracy: 0.0060\n",
            "Epoch 174/200\n",
            "32/32 [==============================] - 0s 3ms/step - loss: 3.8565 - accuracy: 0.0180\n",
            "Epoch 175/200\n",
            "32/32 [==============================] - 0s 2ms/step - loss: 3.8567 - accuracy: 0.0070\n",
            "Epoch 176/200\n",
            "32/32 [==============================] - 0s 2ms/step - loss: 3.8563 - accuracy: 0.0070\n",
            "Epoch 177/200\n",
            "32/32 [==============================] - 0s 3ms/step - loss: 3.8567 - accuracy: 0.0230\n",
            "Epoch 178/200\n",
            "32/32 [==============================] - 0s 2ms/step - loss: 3.8565 - accuracy: 0.0090\n",
            "Epoch 179/200\n",
            "32/32 [==============================] - 0s 2ms/step - loss: 3.8565 - accuracy: 0.0160\n",
            "Epoch 180/200\n",
            "32/32 [==============================] - 0s 2ms/step - loss: 3.8572 - accuracy: 0.0170\n",
            "Epoch 181/200\n",
            "32/32 [==============================] - 0s 3ms/step - loss: 3.8564 - accuracy: 0.0120\n",
            "Epoch 182/200\n",
            "32/32 [==============================] - 0s 2ms/step - loss: 3.8564 - accuracy: 0.0190\n",
            "Epoch 183/200\n",
            "32/32 [==============================] - 0s 3ms/step - loss: 3.8563 - accuracy: 0.0150\n",
            "Epoch 184/200\n",
            "32/32 [==============================] - 0s 2ms/step - loss: 3.8565 - accuracy: 0.0200\n",
            "Epoch 185/200\n",
            "32/32 [==============================] - 0s 2ms/step - loss: 3.8563 - accuracy: 0.0140\n",
            "Epoch 186/200\n",
            "32/32 [==============================] - 0s 2ms/step - loss: 3.8569 - accuracy: 0.0200\n",
            "Epoch 187/200\n",
            "32/32 [==============================] - 0s 3ms/step - loss: 3.8567 - accuracy: 0.0230\n",
            "Epoch 188/200\n",
            "32/32 [==============================] - 0s 2ms/step - loss: 3.8568 - accuracy: 0.0150\n",
            "Epoch 189/200\n",
            "32/32 [==============================] - 0s 2ms/step - loss: 3.8568 - accuracy: 0.0120\n",
            "Epoch 190/200\n",
            "32/32 [==============================] - 0s 2ms/step - loss: 3.8563 - accuracy: 0.0160\n",
            "Epoch 191/200\n",
            "32/32 [==============================] - 0s 2ms/step - loss: 3.8581 - accuracy: 0.0180\n",
            "Epoch 192/200\n",
            "32/32 [==============================] - 0s 2ms/step - loss: 3.8569 - accuracy: 0.0120\n",
            "Epoch 193/200\n",
            "32/32 [==============================] - 0s 2ms/step - loss: 3.8565 - accuracy: 0.0100\n",
            "Epoch 194/200\n",
            "32/32 [==============================] - 0s 2ms/step - loss: 3.8566 - accuracy: 0.0110\n",
            "Epoch 195/200\n",
            "32/32 [==============================] - 0s 2ms/step - loss: 3.8569 - accuracy: 0.0180\n",
            "Epoch 196/200\n",
            "32/32 [==============================] - 0s 3ms/step - loss: 3.8582 - accuracy: 0.0270\n",
            "Epoch 197/200\n",
            "32/32 [==============================] - 0s 3ms/step - loss: 3.8599 - accuracy: 0.0260\n",
            "Epoch 198/200\n",
            "32/32 [==============================] - 0s 2ms/step - loss: 3.8574 - accuracy: 0.0200\n",
            "Epoch 199/200\n",
            "32/32 [==============================] - 0s 2ms/step - loss: 3.8568 - accuracy: 0.0100\n",
            "Epoch 200/200\n",
            "32/32 [==============================] - 0s 3ms/step - loss: 3.8567 - accuracy: 0.0180\n"
          ],
          "name": "stdout"
        },
        {
          "output_type": "execute_result",
          "data": {
            "text/plain": [
              "<tensorflow.python.keras.callbacks.History at 0x7feac2ee7150>"
            ]
          },
          "metadata": {
            "tags": []
          },
          "execution_count": 16
        }
      ]
    },
    {
      "cell_type": "code",
      "metadata": {
        "colab": {
          "base_uri": "https://localhost:8080/",
          "height": 282
        },
        "id": "UkyWXFdxeXd9",
        "outputId": "e48e046e-2eab-4243-b023-25157525836c"
      },
      "source": [
        "# Check out the predictions our model is making \n",
        "plot_decision_boundary(model_4, X, y)"
      ],
      "execution_count": 17,
      "outputs": [
        {
          "output_type": "stream",
          "text": [
            "doing multiclass classification...\n"
          ],
          "name": "stdout"
        },
        {
          "output_type": "display_data",
          "data": {
            "image/png": "[encoded data removed]",
            "text/plain": [
              "<Figure size 432x288 with 1 Axes>"
            ]
          },
          "metadata": {
            "tags": [],
            "needs_background": "light"
          }
        }
      ]
    },
    {
      "cell_type": "code",
      "metadata": {
        "colab": {
          "base_uri": "https://localhost:8080/"
        },
        "id": "4ugljUcVeaO-",
        "outputId": "efaa19b0-61ed-4fb4-84d5-717a61555100"
      },
      "source": [
        "model_4.evaluate(X,y)"
      ],
      "execution_count": 18,
      "outputs": [
        {
          "output_type": "stream",
          "text": [
            "32/32 [==============================] - 0s 2ms/step - loss: 3.8576 - accuracy: 0.0120\n"
          ],
          "name": "stdout"
        },
        {
          "output_type": "execute_result",
          "data": {
            "text/plain": [
              "[3.857595920562744, 0.012000000104308128]"
            ]
          },
          "metadata": {
            "tags": []
          },
          "execution_count": 18
        }
      ]
    },
    {
      "cell_type": "code",
      "metadata": {
        "colab": {
          "base_uri": "https://localhost:8080/"
        },
        "id": "aNCnYNd32eCf",
        "outputId": "fe856cbe-1dd3-4eb3-e4d7-1ce966f58b22"
      },
      "source": [
        "#Another model\n",
        "\n",
        "#1. Create a model\n",
        "model_5 = tf.keras.models.Sequential([\n",
        "    tf.keras.layers.Dense(100,activation='relu'),\n",
        "    tf.keras.layers.Dense(100,activation='relu'),\n",
        "    tf.keras.layers.Dense(1,activation='sigmoid')\n",
        "])\n",
        "\n",
        "#2. Compile the model\n",
        "model_5.compile(loss=tf.keras.losses.BinaryCrossentropy(),\n",
        "                optimizer=tf.keras.optimizers.Adam(),\n",
        "                metrics=[\"accuracy\"])\n",
        "\n",
        "#3. Fit the model\n",
        "model_5.fit(X,y,epochs=100)"
      ],
      "execution_count": 19,
      "outputs": [
        {
          "output_type": "stream",
          "text": [
            "Epoch 1/100\n",
            "32/32 [==============================] - 0s 2ms/step - loss: 0.6927 - accuracy: 0.5140\n",
            "Epoch 2/100\n",
            "32/32 [==============================] - 0s 3ms/step - loss: 0.6852 - accuracy: 0.5000\n",
            "Epoch 3/100\n",
            "32/32 [==============================] - 0s 2ms/step - loss: 0.6769 - accuracy: 0.5000\n",
            "Epoch 4/100\n",
            "32/32 [==============================] - 0s 2ms/step - loss: 0.6666 - accuracy: 0.5800\n",
            "Epoch 5/100\n",
            "32/32 [==============================] - 0s 3ms/step - loss: 0.6464 - accuracy: 0.6310\n",
            "Epoch 6/100\n",
            "32/32 [==============================] - 0s 2ms/step - loss: 0.6109 - accuracy: 0.7740\n",
            "Epoch 7/100\n",
            "32/32 [==============================] - 0s 2ms/step - loss: 0.5594 - accuracy: 0.8990\n",
            "Epoch 8/100\n",
            "32/32 [==============================] - 0s 2ms/step - loss: 0.4752 - accuracy: 0.9740\n",
            "Epoch 9/100\n",
            "32/32 [==============================] - 0s 2ms/step - loss: 0.3818 - accuracy: 0.9910\n",
            "Epoch 10/100\n",
            "32/32 [==============================] - 0s 2ms/step - loss: 0.2851 - accuracy: 0.9970\n",
            "Epoch 11/100\n",
            "32/32 [==============================] - 0s 2ms/step - loss: 0.2187 - accuracy: 0.9910\n",
            "Epoch 12/100\n",
            "32/32 [==============================] - 0s 2ms/step - loss: 0.1621 - accuracy: 0.9980\n",
            "Epoch 13/100\n",
            "32/32 [==============================] - 0s 2ms/step - loss: 0.1195 - accuracy: 0.9990\n",
            "Epoch 14/100\n",
            "32/32 [==============================] - 0s 3ms/step - loss: 0.0927 - accuracy: 1.0000\n",
            "Epoch 15/100\n",
            "32/32 [==============================] - 0s 3ms/step - loss: 0.0743 - accuracy: 1.0000\n",
            "Epoch 16/100\n",
            "32/32 [==============================] - 0s 2ms/step - loss: 0.0604 - accuracy: 1.0000\n",
            "Epoch 17/100\n",
            "32/32 [==============================] - 0s 2ms/step - loss: 0.0504 - accuracy: 1.0000\n",
            "Epoch 18/100\n",
            "32/32 [==============================] - 0s 2ms/step - loss: 0.0438 - accuracy: 0.9990\n",
            "Epoch 19/100\n",
            "32/32 [==============================] - 0s 2ms/step - loss: 0.0396 - accuracy: 1.0000\n",
            "Epoch 20/100\n",
            "32/32 [==============================] - 0s 2ms/step - loss: 0.0345 - accuracy: 1.0000\n",
            "Epoch 21/100\n",
            "32/32 [==============================] - 0s 2ms/step - loss: 0.0298 - accuracy: 1.0000\n",
            "Epoch 22/100\n",
            "32/32 [==============================] - 0s 2ms/step - loss: 0.0269 - accuracy: 1.0000\n",
            "Epoch 23/100\n",
            "32/32 [==============================] - 0s 2ms/step - loss: 0.0242 - accuracy: 1.0000\n",
            "Epoch 24/100\n",
            "32/32 [==============================] - 0s 2ms/step - loss: 0.0212 - accuracy: 1.0000\n",
            "Epoch 25/100\n",
            "32/32 [==============================] - 0s 2ms/step - loss: 0.0206 - accuracy: 1.0000\n",
            "Epoch 26/100\n",
            "32/32 [==============================] - 0s 2ms/step - loss: 0.0185 - accuracy: 1.0000\n",
            "Epoch 27/100\n",
            "32/32 [==============================] - 0s 2ms/step - loss: 0.0164 - accuracy: 1.0000\n",
            "Epoch 28/100\n",
            "32/32 [==============================] - 0s 3ms/step - loss: 0.0155 - accuracy: 1.0000\n",
            "Epoch 29/100\n",
            "32/32 [==============================] - 0s 2ms/step - loss: 0.0148 - accuracy: 1.0000\n",
            "Epoch 30/100\n",
            "32/32 [==============================] - 0s 2ms/step - loss: 0.0146 - accuracy: 1.0000\n",
            "Epoch 31/100\n",
            "32/32 [==============================] - 0s 2ms/step - loss: 0.0125 - accuracy: 1.0000\n",
            "Epoch 32/100\n",
            "32/32 [==============================] - 0s 2ms/step - loss: 0.0125 - accuracy: 1.0000\n",
            "Epoch 33/100\n",
            "32/32 [==============================] - 0s 2ms/step - loss: 0.0105 - accuracy: 1.0000\n",
            "Epoch 34/100\n",
            "32/32 [==============================] - 0s 2ms/step - loss: 0.0122 - accuracy: 0.9990\n",
            "Epoch 35/100\n",
            "32/32 [==============================] - 0s 2ms/step - loss: 0.0104 - accuracy: 1.0000\n",
            "Epoch 36/100\n",
            "32/32 [==============================] - 0s 2ms/step - loss: 0.0102 - accuracy: 1.0000\n",
            "Epoch 37/100\n",
            "32/32 [==============================] - 0s 2ms/step - loss: 0.0086 - accuracy: 1.0000\n",
            "Epoch 38/100\n",
            "32/32 [==============================] - 0s 2ms/step - loss: 0.0083 - accuracy: 1.0000\n",
            "Epoch 39/100\n",
            "32/32 [==============================] - 0s 2ms/step - loss: 0.0083 - accuracy: 1.0000\n",
            "Epoch 40/100\n",
            "32/32 [==============================] - 0s 2ms/step - loss: 0.0073 - accuracy: 1.0000\n",
            "Epoch 41/100\n",
            "32/32 [==============================] - 0s 2ms/step - loss: 0.0083 - accuracy: 1.0000\n",
            "Epoch 42/100\n",
            "32/32 [==============================] - 0s 2ms/step - loss: 0.0072 - accuracy: 1.0000\n",
            "Epoch 43/100\n",
            "32/32 [==============================] - 0s 2ms/step - loss: 0.0073 - accuracy: 1.0000\n",
            "Epoch 44/100\n",
            "32/32 [==============================] - 0s 2ms/step - loss: 0.0063 - accuracy: 1.0000\n",
            "Epoch 45/100\n",
            "32/32 [==============================] - 0s 2ms/step - loss: 0.0064 - accuracy: 1.0000\n",
            "Epoch 46/100\n",
            "32/32 [==============================] - 0s 2ms/step - loss: 0.0058 - accuracy: 1.0000\n",
            "Epoch 47/100\n",
            "32/32 [==============================] - 0s 2ms/step - loss: 0.0054 - accuracy: 1.0000\n",
            "Epoch 48/100\n",
            "32/32 [==============================] - 0s 2ms/step - loss: 0.0055 - accuracy: 1.0000\n",
            "Epoch 49/100\n",
            "32/32 [==============================] - 0s 2ms/step - loss: 0.0050 - accuracy: 1.0000\n",
            "Epoch 50/100\n",
            "32/32 [==============================] - 0s 2ms/step - loss: 0.0047 - accuracy: 1.0000\n",
            "Epoch 51/100\n",
            "32/32 [==============================] - 0s 2ms/step - loss: 0.0046 - accuracy: 1.0000\n",
            "Epoch 52/100\n",
            "32/32 [==============================] - 0s 2ms/step - loss: 0.0046 - accuracy: 1.0000\n",
            "Epoch 53/100\n",
            "32/32 [==============================] - 0s 2ms/step - loss: 0.0048 - accuracy: 1.0000\n",
            "Epoch 54/100\n",
            "32/32 [==============================] - 0s 3ms/step - loss: 0.0042 - accuracy: 1.0000\n",
            "Epoch 55/100\n",
            "32/32 [==============================] - 0s 2ms/step - loss: 0.0039 - accuracy: 1.0000\n",
            "Epoch 56/100\n",
            "32/32 [==============================] - 0s 2ms/step - loss: 0.0037 - accuracy: 1.0000\n",
            "Epoch 57/100\n",
            "32/32 [==============================] - 0s 2ms/step - loss: 0.0036 - accuracy: 1.0000\n",
            "Epoch 58/100\n",
            "32/32 [==============================] - 0s 2ms/step - loss: 0.0054 - accuracy: 1.0000\n",
            "Epoch 59/100\n",
            "32/32 [==============================] - 0s 2ms/step - loss: 0.0035 - accuracy: 1.0000\n",
            "Epoch 60/100\n",
            "32/32 [==============================] - 0s 2ms/step - loss: 0.0034 - accuracy: 1.0000\n",
            "Epoch 61/100\n",
            "32/32 [==============================] - 0s 2ms/step - loss: 0.0082 - accuracy: 0.9970\n",
            "Epoch 62/100\n",
            "32/32 [==============================] - 0s 2ms/step - loss: 0.0035 - accuracy: 1.0000\n",
            "Epoch 63/100\n",
            "32/32 [==============================] - 0s 2ms/step - loss: 0.0036 - accuracy: 1.0000\n",
            "Epoch 64/100\n",
            "32/32 [==============================] - 0s 2ms/step - loss: 0.0031 - accuracy: 1.0000\n",
            "Epoch 65/100\n",
            "32/32 [==============================] - 0s 2ms/step - loss: 0.0030 - accuracy: 1.0000\n",
            "Epoch 66/100\n",
            "32/32 [==============================] - 0s 3ms/step - loss: 0.0027 - accuracy: 1.0000\n",
            "Epoch 67/100\n",
            "32/32 [==============================] - 0s 2ms/step - loss: 0.0027 - accuracy: 1.0000\n",
            "Epoch 68/100\n",
            "32/32 [==============================] - 0s 2ms/step - loss: 0.0026 - accuracy: 1.0000\n",
            "Epoch 69/100\n",
            "32/32 [==============================] - 0s 2ms/step - loss: 0.0025 - accuracy: 1.0000\n",
            "Epoch 70/100\n",
            "32/32 [==============================] - 0s 2ms/step - loss: 0.0025 - accuracy: 1.0000\n",
            "Epoch 71/100\n",
            "32/32 [==============================] - 0s 2ms/step - loss: 0.0028 - accuracy: 1.0000\n",
            "Epoch 72/100\n",
            "32/32 [==============================] - 0s 2ms/step - loss: 0.0024 - accuracy: 1.0000\n",
            "Epoch 73/100\n",
            "32/32 [==============================] - 0s 2ms/step - loss: 0.0030 - accuracy: 1.0000\n",
            "Epoch 74/100\n",
            "32/32 [==============================] - 0s 2ms/step - loss: 0.0022 - accuracy: 1.0000\n",
            "Epoch 75/100\n",
            "32/32 [==============================] - 0s 2ms/step - loss: 0.0028 - accuracy: 1.0000\n",
            "Epoch 76/100\n",
            "32/32 [==============================] - 0s 2ms/step - loss: 0.0023 - accuracy: 1.0000\n",
            "Epoch 77/100\n",
            "32/32 [==============================] - 0s 2ms/step - loss: 0.0022 - accuracy: 1.0000\n",
            "Epoch 78/100\n",
            "32/32 [==============================] - 0s 2ms/step - loss: 0.0022 - accuracy: 1.0000\n",
            "Epoch 79/100\n",
            "32/32 [==============================] - 0s 2ms/step - loss: 0.0031 - accuracy: 0.9990\n",
            "Epoch 80/100\n",
            "32/32 [==============================] - 0s 2ms/step - loss: 0.0022 - accuracy: 1.0000\n",
            "Epoch 81/100\n",
            "32/32 [==============================] - 0s 2ms/step - loss: 0.0021 - accuracy: 1.0000\n",
            "Epoch 82/100\n",
            "32/32 [==============================] - 0s 2ms/step - loss: 0.0017 - accuracy: 1.0000\n",
            "Epoch 83/100\n",
            "32/32 [==============================] - 0s 3ms/step - loss: 0.0034 - accuracy: 0.9990\n",
            "Epoch 84/100\n",
            "32/32 [==============================] - 0s 2ms/step - loss: 0.0026 - accuracy: 1.0000\n",
            "Epoch 85/100\n",
            "32/32 [==============================] - 0s 2ms/step - loss: 0.0035 - accuracy: 1.0000\n",
            "Epoch 86/100\n",
            "32/32 [==============================] - 0s 2ms/step - loss: 0.0021 - accuracy: 1.0000\n",
            "Epoch 87/100\n",
            "32/32 [==============================] - 0s 2ms/step - loss: 0.0017 - accuracy: 1.0000\n",
            "Epoch 88/100\n",
            "32/32 [==============================] - 0s 2ms/step - loss: 0.0018 - accuracy: 1.0000\n",
            "Epoch 89/100\n",
            "32/32 [==============================] - 0s 2ms/step - loss: 0.0014 - accuracy: 1.0000\n",
            "Epoch 90/100\n",
            "32/32 [==============================] - 0s 2ms/step - loss: 0.0019 - accuracy: 1.0000\n",
            "Epoch 91/100\n",
            "32/32 [==============================] - 0s 3ms/step - loss: 0.0020 - accuracy: 1.0000\n",
            "Epoch 92/100\n",
            "32/32 [==============================] - 0s 2ms/step - loss: 0.0021 - accuracy: 1.0000\n",
            "Epoch 93/100\n",
            "32/32 [==============================] - 0s 2ms/step - loss: 0.0014 - accuracy: 1.0000\n",
            "Epoch 94/100\n",
            "32/32 [==============================] - 0s 2ms/step - loss: 0.0015 - accuracy: 1.0000\n",
            "Epoch 95/100\n",
            "32/32 [==============================] - 0s 2ms/step - loss: 0.0015 - accuracy: 1.0000\n",
            "Epoch 96/100\n",
            "32/32 [==============================] - 0s 2ms/step - loss: 0.0013 - accuracy: 1.0000\n",
            "Epoch 97/100\n",
            "32/32 [==============================] - 0s 2ms/step - loss: 0.0014 - accuracy: 1.0000\n",
            "Epoch 98/100\n",
            "32/32 [==============================] - 0s 2ms/step - loss: 0.0012 - accuracy: 1.0000\n",
            "Epoch 99/100\n",
            "32/32 [==============================] - 0s 2ms/step - loss: 0.0014 - accuracy: 1.0000\n",
            "Epoch 100/100\n",
            "32/32 [==============================] - 0s 2ms/step - loss: 0.0013 - accuracy: 1.0000\n"
          ],
          "name": "stdout"
        },
        {
          "output_type": "execute_result",
          "data": {
            "text/plain": [
              "<tensorflow.python.keras.callbacks.History at 0x7fea67d22c50>"
            ]
          },
          "metadata": {
            "tags": []
          },
          "execution_count": 19
        }
      ]
    },
    {
      "cell_type": "code",
      "metadata": {
        "colab": {
          "base_uri": "https://localhost:8080/",
          "height": 282
        },
        "id": "B2t-to3U42Dz",
        "outputId": "ad093d0e-b1f1-4bdc-b223-e3183326731b"
      },
      "source": [
        "plot_decision_boundary(model_5, X, y)"
      ],
      "execution_count": 20,
      "outputs": [
        {
          "output_type": "stream",
          "text": [
            "doing binary classifcation...\n"
          ],
          "name": "stdout"
        },
        {
          "output_type": "display_data",
          "data": {
            "image/png": "[encoded data removed]",
            "text/plain": [
              "<Figure size 432x288 with 1 Axes>"
            ]
          },
          "metadata": {
            "tags": [],
            "needs_background": "light"
          }
        }
      ]
    },
    {
      "cell_type": "code",
      "metadata": {
        "colab": {
          "base_uri": "https://localhost:8080/"
        },
        "id": "cpWPPmmI48oa",
        "outputId": "da5cb48f-614e-4b01-e327-ca9fcad0ddc9"
      },
      "source": [
        "model_5.evaluate(X,y)"
      ],
      "execution_count": 21,
      "outputs": [
        {
          "output_type": "stream",
          "text": [
            "32/32 [==============================] - 0s 2ms/step - loss: 9.8952e-04 - accuracy: 1.0000\n"
          ],
          "name": "stdout"
        },
        {
          "output_type": "execute_result",
          "data": {
            "text/plain": [
              "[0.0009895246475934982, 1.0]"
            ]
          },
          "metadata": {
            "tags": []
          },
          "execution_count": 21
        }
      ]
    },
    {
      "cell_type": "code",
      "metadata": {
        "id": "I-OAa1DT5Hgq",
        "colab": {
          "base_uri": "https://localhost:8080/"
        },
        "outputId": "34cc1075-b2c1-4e12-8011-395d0e4946bd"
      },
      "source": [
        "# Split data into train and test sets\n",
        "X_train, y_train = X[:800], y[:800] # 80% of the data for the training set\n",
        "X_test, y_test = X[800:], y[800:] # 20% of the data for the test set\n",
        "\n",
        "# Check the shapes of the data\n",
        "X_train.shape, X_test.shape # 800 examples in the training set, 200 examples in the test set "
      ],
      "execution_count": 22,
      "outputs": [
        {
          "output_type": "execute_result",
          "data": {
            "text/plain": [
              "((800, 2), (200, 2))"
            ]
          },
          "metadata": {
            "tags": []
          },
          "execution_count": 22
        }
      ]
    },
    {
      "cell_type": "code",
      "metadata": {
        "colab": {
          "base_uri": "https://localhost:8080/"
        },
        "id": "bms4WKV66H7w",
        "outputId": "42087854-1dd5-47a4-8890-2a6b26a7c69e"
      },
      "source": [
        "#Another model\n",
        "\n",
        "#1. Create a model\n",
        "model_6 = tf.keras.models.Sequential([\n",
        "    tf.keras.layers.Dense(100,activation='relu'),\n",
        "    tf.keras.layers.Dense(100,activation='relu'),\n",
        "    tf.keras.layers.Dense(1,activation='sigmoid')\n",
        "])\n",
        "\n",
        "#2. Compile the model\n",
        "model_6.compile(loss=tf.keras.losses.BinaryCrossentropy(),\n",
        "                optimizer=tf.keras.optimizers.Adam(),\n",
        "                metrics=[\"accuracy\"])\n",
        "\n",
        "#3. Fit the model\n",
        "history = model_6.fit(X_train,y_train,epochs=100)"
      ],
      "execution_count": 23,
      "outputs": [
        {
          "output_type": "stream",
          "text": [
            "Epoch 1/100\n",
            "25/25 [==============================] - 0s 2ms/step - loss: 0.6914 - accuracy: 0.4812\n",
            "Epoch 2/100\n",
            "25/25 [==============================] - 0s 2ms/step - loss: 0.6839 - accuracy: 0.4988\n",
            "Epoch 3/100\n",
            "25/25 [==============================] - 0s 2ms/step - loss: 0.6782 - accuracy: 0.5000\n",
            "Epoch 4/100\n",
            "25/25 [==============================] - 0s 2ms/step - loss: 0.6704 - accuracy: 0.5337\n",
            "Epoch 5/100\n",
            "25/25 [==============================] - 0s 2ms/step - loss: 0.6602 - accuracy: 0.6200\n",
            "Epoch 6/100\n",
            "25/25 [==============================] - 0s 2ms/step - loss: 0.6431 - accuracy: 0.5600\n",
            "Epoch 7/100\n",
            "25/25 [==============================] - 0s 2ms/step - loss: 0.6192 - accuracy: 0.7975\n",
            "Epoch 8/100\n",
            "25/25 [==============================] - 0s 2ms/step - loss: 0.5876 - accuracy: 0.8300\n",
            "Epoch 9/100\n",
            "25/25 [==============================] - 0s 2ms/step - loss: 0.5392 - accuracy: 0.9325\n",
            "Epoch 10/100\n",
            "25/25 [==============================] - 0s 2ms/step - loss: 0.4784 - accuracy: 0.9675\n",
            "Epoch 11/100\n",
            "25/25 [==============================] - 0s 2ms/step - loss: 0.4121 - accuracy: 0.9837\n",
            "Epoch 12/100\n",
            "25/25 [==============================] - 0s 2ms/step - loss: 0.3450 - accuracy: 0.9862\n",
            "Epoch 13/100\n",
            "25/25 [==============================] - 0s 2ms/step - loss: 0.2771 - accuracy: 0.9925\n",
            "Epoch 14/100\n",
            "25/25 [==============================] - 0s 2ms/step - loss: 0.2197 - accuracy: 0.9987\n",
            "Epoch 15/100\n",
            "25/25 [==============================] - 0s 2ms/step - loss: 0.1729 - accuracy: 0.9987\n",
            "Epoch 16/100\n",
            "25/25 [==============================] - 0s 2ms/step - loss: 0.1376 - accuracy: 1.0000\n",
            "Epoch 17/100\n",
            "25/25 [==============================] - 0s 2ms/step - loss: 0.1115 - accuracy: 1.0000\n",
            "Epoch 18/100\n",
            "25/25 [==============================] - 0s 2ms/step - loss: 0.0931 - accuracy: 0.9987\n",
            "Epoch 19/100\n",
            "25/25 [==============================] - 0s 3ms/step - loss: 0.0779 - accuracy: 1.0000\n",
            "Epoch 20/100\n",
            "25/25 [==============================] - 0s 2ms/step - loss: 0.0691 - accuracy: 1.0000\n",
            "Epoch 21/100\n",
            "25/25 [==============================] - 0s 2ms/step - loss: 0.0572 - accuracy: 1.0000\n",
            "Epoch 22/100\n",
            "25/25 [==============================] - 0s 2ms/step - loss: 0.0503 - accuracy: 1.0000\n",
            "Epoch 23/100\n",
            "25/25 [==============================] - 0s 2ms/step - loss: 0.0436 - accuracy: 1.0000\n",
            "Epoch 24/100\n",
            "25/25 [==============================] - 0s 2ms/step - loss: 0.0396 - accuracy: 1.0000\n",
            "Epoch 25/100\n",
            "25/25 [==============================] - 0s 2ms/step - loss: 0.0351 - accuracy: 1.0000\n",
            "Epoch 26/100\n",
            "25/25 [==============================] - 0s 2ms/step - loss: 0.0317 - accuracy: 1.0000\n",
            "Epoch 27/100\n",
            "25/25 [==============================] - 0s 2ms/step - loss: 0.0289 - accuracy: 1.0000\n",
            "Epoch 28/100\n",
            "25/25 [==============================] - 0s 2ms/step - loss: 0.0268 - accuracy: 1.0000\n",
            "Epoch 29/100\n",
            "25/25 [==============================] - 0s 2ms/step - loss: 0.0239 - accuracy: 1.0000\n",
            "Epoch 30/100\n",
            "25/25 [==============================] - 0s 2ms/step - loss: 0.0227 - accuracy: 1.0000\n",
            "Epoch 31/100\n",
            "25/25 [==============================] - 0s 2ms/step - loss: 0.0210 - accuracy: 1.0000\n",
            "Epoch 32/100\n",
            "25/25 [==============================] - 0s 2ms/step - loss: 0.0193 - accuracy: 1.0000\n",
            "Epoch 33/100\n",
            "25/25 [==============================] - 0s 2ms/step - loss: 0.0175 - accuracy: 1.0000\n",
            "Epoch 34/100\n",
            "25/25 [==============================] - 0s 2ms/step - loss: 0.0160 - accuracy: 1.0000\n",
            "Epoch 35/100\n",
            "25/25 [==============================] - 0s 2ms/step - loss: 0.0151 - accuracy: 1.0000\n",
            "Epoch 36/100\n",
            "25/25 [==============================] - 0s 2ms/step - loss: 0.0145 - accuracy: 1.0000\n",
            "Epoch 37/100\n",
            "25/25 [==============================] - 0s 2ms/step - loss: 0.0135 - accuracy: 1.0000\n",
            "Epoch 38/100\n",
            "25/25 [==============================] - 0s 2ms/step - loss: 0.0131 - accuracy: 1.0000\n",
            "Epoch 39/100\n",
            "25/25 [==============================] - 0s 2ms/step - loss: 0.0121 - accuracy: 1.0000\n",
            "Epoch 40/100\n",
            "25/25 [==============================] - 0s 2ms/step - loss: 0.0113 - accuracy: 1.0000\n",
            "Epoch 41/100\n",
            "25/25 [==============================] - 0s 2ms/step - loss: 0.0110 - accuracy: 1.0000\n",
            "Epoch 42/100\n",
            "25/25 [==============================] - 0s 2ms/step - loss: 0.0104 - accuracy: 1.0000\n",
            "Epoch 43/100\n",
            "25/25 [==============================] - 0s 2ms/step - loss: 0.0103 - accuracy: 1.0000\n",
            "Epoch 44/100\n",
            "25/25 [==============================] - 0s 2ms/step - loss: 0.0093 - accuracy: 1.0000\n",
            "Epoch 45/100\n",
            "25/25 [==============================] - 0s 2ms/step - loss: 0.0091 - accuracy: 1.0000\n",
            "Epoch 46/100\n",
            "25/25 [==============================] - 0s 2ms/step - loss: 0.0089 - accuracy: 1.0000\n",
            "Epoch 47/100\n",
            "25/25 [==============================] - 0s 2ms/step - loss: 0.0079 - accuracy: 1.0000\n",
            "Epoch 48/100\n",
            "25/25 [==============================] - 0s 2ms/step - loss: 0.0079 - accuracy: 1.0000\n",
            "Epoch 49/100\n",
            "25/25 [==============================] - 0s 2ms/step - loss: 0.0074 - accuracy: 1.0000\n",
            "Epoch 50/100\n",
            "25/25 [==============================] - 0s 2ms/step - loss: 0.0071 - accuracy: 1.0000\n",
            "Epoch 51/100\n",
            "25/25 [==============================] - 0s 2ms/step - loss: 0.0070 - accuracy: 1.0000\n",
            "Epoch 52/100\n",
            "25/25 [==============================] - 0s 2ms/step - loss: 0.0068 - accuracy: 1.0000\n",
            "Epoch 53/100\n",
            "25/25 [==============================] - 0s 2ms/step - loss: 0.0062 - accuracy: 1.0000\n",
            "Epoch 54/100\n",
            "25/25 [==============================] - 0s 2ms/step - loss: 0.0063 - accuracy: 1.0000\n",
            "Epoch 55/100\n",
            "25/25 [==============================] - 0s 2ms/step - loss: 0.0060 - accuracy: 1.0000\n",
            "Epoch 56/100\n",
            "25/25 [==============================] - 0s 2ms/step - loss: 0.0055 - accuracy: 1.0000\n",
            "Epoch 57/100\n",
            "25/25 [==============================] - 0s 2ms/step - loss: 0.0053 - accuracy: 1.0000\n",
            "Epoch 58/100\n",
            "25/25 [==============================] - 0s 2ms/step - loss: 0.0052 - accuracy: 1.0000\n",
            "Epoch 59/100\n",
            "25/25 [==============================] - 0s 2ms/step - loss: 0.0054 - accuracy: 1.0000\n",
            "Epoch 60/100\n",
            "25/25 [==============================] - 0s 2ms/step - loss: 0.0053 - accuracy: 1.0000\n",
            "Epoch 61/100\n",
            "25/25 [==============================] - 0s 2ms/step - loss: 0.0047 - accuracy: 1.0000\n",
            "Epoch 62/100\n",
            "25/25 [==============================] - 0s 2ms/step - loss: 0.0047 - accuracy: 1.0000\n",
            "Epoch 63/100\n",
            "25/25 [==============================] - 0s 2ms/step - loss: 0.0043 - accuracy: 1.0000\n",
            "Epoch 64/100\n",
            "25/25 [==============================] - 0s 2ms/step - loss: 0.0046 - accuracy: 1.0000\n",
            "Epoch 65/100\n",
            "25/25 [==============================] - 0s 2ms/step - loss: 0.0043 - accuracy: 1.0000\n",
            "Epoch 66/100\n",
            "25/25 [==============================] - 0s 2ms/step - loss: 0.0039 - accuracy: 1.0000\n",
            "Epoch 67/100\n",
            "25/25 [==============================] - 0s 2ms/step - loss: 0.0038 - accuracy: 1.0000\n",
            "Epoch 68/100\n",
            "25/25 [==============================] - 0s 2ms/step - loss: 0.0037 - accuracy: 1.0000\n",
            "Epoch 69/100\n",
            "25/25 [==============================] - 0s 2ms/step - loss: 0.0034 - accuracy: 1.0000\n",
            "Epoch 70/100\n",
            "25/25 [==============================] - 0s 2ms/step - loss: 0.0038 - accuracy: 1.0000\n",
            "Epoch 71/100\n",
            "25/25 [==============================] - 0s 2ms/step - loss: 0.0040 - accuracy: 1.0000\n",
            "Epoch 72/100\n",
            "25/25 [==============================] - 0s 2ms/step - loss: 0.0034 - accuracy: 1.0000\n",
            "Epoch 73/100\n",
            "25/25 [==============================] - 0s 2ms/step - loss: 0.0031 - accuracy: 1.0000\n",
            "Epoch 74/100\n",
            "25/25 [==============================] - 0s 2ms/step - loss: 0.0030 - accuracy: 1.0000\n",
            "Epoch 75/100\n",
            "25/25 [==============================] - 0s 3ms/step - loss: 0.0029 - accuracy: 1.0000\n",
            "Epoch 76/100\n",
            "25/25 [==============================] - 0s 2ms/step - loss: 0.0028 - accuracy: 1.0000\n",
            "Epoch 77/100\n",
            "25/25 [==============================] - 0s 2ms/step - loss: 0.0027 - accuracy: 1.0000\n",
            "Epoch 78/100\n",
            "25/25 [==============================] - 0s 2ms/step - loss: 0.0026 - accuracy: 1.0000\n",
            "Epoch 79/100\n",
            "25/25 [==============================] - 0s 2ms/step - loss: 0.0029 - accuracy: 1.0000\n",
            "Epoch 80/100\n",
            "25/25 [==============================] - 0s 2ms/step - loss: 0.0028 - accuracy: 1.0000\n",
            "Epoch 81/100\n",
            "25/25 [==============================] - 0s 2ms/step - loss: 0.0025 - accuracy: 1.0000\n",
            "Epoch 82/100\n",
            "25/25 [==============================] - 0s 2ms/step - loss: 0.0024 - accuracy: 1.0000\n",
            "Epoch 83/100\n",
            "25/25 [==============================] - 0s 2ms/step - loss: 0.0023 - accuracy: 1.0000\n",
            "Epoch 84/100\n",
            "25/25 [==============================] - 0s 2ms/step - loss: 0.0024 - accuracy: 1.0000\n",
            "Epoch 85/100\n",
            "25/25 [==============================] - 0s 2ms/step - loss: 0.0026 - accuracy: 1.0000\n",
            "Epoch 86/100\n",
            "25/25 [==============================] - 0s 2ms/step - loss: 0.0021 - accuracy: 1.0000\n",
            "Epoch 87/100\n",
            "25/25 [==============================] - 0s 2ms/step - loss: 0.0022 - accuracy: 1.0000\n",
            "Epoch 88/100\n",
            "25/25 [==============================] - 0s 2ms/step - loss: 0.0022 - accuracy: 1.0000\n",
            "Epoch 89/100\n",
            "25/25 [==============================] - 0s 2ms/step - loss: 0.0022 - accuracy: 1.0000\n",
            "Epoch 90/100\n",
            "25/25 [==============================] - 0s 2ms/step - loss: 0.0021 - accuracy: 1.0000\n",
            "Epoch 91/100\n",
            "25/25 [==============================] - 0s 2ms/step - loss: 0.0019 - accuracy: 1.0000\n",
            "Epoch 92/100\n",
            "25/25 [==============================] - 0s 2ms/step - loss: 0.0019 - accuracy: 1.0000\n",
            "Epoch 93/100\n",
            "25/25 [==============================] - 0s 2ms/step - loss: 0.0017 - accuracy: 1.0000\n",
            "Epoch 94/100\n",
            "25/25 [==============================] - 0s 2ms/step - loss: 0.0019 - accuracy: 1.0000\n",
            "Epoch 95/100\n",
            "25/25 [==============================] - 0s 2ms/step - loss: 0.0019 - accuracy: 1.0000\n",
            "Epoch 96/100\n",
            "25/25 [==============================] - 0s 2ms/step - loss: 0.0016 - accuracy: 1.0000\n",
            "Epoch 97/100\n",
            "25/25 [==============================] - 0s 2ms/step - loss: 0.0016 - accuracy: 1.0000\n",
            "Epoch 98/100\n",
            "25/25 [==============================] - 0s 2ms/step - loss: 0.0015 - accuracy: 1.0000\n",
            "Epoch 99/100\n",
            "25/25 [==============================] - 0s 2ms/step - loss: 0.0016 - accuracy: 1.0000\n",
            "Epoch 100/100\n",
            "25/25 [==============================] - 0s 2ms/step - loss: 0.0016 - accuracy: 1.0000\n"
          ],
          "name": "stdout"
        }
      ]
    },
    {
      "cell_type": "code",
      "metadata": {
        "colab": {
          "base_uri": "https://localhost:8080/"
        },
        "id": "QIutoTiq6VsR",
        "outputId": "2625502f-6a19-46c0-f6d5-e32faf22aa26"
      },
      "source": [
        "# Evaluate our model on the test set\n",
        "loss, accuracy = model_6.evaluate(X_test, y_test)\n",
        "print(f\"Model loss on the test set: {loss}\")\n",
        "print(f\"Model accuracy on the test set: {100*accuracy:.2f}%\")"
      ],
      "execution_count": 24,
      "outputs": [
        {
          "output_type": "stream",
          "text": [
            "7/7 [==============================] - 0s 2ms/step - loss: 0.0039 - accuracy: 1.0000\n",
            "Model loss on the test set: 0.003929240629076958\n",
            "Model accuracy on the test set: 100.00%\n"
          ],
          "name": "stdout"
        }
      ]
    },
    {
      "cell_type": "code",
      "metadata": {
        "colab": {
          "base_uri": "https://localhost:8080/",
          "height": 425
        },
        "id": "vK_mL5V-6WVs",
        "outputId": "78bb211f-6346-44d4-d4db-beb78ea35005"
      },
      "source": [
        "# Plot the decision boundaries for the training and test sets\n",
        "plt.figure(figsize=(12, 6))\n",
        "plt.subplot(1, 2, 1)\n",
        "plt.title(\"Train\")\n",
        "plot_decision_boundary(model_6, X=X_train, y=y_train)\n",
        "plt.subplot(1, 2, 2)\n",
        "plt.title(\"Test\")\n",
        "plot_decision_boundary(model_6, X=X_test, y=y_test)\n",
        "plt.show()"
      ],
      "execution_count": 25,
      "outputs": [
        {
          "output_type": "stream",
          "text": [
            "doing binary classifcation...\n",
            "doing binary classifcation...\n"
          ],
          "name": "stdout"
        },
        {
          "output_type": "display_data",
          "data": {
            "image/png": "[encoded data removed]",
            "text/plain": [
              "<Figure size 864x432 with 2 Axes>"
            ]
          },
          "metadata": {
            "tags": [],
            "needs_background": "light"
          }
        }
      ]
    },
    {
      "cell_type": "markdown",
      "metadata": {
        "id": "hOnnqXkE6h00"
      },
      "source": [
        "# Plot the loss and accuracy metrics"
      ]
    },
    {
      "cell_type": "code",
      "metadata": {
        "id": "eAnjOqIT6uv2"
      },
      "source": [
        "history = pd.DataFrame(history.history)"
      ],
      "execution_count": 26,
      "outputs": []
    },
    {
      "cell_type": "code",
      "metadata": {
        "colab": {
          "base_uri": "https://localhost:8080/",
          "height": 406
        },
        "id": "t1mzdzR86x8p",
        "outputId": "68f58f28-5020-4fbe-a2a2-d3c907a5f15d"
      },
      "source": [
        "history"
      ],
      "execution_count": 27,
      "outputs": [
        {
          "output_type": "execute_result",
          "data": {
            "text/html": [
              "<div>\n",
              "<style scoped>\n",
              "    .dataframe tbody tr th:only-of-type {\n",
              "        vertical-align: middle;\n",
              "    }\n",
              "\n",
              "    .dataframe tbody tr th {\n",
              "        vertical-align: top;\n",
              "    }\n",
              "\n",
              "    .dataframe thead th {\n",
              "        text-align: right;\n",
              "    }\n",
              "</style>\n",
              "<table border=\"1\" class=\"dataframe\">\n",
              "  <thead>\n",
              "    <tr style=\"text-align: right;\">\n",
              "      <th></th>\n",
              "      <th>loss</th>\n",
              "      <th>accuracy</th>\n",
              "    </tr>\n",
              "  </thead>\n",
              "  <tbody>\n",
              "    <tr>\n",
              "      <th>0</th>\n",
              "      <td>0.691424</td>\n",
              "      <td>0.48125</td>\n",
              "    </tr>\n",
              "    <tr>\n",
              "      <th>1</th>\n",
              "      <td>0.683913</td>\n",
              "      <td>0.49875</td>\n",
              "    </tr>\n",
              "    <tr>\n",
              "      <th>2</th>\n",
              "      <td>0.678196</td>\n",
              "      <td>0.50000</td>\n",
              "    </tr>\n",
              "    <tr>\n",
              "      <th>3</th>\n",
              "      <td>0.670429</td>\n",
              "      <td>0.53375</td>\n",
              "    </tr>\n",
              "    <tr>\n",
              "      <th>4</th>\n",
              "      <td>0.660226</td>\n",
              "      <td>0.62000</td>\n",
              "    </tr>\n",
              "    <tr>\n",
              "      <th>...</th>\n",
              "      <td>...</td>\n",
              "      <td>...</td>\n",
              "    </tr>\n",
              "    <tr>\n",
              "      <th>95</th>\n",
              "      <td>0.001596</td>\n",
              "      <td>1.00000</td>\n",
              "    </tr>\n",
              "    <tr>\n",
              "      <th>96</th>\n",
              "      <td>0.001615</td>\n",
              "      <td>1.00000</td>\n",
              "    </tr>\n",
              "    <tr>\n",
              "      <th>97</th>\n",
              "      <td>0.001533</td>\n",
              "      <td>1.00000</td>\n",
              "    </tr>\n",
              "    <tr>\n",
              "      <th>98</th>\n",
              "      <td>0.001613</td>\n",
              "      <td>1.00000</td>\n",
              "    </tr>\n",
              "    <tr>\n",
              "      <th>99</th>\n",
              "      <td>0.001587</td>\n",
              "      <td>1.00000</td>\n",
              "    </tr>\n",
              "  </tbody>\n",
              "</table>\n",
              "<p>100 rows × 2 columns</p>\n",
              "</div>"
            ],
            "text/plain": [
              "        loss  accuracy\n",
              "0   0.691424   0.48125\n",
              "1   0.683913   0.49875\n",
              "2   0.678196   0.50000\n",
              "3   0.670429   0.53375\n",
              "4   0.660226   0.62000\n",
              "..       ...       ...\n",
              "95  0.001596   1.00000\n",
              "96  0.001615   1.00000\n",
              "97  0.001533   1.00000\n",
              "98  0.001613   1.00000\n",
              "99  0.001587   1.00000\n",
              "\n",
              "[100 rows x 2 columns]"
            ]
          },
          "metadata": {
            "tags": []
          },
          "execution_count": 27
        }
      ]
    },
    {
      "cell_type": "code",
      "metadata": {
        "colab": {
          "base_uri": "https://localhost:8080/",
          "height": 281
        },
        "id": "3IJXMQV96ymT",
        "outputId": "c5f0249a-4100-48d3-f2f1-1f2e39cffe53"
      },
      "source": [
        "history.plot()\n",
        "plt.title(\"Model 6 loss and accuracy\");"
      ],
      "execution_count": 28,
      "outputs": [
        {
          "output_type": "display_data",
          "data": {
            "image/png": "[encoded data removed]",
            "text/plain": [
              "<Figure size 432x288 with 1 Axes>"
            ]
          },
          "metadata": {
            "tags": [],
            "needs_background": "light"
          }
        }
      ]
    },
    {
      "cell_type": "markdown",
      "metadata": {
        "id": "B-sYxC1161tH"
      },
      "source": [
        "## Finding the best learning rate\n",
        "\n",
        "Aside from the architecture itself (the layers, number of neurons, activations, etc), the most important hyperparameter you can tune for your neural network models is the **learning rate**.\n",
        "\n",
        "\n",
        "* A [learning rate **callback**](https://www.tensorflow.org/api_docs/python/tf/keras/callbacks/LearningRateScheduler).\n",
        "   * You can think of a callback as an extra piece of functionality you can add to your model *while* its training.\n",
        "* Another model (we could use the same ones as above, we we're practicing building models here).\n",
        "* A modified loss curves plot.\n",
        "\n",
        "We'll go through each with code, then explain what's going on.\n",
        "\n",
        "> 🔑 **Note:** The default hyperparameters of many neural network building blocks in TensorFlow are setup in a way which usually work right out of the box (e.g. the [Adam optimizer's](https://www.tensorflow.org/api_docs/python/tf/keras/optimizers/Adam) default settings can usually get good results on many datasets). So it's a good idea to try the defaults first, then adjust as needed."
      ]
    },
    {
      "cell_type": "code",
      "metadata": {
        "colab": {
          "base_uri": "https://localhost:8080/"
        },
        "id": "w0MByI6SRDZK",
        "outputId": "b59a94de-fc7d-4e9c-edaa-8bac25517723"
      },
      "source": [
        "# Set random seed\n",
        "tf.random.set_seed(42)\n",
        "\n",
        "# Create a model (same as model_8)\n",
        "model_9 = tf.keras.Sequential([\n",
        "  tf.keras.layers.Dense(4, activation=\"relu\"),\n",
        "  tf.keras.layers.Dense(4, activation=\"relu\"),\n",
        "  tf.keras.layers.Dense(1, activation=\"sigmoid\")\n",
        "])\n",
        "\n",
        "# Compile the model\n",
        "model_9.compile(loss=\"binary_crossentropy\", # we can use strings here too\n",
        "              optimizer=\"Adam\", # same as tf.keras.optimizers.Adam() with default settings\n",
        "              metrics=[\"accuracy\"]) \n",
        "\n",
        "# Create a learning rate scheduler callback\n",
        "lr_scheduler = tf.keras.callbacks.LearningRateScheduler(lambda epoch: 1e-4 * 10**(epoch/20)) # traverse a set of learning rate values starting from 1e-4, increasing by 10**(epoch/20) every epoch\n",
        "\n",
        "# Fit the model (passing the lr_scheduler callback)\n",
        "history = model_9.fit(X_train, \n",
        "                      y_train, \n",
        "                      epochs=100,\n",
        "                      callbacks=[lr_scheduler])"
      ],
      "execution_count": 29,
      "outputs": [
        {
          "output_type": "stream",
          "text": [
            "Epoch 1/100\n",
            "25/25 [==============================] - 0s 2ms/step - loss: 0.6945 - accuracy: 0.4988\n",
            "Epoch 2/100\n",
            "25/25 [==============================] - 0s 2ms/step - loss: 0.6938 - accuracy: 0.4975\n",
            "Epoch 3/100\n",
            "25/25 [==============================] - 0s 2ms/step - loss: 0.6930 - accuracy: 0.4963\n",
            "Epoch 4/100\n",
            "25/25 [==============================] - 0s 2ms/step - loss: 0.6922 - accuracy: 0.4975\n",
            "Epoch 5/100\n",
            "25/25 [==============================] - 0s 2ms/step - loss: 0.6914 - accuracy: 0.5063\n",
            "Epoch 6/100\n",
            "25/25 [==============================] - 0s 2ms/step - loss: 0.6906 - accuracy: 0.5013\n",
            "Epoch 7/100\n",
            "25/25 [==============================] - 0s 2ms/step - loss: 0.6898 - accuracy: 0.4950\n",
            "Epoch 8/100\n",
            "25/25 [==============================] - 0s 2ms/step - loss: 0.6889 - accuracy: 0.5038\n",
            "Epoch 9/100\n",
            "25/25 [==============================] - 0s 2ms/step - loss: 0.6880 - accuracy: 0.5013\n",
            "Epoch 10/100\n",
            "25/25 [==============================] - 0s 2ms/step - loss: 0.6871 - accuracy: 0.5050\n",
            "Epoch 11/100\n",
            "25/25 [==============================] - 0s 2ms/step - loss: 0.6863 - accuracy: 0.5200\n",
            "Epoch 12/100\n",
            "25/25 [==============================] - 0s 2ms/step - loss: 0.6856 - accuracy: 0.5163\n",
            "Epoch 13/100\n",
            "25/25 [==============================] - 0s 2ms/step - loss: 0.6847 - accuracy: 0.5175\n",
            "Epoch 14/100\n",
            "25/25 [==============================] - 0s 2ms/step - loss: 0.6842 - accuracy: 0.5200\n",
            "Epoch 15/100\n",
            "25/25 [==============================] - 0s 2ms/step - loss: 0.6835 - accuracy: 0.5213\n",
            "Epoch 16/100\n",
            "25/25 [==============================] - 0s 2ms/step - loss: 0.6829 - accuracy: 0.5213\n",
            "Epoch 17/100\n",
            "25/25 [==============================] - 0s 2ms/step - loss: 0.6826 - accuracy: 0.5225\n",
            "Epoch 18/100\n",
            "25/25 [==============================] - 0s 2ms/step - loss: 0.6819 - accuracy: 0.5300\n",
            "Epoch 19/100\n",
            "25/25 [==============================] - 0s 2ms/step - loss: 0.6816 - accuracy: 0.5312\n",
            "Epoch 20/100\n",
            "25/25 [==============================] - 0s 2ms/step - loss: 0.6811 - accuracy: 0.5387\n",
            "Epoch 21/100\n",
            "25/25 [==============================] - 0s 2ms/step - loss: 0.6806 - accuracy: 0.5400\n",
            "Epoch 22/100\n",
            "25/25 [==============================] - 0s 2ms/step - loss: 0.6801 - accuracy: 0.5412\n",
            "Epoch 23/100\n",
            "25/25 [==============================] - 0s 2ms/step - loss: 0.6796 - accuracy: 0.5400\n",
            "Epoch 24/100\n",
            "25/25 [==============================] - 0s 2ms/step - loss: 0.6790 - accuracy: 0.5425\n",
            "Epoch 25/100\n",
            "25/25 [==============================] - 0s 2ms/step - loss: 0.6784 - accuracy: 0.5450\n",
            "Epoch 26/100\n",
            "25/25 [==============================] - 0s 2ms/step - loss: 0.6778 - accuracy: 0.5387\n",
            "Epoch 27/100\n",
            "25/25 [==============================] - 0s 2ms/step - loss: 0.6770 - accuracy: 0.5425\n",
            "Epoch 28/100\n",
            "25/25 [==============================] - 0s 2ms/step - loss: 0.6760 - accuracy: 0.5537\n",
            "Epoch 29/100\n",
            "25/25 [==============================] - 0s 2ms/step - loss: 0.6754 - accuracy: 0.5512\n",
            "Epoch 30/100\n",
            "25/25 [==============================] - 0s 2ms/step - loss: 0.6739 - accuracy: 0.5575\n",
            "Epoch 31/100\n",
            "25/25 [==============================] - 0s 2ms/step - loss: 0.6726 - accuracy: 0.5500\n",
            "Epoch 32/100\n",
            "25/25 [==============================] - 0s 2ms/step - loss: 0.6711 - accuracy: 0.5512\n",
            "Epoch 33/100\n",
            "25/25 [==============================] - 0s 2ms/step - loss: 0.6688 - accuracy: 0.5562\n",
            "Epoch 34/100\n",
            "25/25 [==============================] - 0s 2ms/step - loss: 0.6672 - accuracy: 0.5612\n",
            "Epoch 35/100\n",
            "25/25 [==============================] - 0s 2ms/step - loss: 0.6660 - accuracy: 0.5888\n",
            "Epoch 36/100\n",
            "25/25 [==============================] - 0s 2ms/step - loss: 0.6625 - accuracy: 0.5625\n",
            "Epoch 37/100\n",
            "25/25 [==============================] - 0s 2ms/step - loss: 0.6560 - accuracy: 0.5813\n",
            "Epoch 38/100\n",
            "25/25 [==============================] - 0s 2ms/step - loss: 0.6521 - accuracy: 0.6025\n",
            "Epoch 39/100\n",
            "25/25 [==============================] - 0s 2ms/step - loss: 0.6415 - accuracy: 0.7088\n",
            "Epoch 40/100\n",
            "25/25 [==============================] - 0s 2ms/step - loss: 0.6210 - accuracy: 0.7113\n",
            "Epoch 41/100\n",
            "25/25 [==============================] - 0s 2ms/step - loss: 0.5904 - accuracy: 0.7487\n",
            "Epoch 42/100\n",
            "25/25 [==============================] - 0s 2ms/step - loss: 0.5688 - accuracy: 0.7312\n",
            "Epoch 43/100\n",
            "25/25 [==============================] - 0s 2ms/step - loss: 0.5346 - accuracy: 0.7563\n",
            "Epoch 44/100\n",
            "25/25 [==============================] - 0s 2ms/step - loss: 0.4533 - accuracy: 0.8150\n",
            "Epoch 45/100\n",
            "25/25 [==============================] - 0s 2ms/step - loss: 0.3455 - accuracy: 0.9112\n",
            "Epoch 46/100\n",
            "25/25 [==============================] - 0s 2ms/step - loss: 0.2570 - accuracy: 0.9463\n",
            "Epoch 47/100\n",
            "25/25 [==============================] - 0s 2ms/step - loss: 0.1968 - accuracy: 0.9575\n",
            "Epoch 48/100\n",
            "25/25 [==============================] - 0s 2ms/step - loss: 0.1336 - accuracy: 0.9700\n",
            "Epoch 49/100\n",
            "25/25 [==============================] - 0s 2ms/step - loss: 0.1310 - accuracy: 0.9613\n",
            "Epoch 50/100\n",
            "25/25 [==============================] - 0s 2ms/step - loss: 0.1002 - accuracy: 0.9700\n",
            "Epoch 51/100\n",
            "25/25 [==============================] - 0s 2ms/step - loss: 0.1166 - accuracy: 0.9638\n",
            "Epoch 52/100\n",
            "25/25 [==============================] - 0s 2ms/step - loss: 0.1368 - accuracy: 0.9513\n",
            "Epoch 53/100\n",
            "25/25 [==============================] - 0s 2ms/step - loss: 0.0879 - accuracy: 0.9787\n",
            "Epoch 54/100\n",
            "25/25 [==============================] - 0s 2ms/step - loss: 0.1187 - accuracy: 0.9588\n",
            "Epoch 55/100\n",
            "25/25 [==============================] - 0s 2ms/step - loss: 0.0733 - accuracy: 0.9712\n",
            "Epoch 56/100\n",
            "25/25 [==============================] - 0s 2ms/step - loss: 0.1132 - accuracy: 0.9550\n",
            "Epoch 57/100\n",
            "25/25 [==============================] - 0s 2ms/step - loss: 0.1057 - accuracy: 0.9613\n",
            "Epoch 58/100\n",
            "25/25 [==============================] - 0s 2ms/step - loss: 0.0665 - accuracy: 0.9750\n",
            "Epoch 59/100\n",
            "25/25 [==============================] - 0s 2ms/step - loss: 0.1904 - accuracy: 0.9275\n",
            "Epoch 60/100\n",
            "25/25 [==============================] - 0s 2ms/step - loss: 0.1891 - accuracy: 0.9312\n",
            "Epoch 61/100\n",
            "25/25 [==============================] - 0s 2ms/step - loss: 0.4126 - accuracy: 0.8600\n",
            "Epoch 62/100\n",
            "25/25 [==============================] - 0s 2ms/step - loss: 0.1726 - accuracy: 0.9712\n",
            "Epoch 63/100\n",
            "25/25 [==============================] - 0s 2ms/step - loss: 0.0576 - accuracy: 0.9962\n",
            "Epoch 64/100\n",
            "25/25 [==============================] - 0s 2ms/step - loss: 0.0920 - accuracy: 0.9650\n",
            "Epoch 65/100\n",
            "25/25 [==============================] - 0s 2ms/step - loss: 0.2855 - accuracy: 0.8938\n",
            "Epoch 66/100\n",
            "25/25 [==============================] - 0s 2ms/step - loss: 0.5240 - accuracy: 0.8150\n",
            "Epoch 67/100\n",
            "25/25 [==============================] - 0s 2ms/step - loss: 0.2355 - accuracy: 0.9162\n",
            "Epoch 68/100\n",
            "25/25 [==============================] - 0s 2ms/step - loss: 0.0984 - accuracy: 0.9737\n",
            "Epoch 69/100\n",
            "25/25 [==============================] - 0s 2ms/step - loss: 0.1015 - accuracy: 0.9638\n",
            "Epoch 70/100\n",
            "25/25 [==============================] - 0s 2ms/step - loss: 0.4254 - accuracy: 0.8525\n",
            "Epoch 71/100\n",
            "25/25 [==============================] - 0s 2ms/step - loss: 0.2551 - accuracy: 0.8863\n",
            "Epoch 72/100\n",
            "25/25 [==============================] - 0s 2ms/step - loss: 0.1820 - accuracy: 0.9300\n",
            "Epoch 73/100\n",
            "25/25 [==============================] - 0s 2ms/step - loss: 0.3031 - accuracy: 0.8963\n",
            "Epoch 74/100\n",
            "25/25 [==============================] - 0s 2ms/step - loss: 0.1990 - accuracy: 0.9087\n",
            "Epoch 75/100\n",
            "25/25 [==============================] - 0s 2ms/step - loss: 0.4927 - accuracy: 0.7887\n",
            "Epoch 76/100\n",
            "25/25 [==============================] - 0s 2ms/step - loss: 0.2180 - accuracy: 0.9175\n",
            "Epoch 77/100\n",
            "25/25 [==============================] - 0s 2ms/step - loss: 0.3377 - accuracy: 0.8763\n",
            "Epoch 78/100\n",
            "25/25 [==============================] - 0s 2ms/step - loss: 0.2260 - accuracy: 0.9200\n",
            "Epoch 79/100\n",
            "25/25 [==============================] - 0s 2ms/step - loss: 0.2676 - accuracy: 0.9013\n",
            "Epoch 80/100\n",
            "25/25 [==============================] - 0s 2ms/step - loss: 0.3412 - accuracy: 0.8988\n",
            "Epoch 81/100\n",
            "25/25 [==============================] - 0s 2ms/step - loss: 0.6912 - accuracy: 0.5925\n",
            "Epoch 82/100\n",
            "25/25 [==============================] - 0s 2ms/step - loss: 0.6724 - accuracy: 0.5462\n",
            "Epoch 83/100\n",
            "25/25 [==============================] - 0s 2ms/step - loss: 0.6690 - accuracy: 0.5375\n",
            "Epoch 84/100\n",
            "25/25 [==============================] - 0s 2ms/step - loss: 0.6430 - accuracy: 0.5863\n",
            "Epoch 85/100\n",
            "25/25 [==============================] - 0s 2ms/step - loss: 0.6522 - accuracy: 0.5925\n",
            "Epoch 86/100\n",
            "25/25 [==============================] - 0s 2ms/step - loss: 0.6728 - accuracy: 0.5850\n",
            "Epoch 87/100\n",
            "25/25 [==============================] - 0s 2ms/step - loss: 0.7591 - accuracy: 0.5387\n",
            "Epoch 88/100\n",
            "25/25 [==============================] - 0s 2ms/step - loss: 0.7537 - accuracy: 0.4963\n",
            "Epoch 89/100\n",
            "25/25 [==============================] - 0s 2ms/step - loss: 0.7632 - accuracy: 0.4938\n",
            "Epoch 90/100\n",
            "25/25 [==============================] - 0s 2ms/step - loss: 0.7840 - accuracy: 0.5238\n",
            "Epoch 91/100\n",
            "25/25 [==============================] - 0s 2ms/step - loss: 0.8125 - accuracy: 0.5213\n",
            "Epoch 92/100\n",
            "25/25 [==============================] - 0s 2ms/step - loss: 0.7349 - accuracy: 0.4888\n",
            "Epoch 93/100\n",
            "25/25 [==============================] - 0s 2ms/step - loss: 0.7433 - accuracy: 0.5063\n",
            "Epoch 94/100\n",
            "25/25 [==============================] - 0s 2ms/step - loss: 0.7603 - accuracy: 0.5063\n",
            "Epoch 95/100\n",
            "25/25 [==============================] - 0s 2ms/step - loss: 0.8253 - accuracy: 0.4863\n",
            "Epoch 96/100\n",
            "25/25 [==============================] - 0s 2ms/step - loss: 0.7885 - accuracy: 0.4638\n",
            "Epoch 97/100\n",
            "25/25 [==============================] - 0s 2ms/step - loss: 0.8083 - accuracy: 0.5013\n",
            "Epoch 98/100\n",
            "25/25 [==============================] - 0s 2ms/step - loss: 0.9654 - accuracy: 0.4963\n",
            "Epoch 99/100\n",
            "25/25 [==============================] - 0s 2ms/step - loss: 0.9785 - accuracy: 0.4913\n",
            "Epoch 100/100\n",
            "25/25 [==============================] - 0s 2ms/step - loss: 0.8582 - accuracy: 0.4613\n"
          ],
          "name": "stdout"
        }
      ]
    },
    {
      "cell_type": "code",
      "metadata": {
        "colab": {
          "base_uri": "https://localhost:8080/",
          "height": 442
        },
        "id": "w-ZwevqqRKao",
        "outputId": "76049865-80fd-4347-8c45-f87c2e230e54"
      },
      "source": [
        "# Checkout the history\n",
        "pd.DataFrame(history.history).plot(figsize=(10,7), xlabel=\"epochs\");"
      ],
      "execution_count": 30,
      "outputs": [
        {
          "output_type": "display_data",
          "data": {
            "image/png": "[encoded data removed]",
            "text/plain": [
              "<Figure size 720x504 with 1 Axes>"
            ]
          },
          "metadata": {
            "tags": [],
            "needs_background": "light"
          }
        }
      ]
    },
    {
      "cell_type": "markdown",
      "metadata": {
        "id": "1np4Kjp8RSDe"
      },
      "source": [
        "As you you see the learning rate exponentially increases as the number of epochs increases.\n",
        "\n",
        "And you can see the model's accuracy goes up (and loss goes down) at a specific point when the learning rate slowly increases.\n",
        "\n",
        "To figure out where this infliction point is, we can plot the loss versus the log-scale learning rate."
      ]
    },
    {
      "cell_type": "code",
      "metadata": {
        "colab": {
          "base_uri": "https://localhost:8080/",
          "height": 406
        },
        "id": "6MrDsVI8RXtm",
        "outputId": "722f0772-a62f-4190-af23-fb1844f433a0"
      },
      "source": [
        "df_history= pd.DataFrame(history.history)\n",
        "df_history"
      ],
      "execution_count": 31,
      "outputs": [
        {
          "output_type": "execute_result",
          "data": {
            "text/html": [
              "<div>\n",
              "<style scoped>\n",
              "    .dataframe tbody tr th:only-of-type {\n",
              "        vertical-align: middle;\n",
              "    }\n",
              "\n",
              "    .dataframe tbody tr th {\n",
              "        vertical-align: top;\n",
              "    }\n",
              "\n",
              "    .dataframe thead th {\n",
              "        text-align: right;\n",
              "    }\n",
              "</style>\n",
              "<table border=\"1\" class=\"dataframe\">\n",
              "  <thead>\n",
              "    <tr style=\"text-align: right;\">\n",
              "      <th></th>\n",
              "      <th>loss</th>\n",
              "      <th>accuracy</th>\n",
              "      <th>lr</th>\n",
              "    </tr>\n",
              "  </thead>\n",
              "  <tbody>\n",
              "    <tr>\n",
              "      <th>0</th>\n",
              "      <td>0.694489</td>\n",
              "      <td>0.49875</td>\n",
              "      <td>0.000100</td>\n",
              "    </tr>\n",
              "    <tr>\n",
              "      <th>1</th>\n",
              "      <td>0.693771</td>\n",
              "      <td>0.49750</td>\n",
              "      <td>0.000112</td>\n",
              "    </tr>\n",
              "    <tr>\n",
              "      <th>2</th>\n",
              "      <td>0.693004</td>\n",
              "      <td>0.49625</td>\n",
              "      <td>0.000126</td>\n",
              "    </tr>\n",
              "    <tr>\n",
              "      <th>3</th>\n",
              "      <td>0.692244</td>\n",
              "      <td>0.49750</td>\n",
              "      <td>0.000141</td>\n",
              "    </tr>\n",
              "    <tr>\n",
              "      <th>4</th>\n",
              "      <td>0.691439</td>\n",
              "      <td>0.50625</td>\n",
              "      <td>0.000158</td>\n",
              "    </tr>\n",
              "    <tr>\n",
              "      <th>...</th>\n",
              "      <td>...</td>\n",
              "      <td>...</td>\n",
              "      <td>...</td>\n",
              "    </tr>\n",
              "    <tr>\n",
              "      <th>95</th>\n",
              "      <td>0.788510</td>\n",
              "      <td>0.46375</td>\n",
              "      <td>5.623413</td>\n",
              "    </tr>\n",
              "    <tr>\n",
              "      <th>96</th>\n",
              "      <td>0.808280</td>\n",
              "      <td>0.50125</td>\n",
              "      <td>6.309574</td>\n",
              "    </tr>\n",
              "    <tr>\n",
              "      <th>97</th>\n",
              "      <td>0.965410</td>\n",
              "      <td>0.49625</td>\n",
              "      <td>7.079458</td>\n",
              "    </tr>\n",
              "    <tr>\n",
              "      <th>98</th>\n",
              "      <td>0.978486</td>\n",
              "      <td>0.49125</td>\n",
              "      <td>7.943282</td>\n",
              "    </tr>\n",
              "    <tr>\n",
              "      <th>99</th>\n",
              "      <td>0.858191</td>\n",
              "      <td>0.46125</td>\n",
              "      <td>8.912509</td>\n",
              "    </tr>\n",
              "  </tbody>\n",
              "</table>\n",
              "<p>100 rows × 3 columns</p>\n",
              "</div>"
            ],
            "text/plain": [
              "        loss  accuracy        lr\n",
              "0   0.694489   0.49875  0.000100\n",
              "1   0.693771   0.49750  0.000112\n",
              "2   0.693004   0.49625  0.000126\n",
              "3   0.692244   0.49750  0.000141\n",
              "4   0.691439   0.50625  0.000158\n",
              "..       ...       ...       ...\n",
              "95  0.788510   0.46375  5.623413\n",
              "96  0.808280   0.50125  6.309574\n",
              "97  0.965410   0.49625  7.079458\n",
              "98  0.978486   0.49125  7.943282\n",
              "99  0.858191   0.46125  8.912509\n",
              "\n",
              "[100 rows x 3 columns]"
            ]
          },
          "metadata": {
            "tags": []
          },
          "execution_count": 31
        }
      ]
    },
    {
      "cell_type": "markdown",
      "metadata": {
        "id": "U__PQjp9RgdG"
      },
      "source": [
        "Now plotting Learning rate against the loss to find the optimum learning rate"
      ]
    },
    {
      "cell_type": "code",
      "metadata": {
        "colab": {
          "base_uri": "https://localhost:8080/",
          "height": 462
        },
        "id": "sbGXFTC0R35U",
        "outputId": "e46a26e4-e24b-486a-c3ca-aa02630fdfc3"
      },
      "source": [
        "# Plot the learning rate versus the loss\n",
        "lrs = 1e-4 * (10 ** (np.arange(100)/20))\n",
        "plt.figure(figsize=(10, 7))\n",
        "plt.semilogx(lrs, history.history[\"loss\"]) # we want the x-axis (learning rate) to be log scale\n",
        "plt.xlabel(\"Learning Rate\")\n",
        "plt.ylabel(\"Loss\")\n",
        "plt.title(\"Learning rate vs. loss\");"
      ],
      "execution_count": 32,
      "outputs": [
        {
          "output_type": "display_data",
          "data": {
            "image/png": "[encoded data removed]",
            "text/plain": [
              "<Figure size 720x504 with 1 Axes>"
            ]
          },
          "metadata": {
            "tags": [],
            "needs_background": "light"
          }
        }
      ]
    },
    {
      "cell_type": "code",
      "metadata": {
        "colab": {
          "base_uri": "https://localhost:8080/",
          "height": 462
        },
        "id": "cgEXaavMU-t7",
        "outputId": "04e00ddd-844c-43a3-e2b0-b07ff890796e"
      },
      "source": [
        "# Plot the learning rate versus the loss\n",
        "lrs = 1e-4 * (10 ** (np.arange(100)/20))\n",
        "plt.figure(figsize=(10, 7))\n",
        "plt.semilogx(df_history['lr'], df_history['accuracy']) # we want the x-axis (learning rate) to be log scale\n",
        "plt.xlabel(\"Learning Rate\")\n",
        "plt.ylabel(\"Loss\")\n",
        "plt.title(\"Learning rate vs. loss\");"
      ],
      "execution_count": 33,
      "outputs": [
        {
          "output_type": "display_data",
          "data": {
            "image/png": "[encoded data removed]",
            "text/plain": [
              "<Figure size 720x504 with 1 Axes>"
            ]
          },
          "metadata": {
            "tags": [],
            "needs_background": "light"
          }
        }
      ]
    },
    {
      "cell_type": "markdown",
      "metadata": {
        "id": "H_LY85XpR6Xs"
      },
      "source": [
        "To figure out the ideal value of the learning rate (at least the ideal value to *begin* training our model), the rule of thumb is to take the learning rate value where the loss is still decreasing but not quite flattened out (usually about 10x smaller than the bottom of the curve).\n",
        "\n",
        "In this case, our ideal learning rate ends up between `0.01` ($10^{-2}$) and `0.02`.\n",
        "\n",
        "![finding the ideal learning rate by plotting learning rate vs. loss](https://raw.githubusercontent.com/mrdbourke/tensorflow-deep-learning/main/images/02-learning-rate-vs-loss.png)\n",
        "\n",
        "*The ideal learning rate at the start of model training is somewhere just before the loss curve bottoms out (a value where the loss is still decreasing).*"
      ]
    },
    {
      "cell_type": "code",
      "metadata": {
        "colab": {
          "base_uri": "https://localhost:8080/"
        },
        "id": "Xr-85HY-SadG",
        "outputId": "2180f30f-efcb-4de8-8121-aa0037813979"
      },
      "source": [
        "# Set the random seed\n",
        "tf.random.set_seed(42)\n",
        "\n",
        "# Create the model\n",
        "model_10 = tf.keras.Sequential([\n",
        "  tf.keras.layers.Dense(4, activation=\"relu\"),\n",
        "  tf.keras.layers.Dense(4, activation=\"relu\"),\n",
        "  tf.keras.layers.Dense(1, activation=\"sigmoid\")\n",
        "])\n",
        "\n",
        "# Compile the model with the ideal learning rate\n",
        "model_10.compile(loss=\"binary_crossentropy\",\n",
        "                optimizer=tf.keras.optimizers.Adam(lr=0.02), # to adjust the learning rate, you need to use tf.keras.optimizers.Adam (not \"adam\")\n",
        "                metrics=[\"accuracy\"])\n",
        "\n",
        "# Fit the model for 20 epochs (5 less than before)\n",
        "history = model_10.fit(X_train, y_train, epochs=20)"
      ],
      "execution_count": 34,
      "outputs": [
        {
          "output_type": "stream",
          "text": [
            "/usr/local/lib/python3.7/dist-packages/tensorflow/python/keras/optimizer_v2/optimizer_v2.py:375: UserWarning: The `lr` argument is deprecated, use `learning_rate` instead.\n",
            "  \"The `lr` argument is deprecated, use `learning_rate` instead.\")\n"
          ],
          "name": "stderr"
        },
        {
          "output_type": "stream",
          "text": [
            "Epoch 1/20\n",
            "25/25 [==============================] - 0s 2ms/step - loss: 0.6837 - accuracy: 0.5600\n",
            "Epoch 2/20\n",
            "25/25 [==============================] - 0s 2ms/step - loss: 0.6744 - accuracy: 0.5750\n",
            "Epoch 3/20\n",
            "25/25 [==============================] - 0s 2ms/step - loss: 0.6626 - accuracy: 0.5875\n",
            "Epoch 4/20\n",
            "25/25 [==============================] - 0s 2ms/step - loss: 0.6332 - accuracy: 0.6388\n",
            "Epoch 5/20\n",
            "25/25 [==============================] - 0s 2ms/step - loss: 0.5830 - accuracy: 0.7563\n",
            "Epoch 6/20\n",
            "25/25 [==============================] - 0s 2ms/step - loss: 0.4907 - accuracy: 0.8313\n",
            "Epoch 7/20\n",
            "25/25 [==============================] - 0s 2ms/step - loss: 0.4251 - accuracy: 0.8450\n",
            "Epoch 8/20\n",
            "25/25 [==============================] - 0s 2ms/step - loss: 0.3596 - accuracy: 0.8875\n",
            "Epoch 9/20\n",
            "25/25 [==============================] - 0s 2ms/step - loss: 0.3152 - accuracy: 0.9100\n",
            "Epoch 10/20\n",
            "25/25 [==============================] - 0s 2ms/step - loss: 0.2512 - accuracy: 0.9500\n",
            "Epoch 11/20\n",
            "25/25 [==============================] - 0s 2ms/step - loss: 0.2152 - accuracy: 0.9500\n",
            "Epoch 12/20\n",
            "25/25 [==============================] - 0s 2ms/step - loss: 0.1721 - accuracy: 0.9750\n",
            "Epoch 13/20\n",
            "25/25 [==============================] - 0s 2ms/step - loss: 0.1443 - accuracy: 0.9837\n",
            "Epoch 14/20\n",
            "25/25 [==============================] - 0s 2ms/step - loss: 0.1232 - accuracy: 0.9862\n",
            "Epoch 15/20\n",
            "25/25 [==============================] - 0s 2ms/step - loss: 0.1085 - accuracy: 0.9850\n",
            "Epoch 16/20\n",
            "25/25 [==============================] - 0s 2ms/step - loss: 0.0940 - accuracy: 0.9937\n",
            "Epoch 17/20\n",
            "25/25 [==============================] - 0s 2ms/step - loss: 0.0827 - accuracy: 0.9962\n",
            "Epoch 18/20\n",
            "25/25 [==============================] - 0s 2ms/step - loss: 0.0798 - accuracy: 0.9937\n",
            "Epoch 19/20\n",
            "25/25 [==============================] - 0s 2ms/step - loss: 0.0845 - accuracy: 0.9875\n",
            "Epoch 20/20\n",
            "25/25 [==============================] - 0s 2ms/step - loss: 0.0790 - accuracy: 0.9887\n"
          ],
          "name": "stdout"
        }
      ]
    },
    {
      "cell_type": "markdown",
      "metadata": {
        "id": "Ygc6qYNsVb88"
      },
      "source": [
        "## More classification evaluation methods\n",
        "\n",
        "Alongside the visualizations we've been making, there are a number of different evaluation metrics we can use to evaluate our classification models.\n",
        "\n",
        "| **Metric name/Evaluation method** | **Defintion** | **Code** |\n",
        "| --- | --- | --- |\n",
        "| Accuracy | Out of 100 predictions, how many does your model get correct? E.g. 95% accuracy means it gets 95/100 predictions correct. | [`sklearn.metrics.accuracy_score()`](https://scikit-learn.org/stable/modules/generated/sklearn.metrics.accuracy_score.html) or [`tf.keras.metrics.Accuracy()`](tensorflow.org/api_docs/python/tf/keras/metrics/Accuracy) |\n",
        "| Precision | Proportion of true positives over total number of samples. Higher precision leads to less false positives (model predicts 1 when it should've been 0). | [`sklearn.metrics.precision_score()`](https://scikit-learn.org/stable/modules/generated/sklearn.metrics.precision_score.html) or [`tf.keras.metrics.Precision()`](tensorflow.org/api_docs/python/tf/keras/metrics/Precision) |\n",
        "| Recall | Proportion of true positives over total number of true positives and false negatives (model predicts 0 when it should've been 1). Higher recall leads to less false negatives. | [`sklearn.metrics.recall_score()`](https://scikit-learn.org/stable/modules/generated/sklearn.metrics.recall_score.html) or [`tf.keras.metrics.Recall()`](tensorflow.org/api_docs/python/tf/keras/metrics/Recall) |\n",
        "| F1-score | Combines precision and recall into one metric. 1 is best, 0 is worst. | [`sklearn.metrics.f1_score()`](https://scikit-learn.org/stable/modules/generated/sklearn.metrics.f1_score.html) |\n",
        "| [Confusion matrix](https://www.dataschool.io/simple-guide-to-confusion-matrix-terminology/)  | Compares the predicted values with the true values in a tabular way, if 100% correct, all values in the matrix will be top left to bottom right (diagnol line). | Custom function or [`sklearn.metrics.plot_confusion_matrix()`](https://scikit-learn.org/stable/modules/generated/sklearn.metrics.plot_confusion_matrix.html) |\n",
        "| Classification report | Collection of some of the main classification metrics such as precision, recall and f1-score. | [`sklearn.metrics.classification_report()`](https://scikit-learn.org/stable/modules/generated/sklearn.metrics.classification_report.html) |\n",
        "\n",
        "> 🔑 **Note:** Every classification problem will require different kinds of evaluation methods. But you should be familiar with at least the ones above.\n",
        "\n",
        "Let's start with accuracy.\n",
        "\n",
        "Because we passed `[\"accuracy\"]` to the `metrics` parameter when we compiled our model, calling `evaluate()` on it will return the loss as well as accuracy."
      ]
    },
    {
      "cell_type": "code",
      "metadata": {
        "id": "9SYjJ7DgXI7U",
        "colab": {
          "base_uri": "https://localhost:8080/"
        },
        "outputId": "7fa1e49d-ab46-4ce0-b50f-c85297847b63"
      },
      "source": [
        "from sklearn.metrics import classification_report\n",
        "y_pred = model_10.predict([[X_test]])\n",
        "y_pred\n"
      ],
      "execution_count": 35,
      "outputs": [
        {
          "output_type": "stream",
          "text": [
            "WARNING:tensorflow:Layers in a Sequential model should only have a single input tensor, but we receive a <class 'tuple'> input: ((<tf.Tensor 'IteratorGetNext:0' shape=(None, 2) dtype=float32>,),)\n",
            "Consider rewriting this model with the Functional API.\n"
          ],
          "name": "stdout"
        },
        {
          "output_type": "execute_result",
          "data": {
            "text/plain": [
              "array([[9.85265434e-01],\n",
              "       [9.99237895e-01],\n",
              "       [9.90323544e-01],\n",
              "       [9.97069418e-01],\n",
              "       [3.96228939e-01],\n",
              "       [1.81268770e-02],\n",
              "       [9.68290687e-01],\n",
              "       [1.97466705e-02],\n",
              "       [9.99671698e-01],\n",
              "       [5.64590737e-04],\n",
              "       [9.72873688e-01],\n",
              "       [2.71521598e-01],\n",
              "       [9.92272019e-01],\n",
              "       [9.27265763e-01],\n",
              "       [9.98101652e-01],\n",
              "       [9.91818786e-01],\n",
              "       [9.91739631e-01],\n",
              "       [9.33627009e-01],\n",
              "       [4.25937921e-02],\n",
              "       [9.91493464e-01],\n",
              "       [1.49991289e-02],\n",
              "       [9.32795107e-01],\n",
              "       [9.92896259e-01],\n",
              "       [9.73198473e-01],\n",
              "       [4.26507613e-05],\n",
              "       [9.21439648e-01],\n",
              "       [9.65749145e-01],\n",
              "       [2.41607264e-01],\n",
              "       [1.93991102e-02],\n",
              "       [9.98130977e-01],\n",
              "       [1.44243110e-02],\n",
              "       [9.44148898e-01],\n",
              "       [9.86896813e-01],\n",
              "       [1.23808295e-01],\n",
              "       [2.88016014e-02],\n",
              "       [9.63382185e-01],\n",
              "       [9.98146296e-01],\n",
              "       [9.63414848e-01],\n",
              "       [9.95050371e-01],\n",
              "       [9.88492250e-01],\n",
              "       [9.97049570e-01],\n",
              "       [9.32708740e-01],\n",
              "       [9.76667881e-01],\n",
              "       [9.27732605e-03],\n",
              "       [9.99066055e-01],\n",
              "       [9.61072862e-01],\n",
              "       [9.96635497e-01],\n",
              "       [1.02143660e-02],\n",
              "       [9.99359071e-01],\n",
              "       [3.07285984e-04],\n",
              "       [3.47040338e-03],\n",
              "       [9.74120080e-01],\n",
              "       [9.88394380e-01],\n",
              "       [8.70073214e-02],\n",
              "       [1.88689396e-01],\n",
              "       [9.95094379e-05],\n",
              "       [9.94503498e-01],\n",
              "       [4.52137403e-02],\n",
              "       [2.88984482e-03],\n",
              "       [9.80903447e-01],\n",
              "       [8.84046406e-02],\n",
              "       [7.83564299e-02],\n",
              "       [5.05688563e-02],\n",
              "       [9.01162803e-01],\n",
              "       [2.15362534e-02],\n",
              "       [9.57937062e-01],\n",
              "       [6.47485722e-03],\n",
              "       [7.94453979e-01],\n",
              "       [8.27858981e-04],\n",
              "       [1.45460444e-05],\n",
              "       [9.99163151e-01],\n",
              "       [1.42278001e-01],\n",
              "       [9.99482632e-01],\n",
              "       [9.90508795e-01],\n",
              "       [9.40230668e-01],\n",
              "       [9.99421000e-01],\n",
              "       [4.85855635e-05],\n",
              "       [9.86135960e-01],\n",
              "       [2.30398393e-04],\n",
              "       [1.96248256e-02],\n",
              "       [2.43673872e-04],\n",
              "       [3.13846022e-02],\n",
              "       [2.12577790e-01],\n",
              "       [1.25015499e-02],\n",
              "       [5.30756652e-01],\n",
              "       [4.01512355e-01],\n",
              "       [9.93256330e-01],\n",
              "       [1.04138919e-04],\n",
              "       [9.70202446e-01],\n",
              "       [5.06453104e-02],\n",
              "       [9.89271045e-01],\n",
              "       [9.92339969e-01],\n",
              "       [9.91254568e-01],\n",
              "       [5.80731705e-02],\n",
              "       [9.89033222e-01],\n",
              "       [1.37410266e-02],\n",
              "       [9.70293224e-01],\n",
              "       [1.32760470e-04],\n",
              "       [1.20574776e-04],\n",
              "       [9.99783218e-01],\n",
              "       [9.50982392e-01],\n",
              "       [9.96350527e-01],\n",
              "       [8.47947598e-03],\n",
              "       [6.44198945e-03],\n",
              "       [1.72308639e-01],\n",
              "       [9.94098186e-01],\n",
              "       [9.87757802e-01],\n",
              "       [4.52793837e-02],\n",
              "       [9.56778705e-01],\n",
              "       [1.86408997e-05],\n",
              "       [9.32023644e-01],\n",
              "       [9.30726588e-01],\n",
              "       [5.22509292e-02],\n",
              "       [9.71138716e-01],\n",
              "       [2.53471017e-01],\n",
              "       [2.03958787e-02],\n",
              "       [9.92558002e-01],\n",
              "       [9.99580801e-01],\n",
              "       [9.90526080e-01],\n",
              "       [1.57394651e-02],\n",
              "       [3.70688103e-02],\n",
              "       [6.21189422e-04],\n",
              "       [9.94643688e-01],\n",
              "       [9.86936033e-01],\n",
              "       [2.76438355e-01],\n",
              "       [2.27215278e-05],\n",
              "       [6.01142287e-01],\n",
              "       [1.80982221e-02],\n",
              "       [4.11799178e-02],\n",
              "       [9.53140974e-01],\n",
              "       [9.99358475e-01],\n",
              "       [3.99774835e-02],\n",
              "       [9.63670015e-01],\n",
              "       [5.21325134e-03],\n",
              "       [1.08969258e-03],\n",
              "       [2.55339593e-03],\n",
              "       [9.76243675e-01],\n",
              "       [5.58072068e-02],\n",
              "       [1.35066912e-01],\n",
              "       [6.68315962e-02],\n",
              "       [9.90237892e-01],\n",
              "       [9.99417663e-01],\n",
              "       [9.99269307e-01],\n",
              "       [9.96144176e-01],\n",
              "       [1.04404171e-03],\n",
              "       [9.99343693e-01],\n",
              "       [9.80513215e-01],\n",
              "       [9.94254410e-01],\n",
              "       [9.35019553e-03],\n",
              "       [9.87102687e-01],\n",
              "       [9.96918559e-01],\n",
              "       [9.79749322e-01],\n",
              "       [9.76329684e-01],\n",
              "       [9.37542841e-02],\n",
              "       [9.94555116e-01],\n",
              "       [9.92427528e-01],\n",
              "       [1.55755712e-04],\n",
              "       [9.90727663e-01],\n",
              "       [9.99703586e-01],\n",
              "       [7.88508187e-05],\n",
              "       [1.40886972e-04],\n",
              "       [9.51246142e-01],\n",
              "       [9.90273893e-01],\n",
              "       [9.57789540e-01],\n",
              "       [1.02408798e-02],\n",
              "       [1.01273432e-02],\n",
              "       [2.31212005e-03],\n",
              "       [3.76681128e-05],\n",
              "       [3.19329044e-03],\n",
              "       [1.05946071e-01],\n",
              "       [9.97693837e-01],\n",
              "       [1.47536220e-02],\n",
              "       [5.76236472e-02],\n",
              "       [9.53175426e-01],\n",
              "       [4.92044203e-02],\n",
              "       [1.95734110e-03],\n",
              "       [2.82668434e-02],\n",
              "       [9.37708616e-01],\n",
              "       [1.47617133e-02],\n",
              "       [9.56363857e-01],\n",
              "       [1.53974667e-01],\n",
              "       [9.32425499e-01],\n",
              "       [9.97206509e-01],\n",
              "       [6.57785609e-02],\n",
              "       [1.02412969e-01],\n",
              "       [6.29432648e-02],\n",
              "       [1.48053878e-04],\n",
              "       [2.68447120e-03],\n",
              "       [1.55601338e-01],\n",
              "       [1.97131205e-02],\n",
              "       [4.01783973e-01],\n",
              "       [9.29691136e-01],\n",
              "       [5.48275281e-03],\n",
              "       [9.95398819e-01],\n",
              "       [1.24773709e-04],\n",
              "       [8.78106952e-02],\n",
              "       [1.31529970e-02],\n",
              "       [9.96485710e-01],\n",
              "       [6.41279621e-03],\n",
              "       [3.42635922e-02]], dtype=float32)"
            ]
          },
          "metadata": {
            "tags": []
          },
          "execution_count": 35
        }
      ]
    },
    {
      "cell_type": "markdown",
      "metadata": {
        "id": "CaPlPR3-Uac4"
      },
      "source": [
        "Since all the outputs are probablities, we need to round them to either 1 or 0 based on the probablities. Through this we will be able to generate the confusion matrix"
      ]
    },
    {
      "cell_type": "code",
      "metadata": {
        "colab": {
          "base_uri": "https://localhost:8080/"
        },
        "id": "TP1VF5wHSe9s",
        "outputId": "23ae540c-02f7-4221-fb06-45d8a417be6d"
      },
      "source": [
        "print(classification_report(y_pred=tf.round(y_pred),y_true=y_test))"
      ],
      "execution_count": 36,
      "outputs": [
        {
          "output_type": "stream",
          "text": [
            "              precision    recall  f1-score   support\n",
            "\n",
            "           0       1.00      0.98      0.99       101\n",
            "           1       0.98      1.00      0.99        99\n",
            "\n",
            "    accuracy                           0.99       200\n",
            "   macro avg       0.99      0.99      0.99       200\n",
            "weighted avg       0.99      0.99      0.99       200\n",
            "\n"
          ],
          "name": "stdout"
        }
      ]
    },
    {
      "cell_type": "code",
      "metadata": {
        "colab": {
          "base_uri": "https://localhost:8080/"
        },
        "id": "54S1UN-TSnNZ",
        "outputId": "e389ad4e-6a3f-4e21-c903-276a93a3283b"
      },
      "source": [
        "from sklearn.metrics import confusion_matrix\n",
        "print(confusion_matrix(y_test,tf.round(y_pred)))\n"
      ],
      "execution_count": 37,
      "outputs": [
        {
          "output_type": "stream",
          "text": [
            "[[99  2]\n",
            " [ 0 99]]\n"
          ],
          "name": "stdout"
        }
      ]
    },
    {
      "cell_type": "markdown",
      "metadata": {
        "id": "yuihBp8XU7AL"
      },
      "source": [
        "# Multi-class classification problem\n",
        "\n",
        "This is when you have more than two different classes. \n",
        "\n",
        "Thus, for this section we will build a neural network to classify images of different items of clothing using the fashion MNIST dataset. This dataset is inbuilt with tensorflow dataset module [Fashion MNIST built-in](https://www.tensorflow.org/tutorials/keras/classification). The dataset which contains 70,000 grayscale images in 10 categories. The images show individual articles of clothing at low resolution (28 by 28 pixels), as seen here:"
      ]
    },
    {
      "cell_type": "code",
      "metadata": {
        "colab": {
          "base_uri": "https://localhost:8080/"
        },
        "id": "IhMAZ0H0a5Op",
        "outputId": "79607cdb-64dc-4121-f02e-b53a05342be0"
      },
      "source": [
        "import tensorflow as tf\n",
        "from tensorflow.keras.datasets import fashion_mnist\n",
        "\n",
        "#The datasets in tensorflow mostly have been split into training and test sets. Thus, we do no need to split ourselves.\n",
        "\n",
        "(train_data,train_labels) , (test_data,test_labels) = fashion_mnist.load_data()"
      ],
      "execution_count": 38,
      "outputs": [
        {
          "output_type": "stream",
          "text": [
            "Downloading data from https://storage.googleapis.com/tensorflow/tf-keras-datasets/train-labels-idx1-ubyte.gz\n",
            "32768/29515 [=================================] - 0s 0us/step\n",
            "Downloading data from https://storage.googleapis.com/tensorflow/tf-keras-datasets/train-images-idx3-ubyte.gz\n",
            "26427392/26421880 [==============================] - 0s 0us/step\n",
            "Downloading data from https://storage.googleapis.com/tensorflow/tf-keras-datasets/t10k-labels-idx1-ubyte.gz\n",
            "8192/5148 [===============================================] - 0s 0us/step\n",
            "Downloading data from https://storage.googleapis.com/tensorflow/tf-keras-datasets/t10k-images-idx3-ubyte.gz\n",
            "4423680/4422102 [==============================] - 0s 0us/step\n"
          ],
          "name": "stdout"
        }
      ]
    },
    {
      "cell_type": "code",
      "metadata": {
        "colab": {
          "base_uri": "https://localhost:8080/"
        },
        "id": "p-AOAq9wcciw",
        "outputId": "af348e44-77e5-4b35-ef73-73ee9e6ba32f"
      },
      "source": [
        "# Check an example from the training set\n",
        "print(f\"Training sample : \\n {train_data[0]}\\n\")\n",
        "print(f\"Training label : {train_labels[0]}\\n\")"
      ],
      "execution_count": 39,
      "outputs": [
        {
          "output_type": "stream",
          "text": [
            "Training sample : \n",
            " [[  0   0   0   0   0   0   0   0   0   0   0   0   0   0   0   0   0   0\n",
            "    0   0   0   0   0   0   0   0   0   0]\n",
            " [  0   0   0   0   0   0   0   0   0   0   0   0   0   0   0   0   0   0\n",
            "    0   0   0   0   0   0   0   0   0   0]\n",
            " [  0   0   0   0   0   0   0   0   0   0   0   0   0   0   0   0   0   0\n",
            "    0   0   0   0   0   0   0   0   0   0]\n",
            " [  0   0   0   0   0   0   0   0   0   0   0   0   1   0   0  13  73   0\n",
            "    0   1   4   0   0   0   0   1   1   0]\n",
            " [  0   0   0   0   0   0   0   0   0   0   0   0   3   0  36 136 127  62\n",
            "   54   0   0   0   1   3   4   0   0   3]\n",
            " [  0   0   0   0   0   0   0   0   0   0   0   0   6   0 102 204 176 134\n",
            "  144 123  23   0   0   0   0  12  10   0]\n",
            " [  0   0   0   0   0   0   0   0   0   0   0   0   0   0 155 236 207 178\n",
            "  107 156 161 109  64  23  77 130  72  15]\n",
            " [  0   0   0   0   0   0   0   0   0   0   0   1   0  69 207 223 218 216\n",
            "  216 163 127 121 122 146 141  88 172  66]\n",
            " [  0   0   0   0   0   0   0   0   0   1   1   1   0 200 232 232 233 229\n",
            "  223 223 215 213 164 127 123 196 229   0]\n",
            " [  0   0   0   0   0   0   0   0   0   0   0   0   0 183 225 216 223 228\n",
            "  235 227 224 222 224 221 223 245 173   0]\n",
            " [  0   0   0   0   0   0   0   0   0   0   0   0   0 193 228 218 213 198\n",
            "  180 212 210 211 213 223 220 243 202   0]\n",
            " [  0   0   0   0   0   0   0   0   0   1   3   0  12 219 220 212 218 192\n",
            "  169 227 208 218 224 212 226 197 209  52]\n",
            " [  0   0   0   0   0   0   0   0   0   0   6   0  99 244 222 220 218 203\n",
            "  198 221 215 213 222 220 245 119 167  56]\n",
            " [  0   0   0   0   0   0   0   0   0   4   0   0  55 236 228 230 228 240\n",
            "  232 213 218 223 234 217 217 209  92   0]\n",
            " [  0   0   1   4   6   7   2   0   0   0   0   0 237 226 217 223 222 219\n",
            "  222 221 216 223 229 215 218 255  77   0]\n",
            " [  0   3   0   0   0   0   0   0   0  62 145 204 228 207 213 221 218 208\n",
            "  211 218 224 223 219 215 224 244 159   0]\n",
            " [  0   0   0   0  18  44  82 107 189 228 220 222 217 226 200 205 211 230\n",
            "  224 234 176 188 250 248 233 238 215   0]\n",
            " [  0  57 187 208 224 221 224 208 204 214 208 209 200 159 245 193 206 223\n",
            "  255 255 221 234 221 211 220 232 246   0]\n",
            " [  3 202 228 224 221 211 211 214 205 205 205 220 240  80 150 255 229 221\n",
            "  188 154 191 210 204 209 222 228 225   0]\n",
            " [ 98 233 198 210 222 229 229 234 249 220 194 215 217 241  65  73 106 117\n",
            "  168 219 221 215 217 223 223 224 229  29]\n",
            " [ 75 204 212 204 193 205 211 225 216 185 197 206 198 213 240 195 227 245\n",
            "  239 223 218 212 209 222 220 221 230  67]\n",
            " [ 48 203 183 194 213 197 185 190 194 192 202 214 219 221 220 236 225 216\n",
            "  199 206 186 181 177 172 181 205 206 115]\n",
            " [  0 122 219 193 179 171 183 196 204 210 213 207 211 210 200 196 194 191\n",
            "  195 191 198 192 176 156 167 177 210  92]\n",
            " [  0   0  74 189 212 191 175 172 175 181 185 188 189 188 193 198 204 209\n",
            "  210 210 211 188 188 194 192 216 170   0]\n",
            " [  2   0   0   0  66 200 222 237 239 242 246 243 244 221 220 193 191 179\n",
            "  182 182 181 176 166 168  99  58   0   0]\n",
            " [  0   0   0   0   0   0   0  40  61  44  72  41  35   0   0   0   0   0\n",
            "    0   0   0   0   0   0   0   0   0   0]\n",
            " [  0   0   0   0   0   0   0   0   0   0   0   0   0   0   0   0   0   0\n",
            "    0   0   0   0   0   0   0   0   0   0]\n",
            " [  0   0   0   0   0   0   0   0   0   0   0   0   0   0   0   0   0   0\n",
            "    0   0   0   0   0   0   0   0   0   0]]\n",
            "\n",
            "Training label : 9\n",
            "\n"
          ],
          "name": "stdout"
        }
      ]
    },
    {
      "cell_type": "code",
      "metadata": {
        "colab": {
          "base_uri": "https://localhost:8080/"
        },
        "id": "lX2ftu8wcyeY",
        "outputId": "bf59dded-27d4-424d-cf7a-6f05ad4427c6"
      },
      "source": [
        "#Check the shape of the above example\n",
        "train_data[0].shape"
      ],
      "execution_count": 40,
      "outputs": [
        {
          "output_type": "execute_result",
          "data": {
            "text/plain": [
              "(28, 28)"
            ]
          },
          "metadata": {
            "tags": []
          },
          "execution_count": 40
        }
      ]
    },
    {
      "cell_type": "code",
      "metadata": {
        "colab": {
          "base_uri": "https://localhost:8080/",
          "height": 282
        },
        "id": "RxjEQoRydELG",
        "outputId": "0af2a4b7-d57e-456e-cfd0-849159ae34a9"
      },
      "source": [
        "#Plot a sample\n",
        "import matplotlib.pyplot as plt\n",
        "import random\n",
        "plt.imshow(train_data[3])"
      ],
      "execution_count": 41,
      "outputs": [
        {
          "output_type": "execute_result",
          "data": {
            "text/plain": [
              "<matplotlib.image.AxesImage at 0x7fea678ef690>"
            ]
          },
          "metadata": {
            "tags": []
          },
          "execution_count": 41
        },
        {
          "output_type": "display_data",
          "data": {
            "image/png": "[encoded data removed]",
            "text/plain": [
              "<Figure size 432x288 with 1 Axes>"
            ]
          },
          "metadata": {
            "tags": [],
            "needs_background": "light"
          }
        }
      ]
    },
    {
      "cell_type": "code",
      "metadata": {
        "id": "whfXmXkDdOXd"
      },
      "source": [
        "class_names = {0:'T-shirt/top', 1:'Trouser', 2:'Pullover', 3:'Dress', 4:'Coat',\n",
        "               5:'Sandal', 6:'Shirt', 7:'Sneaker', 8:'Bag', 9:'Ankle boot'}"
      ],
      "execution_count": 42,
      "outputs": []
    },
    {
      "cell_type": "code",
      "metadata": {
        "colab": {
          "base_uri": "https://localhost:8080/",
          "height": 298
        },
        "id": "Beb-In50eqeW",
        "outputId": "afd47566-79e3-4b4f-cd75-a11cec5d2ea0"
      },
      "source": [
        "#Plot an example of images\n",
        "number = random.randint(0,len(train_data))\n",
        "plt.imshow(train_data[number],cmap=plt.cm.binary)\n",
        "plt.title(f\"{class_names[train_labels[number]]}\")"
      ],
      "execution_count": 43,
      "outputs": [
        {
          "output_type": "execute_result",
          "data": {
            "text/plain": [
              "Text(0.5, 1.0, 'Ankle boot')"
            ]
          },
          "metadata": {
            "tags": []
          },
          "execution_count": 43
        },
        {
          "output_type": "display_data",
          "data": {
            "image/png": "[encoded data removed]",
            "text/plain": [
              "<Figure size 432x288 with 1 Axes>"
            ]
          },
          "metadata": {
            "tags": [],
            "needs_background": "light"
          }
        }
      ]
    },
    {
      "cell_type": "code",
      "metadata": {
        "colab": {
          "base_uri": "https://localhost:8080/",
          "height": 653
        },
        "id": "Lt8wO6Pclc8r",
        "outputId": "51615e06-7c8f-439c-882e-0d8132832960"
      },
      "source": [
        "# Plot multiple random images of fashin Minst\n",
        "plt.figure(figsize=(15,15))\n",
        "for i in range(10):\n",
        "  ax = plt.subplot(2,5,i+1)\n",
        "  number = random.randint(0,len(train_data))\n",
        "  plt.imshow(train_data[number],cmap=plt.cm.binary)\n",
        "  plt.title(f\"{class_names[train_labels[number]]}\")"
      ],
      "execution_count": 44,
      "outputs": [
        {
          "output_type": "display_data",
          "data": {
            "image/png": "[encoded data removed]",
            "text/plain": [
              "<Figure size 1080x1080 with 10 Axes>"
            ]
          },
          "metadata": {
            "tags": [],
            "needs_background": "light"
          }
        }
      ]
    },
    {
      "cell_type": "markdown",
      "metadata": {
        "id": "ga5-eTDunnu3"
      },
      "source": [
        "# Building the multi-class classfication model"
      ]
    },
    {
      "cell_type": "markdown",
      "metadata": {
        "id": "yaoZ0gxdoC0c"
      },
      "source": [
        " Since this is a multiclass classification problem, we'll need to make a few changes to our architecture (inline with Table 1 above):\n",
        "\n",
        "* The **input shape** will have to deal with 28x28 tensors (the height and width of our images).\n",
        "  * We're actually going to squash the input into a tensor (vector) of shape `(784)`.\n",
        "* The **output shape** will have to be 10 because we need our model to predict for 10 different classes.\n",
        "  * We'll also change the `activation` parameter of our output layer to be [`\"softmax\"`](https://www.tensorflow.org/api_docs/python/tf/keras/activations/softmax) instead of `'sigmoid'`. As we'll see the `\"softmax\"` activation function outputs a series of values between 0 & 1 (the same shape as **output shape**, which together add up to ~1. The index with the highest value is predicted by the model to be the most *likely* class.\n",
        "* We'll need to change our loss function from a binary loss function to a multiclass loss function. \n",
        "  * More specifically, since our labels are in integer form, we'll use [`tf.keras.losses.SparseCategoricalCrossentropy()`](https://www.tensorflow.org/versions/r2.0/api_docs/python/tf/keras/losses/SparseCategoricalCrossentropy), if our labels were one-hot encoded (e.g. they looked something like `[0, 0, 1, 0, 0...]`), we'd use [`tf.keras.losses.CategoricalCrossentropy()`](https://www.tensorflow.org/api_docs/python/tf/keras/losses/CategoricalCrossentropy).\n",
        "* We'll also use the `validation_data` parameter when calling the `fit()` function. This will give us an idea of how the model performs on the test set during training.\n"
      ]
    },
    {
      "cell_type": "code",
      "metadata": {
        "colab": {
          "base_uri": "https://localhost:8080/"
        },
        "id": "39EfIgUtqXB9",
        "outputId": "782f0185-4c75-49e8-cecd-9152c99d89ae"
      },
      "source": [
        "#Set random seed\n",
        "tf.random.set_seed(42)\n",
        "\n",
        "#1. Create model\n",
        "mnist_model_1 = tf.keras.models.Sequential([\n",
        "        tf.keras.layers.Flatten(input_shape=(28,28)),\n",
        "        tf.keras.layers.Dense(1000,activation='relu'),\n",
        "        tf.keras.layers.Dense(1000,activation='relu'),\n",
        "        tf.keras.layers.Dense(10,activation='softmax')\n",
        "])\n",
        "\n",
        "#2. Compile the model\n",
        "mnist_model_1.compile(loss=tf.keras.losses.SparseCategoricalCrossentropy(),\n",
        "                      optimizer = tf.keras.optimizers.Adam(),\n",
        "                      metrics = ['accuracy'])\n",
        "#3. Fit the model\n",
        "mnist_model_1_history = mnist_model_1.fit(train_data,train_labels,epochs=20,validation_data=(test_data,test_labels))"
      ],
      "execution_count": 45,
      "outputs": [
        {
          "output_type": "stream",
          "text": [
            "Epoch 1/20\n",
            "1875/1875 [==============================] - 5s 2ms/step - loss: 2.2444 - accuracy: 0.7487 - val_loss: 0.6680 - val_accuracy: 0.7628\n",
            "Epoch 2/20\n",
            "1875/1875 [==============================] - 4s 2ms/step - loss: 0.6205 - accuracy: 0.7981 - val_loss: 0.6539 - val_accuracy: 0.7842\n",
            "Epoch 3/20\n",
            "1875/1875 [==============================] - 4s 2ms/step - loss: 0.5292 - accuracy: 0.8181 - val_loss: 0.5641 - val_accuracy: 0.7846\n",
            "Epoch 4/20\n",
            "1875/1875 [==============================] - 4s 2ms/step - loss: 0.4756 - accuracy: 0.8353 - val_loss: 0.5626 - val_accuracy: 0.8071\n",
            "Epoch 5/20\n",
            "1875/1875 [==============================] - 4s 2ms/step - loss: 0.4460 - accuracy: 0.8449 - val_loss: 0.4811 - val_accuracy: 0.8257\n",
            "Epoch 6/20\n",
            "1875/1875 [==============================] - 4s 2ms/step - loss: 0.4225 - accuracy: 0.8499 - val_loss: 0.4628 - val_accuracy: 0.8391\n",
            "Epoch 7/20\n",
            "1875/1875 [==============================] - 4s 2ms/step - loss: 0.4108 - accuracy: 0.8534 - val_loss: 0.4419 - val_accuracy: 0.8397\n",
            "Epoch 8/20\n",
            "1875/1875 [==============================] - 4s 2ms/step - loss: 0.3986 - accuracy: 0.8562 - val_loss: 0.4740 - val_accuracy: 0.8390\n",
            "Epoch 9/20\n",
            "1875/1875 [==============================] - 4s 2ms/step - loss: 0.3973 - accuracy: 0.8582 - val_loss: 0.4354 - val_accuracy: 0.8512\n",
            "Epoch 10/20\n",
            "1875/1875 [==============================] - 4s 2ms/step - loss: 0.3856 - accuracy: 0.8618 - val_loss: 0.4453 - val_accuracy: 0.8420\n",
            "Epoch 11/20\n",
            "1875/1875 [==============================] - 4s 2ms/step - loss: 0.3835 - accuracy: 0.8625 - val_loss: 0.4573 - val_accuracy: 0.8452\n",
            "Epoch 12/20\n",
            "1875/1875 [==============================] - 4s 2ms/step - loss: 0.3814 - accuracy: 0.8645 - val_loss: 0.4335 - val_accuracy: 0.8510\n",
            "Epoch 13/20\n",
            "1875/1875 [==============================] - 4s 2ms/step - loss: 0.3806 - accuracy: 0.8637 - val_loss: 0.4568 - val_accuracy: 0.8529\n",
            "Epoch 14/20\n",
            "1875/1875 [==============================] - 4s 2ms/step - loss: 0.3722 - accuracy: 0.8679 - val_loss: 0.4336 - val_accuracy: 0.8522\n",
            "Epoch 15/20\n",
            "1875/1875 [==============================] - 4s 2ms/step - loss: 0.3759 - accuracy: 0.8658 - val_loss: 0.4976 - val_accuracy: 0.8379\n",
            "Epoch 16/20\n",
            "1875/1875 [==============================] - 4s 2ms/step - loss: 0.3654 - accuracy: 0.8676 - val_loss: 0.4834 - val_accuracy: 0.8461\n",
            "Epoch 17/20\n",
            "1875/1875 [==============================] - 4s 2ms/step - loss: 0.3701 - accuracy: 0.8679 - val_loss: 0.4584 - val_accuracy: 0.8529\n",
            "Epoch 18/20\n",
            "1875/1875 [==============================] - 4s 2ms/step - loss: 0.3625 - accuracy: 0.8697 - val_loss: 0.5098 - val_accuracy: 0.8504\n",
            "Epoch 19/20\n",
            "1875/1875 [==============================] - 4s 2ms/step - loss: 0.3595 - accuracy: 0.8715 - val_loss: 0.4652 - val_accuracy: 0.8512\n",
            "Epoch 20/20\n",
            "1875/1875 [==============================] - 4s 2ms/step - loss: 0.3580 - accuracy: 0.8727 - val_loss: 0.4619 - val_accuracy: 0.8512\n"
          ],
          "name": "stdout"
        }
      ]
    },
    {
      "cell_type": "code",
      "metadata": {
        "colab": {
          "base_uri": "https://localhost:8080/"
        },
        "id": "P-Mgq22jrUK_",
        "outputId": "be4b719b-8e1a-4c4a-d5e8-c3183c142cd3"
      },
      "source": [
        "# Check the model summary\n",
        "mnist_model_1.summary()"
      ],
      "execution_count": 46,
      "outputs": [
        {
          "output_type": "stream",
          "text": [
            "Model: \"sequential_7\"\n",
            "_________________________________________________________________\n",
            "Layer (type)                 Output Shape              Param #   \n",
            "=================================================================\n",
            "flatten (Flatten)            (None, 784)               0         \n",
            "_________________________________________________________________\n",
            "dense_19 (Dense)             (None, 1000)              785000    \n",
            "_________________________________________________________________\n",
            "dense_20 (Dense)             (None, 1000)              1001000   \n",
            "_________________________________________________________________\n",
            "dense_21 (Dense)             (None, 10)                10010     \n",
            "=================================================================\n",
            "Total params: 1,796,010\n",
            "Trainable params: 1,796,010\n",
            "Non-trainable params: 0\n",
            "_________________________________________________________________\n"
          ],
          "name": "stdout"
        }
      ]
    },
    {
      "cell_type": "markdown",
      "metadata": {
        "id": "JnD-CXm57REI"
      },
      "source": [
        "Do you remember when we talked about neural networks preferring numbers between 0 and 1? (if not, treat this as a reminder)\n",
        "\n",
        "Well, right now, the data we have isn't between 0 and 1, in other words, it's not normalized (hence why we used the `non_norm_history` variable when calling `fit()`). It's pixel values are between 0 and 255."
      ]
    },
    {
      "cell_type": "code",
      "metadata": {
        "colab": {
          "base_uri": "https://localhost:8080/"
        },
        "id": "NikPI3qJ7oBG",
        "outputId": "2d308748-2dcb-4b7f-a9e9-b100403f6652"
      },
      "source": [
        "#Check the min and max values of the training data\n",
        "train_data.min(), train_data.max()"
      ],
      "execution_count": 47,
      "outputs": [
        {
          "output_type": "execute_result",
          "data": {
            "text/plain": [
              "(0, 255)"
            ]
          },
          "metadata": {
            "tags": []
          },
          "execution_count": 47
        }
      ]
    },
    {
      "cell_type": "markdown",
      "metadata": {
        "id": "gDhpitzj7vIL"
      },
      "source": [
        "We can get these values between 0 and 1 by dividing the entire array by the maximum: `255.0` (dividing by a float also converts to a float).\n",
        "\n",
        "\n",
        "Doing so will result in all of our data being between 0 and 1 (known as **scaling** or **normalization**)."
      ]
    },
    {
      "cell_type": "code",
      "metadata": {
        "colab": {
          "base_uri": "https://localhost:8080/"
        },
        "id": "arXh-m_J72rN",
        "outputId": "f903a439-fd88-47dd-d9ec-ed50c5faf47a"
      },
      "source": [
        "train_data_norm = train_data / 255.0\n",
        "test_Data_norm = test_data/255.0\n",
        "\n",
        "#Check the min and max values of train data now\n",
        "train_data_norm.min() , train_data_norm.max()"
      ],
      "execution_count": 48,
      "outputs": [
        {
          "output_type": "execute_result",
          "data": {
            "text/plain": [
              "(0.0, 1.0)"
            ]
          },
          "metadata": {
            "tags": []
          },
          "execution_count": 48
        }
      ]
    },
    {
      "cell_type": "markdown",
      "metadata": {
        "id": "5ee0yFEK8JrT"
      },
      "source": [
        "Beautiful! Now our data is between 0 and 1. Let's see what happens when we model it.\n",
        "\n",
        "We'll use the same model as before (`model_11`) except this time the data will be normalized."
      ]
    },
    {
      "cell_type": "code",
      "metadata": {
        "colab": {
          "base_uri": "https://localhost:8080/"
        },
        "id": "bYxdDDWA8O_x",
        "outputId": "7ea08cda-62ab-4f23-9ded-fe1a23afb58c"
      },
      "source": [
        "#Set random seed\n",
        "tf.random.set_seed(42)\n",
        "\n",
        "#1. Create model\n",
        "mnist_model_2 = tf.keras.models.Sequential([\n",
        "        tf.keras.layers.Flatten(input_shape=(28,28)),\n",
        "        tf.keras.layers.Dense(1000,activation='relu'),\n",
        "        tf.keras.layers.Dense(1000,activation='relu'),\n",
        "        tf.keras.layers.Dense(10,activation='softmax')\n",
        "])\n",
        "\n",
        "#2. Compile the model\n",
        "mnist_model_2.compile(loss=tf.keras.losses.SparseCategoricalCrossentropy(),\n",
        "                      optimizer = tf.keras.optimizers.Adam(),\n",
        "                      metrics = ['accuracy'])\n",
        "#3. Fit the model\n",
        "mnist_model_2_history = mnist_model_2.fit(train_data,train_labels,epochs=50,validation_data=(test_data,test_labels))"
      ],
      "execution_count": 49,
      "outputs": [
        {
          "output_type": "stream",
          "text": [
            "Epoch 1/50\n",
            "1875/1875 [==============================] - 4s 2ms/step - loss: 2.2444 - accuracy: 0.7487 - val_loss: 0.6680 - val_accuracy: 0.7628\n",
            "Epoch 2/50\n",
            "1875/1875 [==============================] - 4s 2ms/step - loss: 0.6205 - accuracy: 0.7981 - val_loss: 0.6539 - val_accuracy: 0.7842\n",
            "Epoch 3/50\n",
            "1875/1875 [==============================] - 4s 2ms/step - loss: 0.5292 - accuracy: 0.8181 - val_loss: 0.5641 - val_accuracy: 0.7846\n",
            "Epoch 4/50\n",
            "1875/1875 [==============================] - 4s 2ms/step - loss: 0.4756 - accuracy: 0.8353 - val_loss: 0.5626 - val_accuracy: 0.8071\n",
            "Epoch 5/50\n",
            "1875/1875 [==============================] - 4s 2ms/step - loss: 0.4460 - accuracy: 0.8449 - val_loss: 0.4811 - val_accuracy: 0.8257\n",
            "Epoch 6/50\n",
            "1875/1875 [==============================] - 4s 2ms/step - loss: 0.4225 - accuracy: 0.8499 - val_loss: 0.4628 - val_accuracy: 0.8391\n",
            "Epoch 7/50\n",
            "1875/1875 [==============================] - 4s 2ms/step - loss: 0.4108 - accuracy: 0.8534 - val_loss: 0.4419 - val_accuracy: 0.8397\n",
            "Epoch 8/50\n",
            "1875/1875 [==============================] - 4s 2ms/step - loss: 0.3986 - accuracy: 0.8562 - val_loss: 0.4740 - val_accuracy: 0.8390\n",
            "Epoch 9/50\n",
            "1875/1875 [==============================] - 4s 2ms/step - loss: 0.3973 - accuracy: 0.8582 - val_loss: 0.4354 - val_accuracy: 0.8512\n",
            "Epoch 10/50\n",
            "1875/1875 [==============================] - 4s 2ms/step - loss: 0.3856 - accuracy: 0.8618 - val_loss: 0.4453 - val_accuracy: 0.8420\n",
            "Epoch 11/50\n",
            "1875/1875 [==============================] - 4s 2ms/step - loss: 0.3835 - accuracy: 0.8625 - val_loss: 0.4573 - val_accuracy: 0.8452\n",
            "Epoch 12/50\n",
            "1875/1875 [==============================] - 4s 2ms/step - loss: 0.3814 - accuracy: 0.8645 - val_loss: 0.4335 - val_accuracy: 0.8510\n",
            "Epoch 13/50\n",
            "1875/1875 [==============================] - 4s 2ms/step - loss: 0.3806 - accuracy: 0.8637 - val_loss: 0.4568 - val_accuracy: 0.8529\n",
            "Epoch 14/50\n",
            "1875/1875 [==============================] - 4s 2ms/step - loss: 0.3722 - accuracy: 0.8679 - val_loss: 0.4336 - val_accuracy: 0.8522\n",
            "Epoch 15/50\n",
            "1875/1875 [==============================] - 4s 2ms/step - loss: 0.3759 - accuracy: 0.8658 - val_loss: 0.4976 - val_accuracy: 0.8379\n",
            "Epoch 16/50\n",
            "1875/1875 [==============================] - 4s 2ms/step - loss: 0.3654 - accuracy: 0.8676 - val_loss: 0.4834 - val_accuracy: 0.8461\n",
            "Epoch 17/50\n",
            "1875/1875 [==============================] - 4s 2ms/step - loss: 0.3701 - accuracy: 0.8679 - val_loss: 0.4584 - val_accuracy: 0.8529\n",
            "Epoch 18/50\n",
            "1875/1875 [==============================] - 4s 2ms/step - loss: 0.3625 - accuracy: 0.8697 - val_loss: 0.5098 - val_accuracy: 0.8504\n",
            "Epoch 19/50\n",
            "1875/1875 [==============================] - 4s 2ms/step - loss: 0.3595 - accuracy: 0.8715 - val_loss: 0.4652 - val_accuracy: 0.8512\n",
            "Epoch 20/50\n",
            "1875/1875 [==============================] - 4s 2ms/step - loss: 0.3580 - accuracy: 0.8727 - val_loss: 0.4619 - val_accuracy: 0.8512\n",
            "Epoch 21/50\n",
            "1875/1875 [==============================] - 4s 2ms/step - loss: 0.3471 - accuracy: 0.8743 - val_loss: 0.4569 - val_accuracy: 0.8526\n",
            "Epoch 22/50\n",
            "1875/1875 [==============================] - 4s 2ms/step - loss: 0.3549 - accuracy: 0.8743 - val_loss: 0.4718 - val_accuracy: 0.8563\n",
            "Epoch 23/50\n",
            "1875/1875 [==============================] - 4s 2ms/step - loss: 0.3496 - accuracy: 0.8737 - val_loss: 0.4460 - val_accuracy: 0.8540\n",
            "Epoch 24/50\n",
            "1875/1875 [==============================] - 4s 2ms/step - loss: 0.3472 - accuracy: 0.8742 - val_loss: 0.4702 - val_accuracy: 0.8512\n",
            "Epoch 25/50\n",
            "1875/1875 [==============================] - 4s 2ms/step - loss: 0.3580 - accuracy: 0.8747 - val_loss: 0.4915 - val_accuracy: 0.8522\n",
            "Epoch 26/50\n",
            "1875/1875 [==============================] - 4s 2ms/step - loss: 0.3484 - accuracy: 0.8752 - val_loss: 0.4661 - val_accuracy: 0.8536\n",
            "Epoch 27/50\n",
            "1875/1875 [==============================] - 4s 2ms/step - loss: 0.3532 - accuracy: 0.8759 - val_loss: 0.5052 - val_accuracy: 0.8512\n",
            "Epoch 28/50\n",
            "1875/1875 [==============================] - 4s 2ms/step - loss: 0.3461 - accuracy: 0.8757 - val_loss: 0.5430 - val_accuracy: 0.8434\n",
            "Epoch 29/50\n",
            "1875/1875 [==============================] - 4s 2ms/step - loss: 0.3492 - accuracy: 0.8742 - val_loss: 0.4981 - val_accuracy: 0.8548\n",
            "Epoch 30/50\n",
            "1875/1875 [==============================] - 4s 2ms/step - loss: 0.3470 - accuracy: 0.8752 - val_loss: 0.5015 - val_accuracy: 0.8514\n",
            "Epoch 31/50\n",
            "1875/1875 [==============================] - 4s 2ms/step - loss: 0.3395 - accuracy: 0.8781 - val_loss: 0.5126 - val_accuracy: 0.8457\n",
            "Epoch 32/50\n",
            "1875/1875 [==============================] - 4s 2ms/step - loss: 0.3393 - accuracy: 0.8781 - val_loss: 0.5363 - val_accuracy: 0.8536\n",
            "Epoch 33/50\n",
            "1875/1875 [==============================] - 4s 2ms/step - loss: 0.3333 - accuracy: 0.8807 - val_loss: 0.5234 - val_accuracy: 0.8548\n",
            "Epoch 34/50\n",
            "1875/1875 [==============================] - 4s 2ms/step - loss: 0.3476 - accuracy: 0.8773 - val_loss: 0.5259 - val_accuracy: 0.8551\n",
            "Epoch 35/50\n",
            "1875/1875 [==============================] - 4s 2ms/step - loss: 0.3384 - accuracy: 0.8790 - val_loss: 0.5654 - val_accuracy: 0.8372\n",
            "Epoch 36/50\n",
            "1875/1875 [==============================] - 4s 2ms/step - loss: 0.3415 - accuracy: 0.8796 - val_loss: 0.5139 - val_accuracy: 0.8505\n",
            "Epoch 37/50\n",
            "1875/1875 [==============================] - 4s 2ms/step - loss: 0.3305 - accuracy: 0.8801 - val_loss: 0.5155 - val_accuracy: 0.8575\n",
            "Epoch 38/50\n",
            "1875/1875 [==============================] - 4s 2ms/step - loss: 0.3372 - accuracy: 0.8810 - val_loss: 0.4990 - val_accuracy: 0.8537\n",
            "Epoch 39/50\n",
            "1875/1875 [==============================] - 4s 2ms/step - loss: 0.3227 - accuracy: 0.8817 - val_loss: 0.5446 - val_accuracy: 0.8597\n",
            "Epoch 40/50\n",
            "1875/1875 [==============================] - 4s 2ms/step - loss: 0.3307 - accuracy: 0.8812 - val_loss: 0.5589 - val_accuracy: 0.8486\n",
            "Epoch 41/50\n",
            "1875/1875 [==============================] - 4s 2ms/step - loss: 0.3238 - accuracy: 0.8834 - val_loss: 0.5667 - val_accuracy: 0.8572\n",
            "Epoch 42/50\n",
            "1875/1875 [==============================] - 4s 2ms/step - loss: 0.3274 - accuracy: 0.8821 - val_loss: 0.5798 - val_accuracy: 0.8483\n",
            "Epoch 43/50\n",
            "1875/1875 [==============================] - 4s 2ms/step - loss: 0.3233 - accuracy: 0.8838 - val_loss: 0.5105 - val_accuracy: 0.8601\n",
            "Epoch 44/50\n",
            "1875/1875 [==============================] - 4s 2ms/step - loss: 0.3329 - accuracy: 0.8843 - val_loss: 0.6643 - val_accuracy: 0.8461\n",
            "Epoch 45/50\n",
            "1875/1875 [==============================] - 4s 2ms/step - loss: 0.3372 - accuracy: 0.8808 - val_loss: 0.5790 - val_accuracy: 0.8562\n",
            "Epoch 46/50\n",
            "1875/1875 [==============================] - 4s 2ms/step - loss: 0.3160 - accuracy: 0.8847 - val_loss: 0.6602 - val_accuracy: 0.8444\n",
            "Epoch 47/50\n",
            "1875/1875 [==============================] - 4s 2ms/step - loss: 0.3154 - accuracy: 0.8858 - val_loss: 0.5786 - val_accuracy: 0.8607\n",
            "Epoch 48/50\n",
            "1875/1875 [==============================] - 4s 2ms/step - loss: 0.3225 - accuracy: 0.8854 - val_loss: 0.5734 - val_accuracy: 0.8541\n",
            "Epoch 49/50\n",
            "1875/1875 [==============================] - 4s 2ms/step - loss: 0.3228 - accuracy: 0.8847 - val_loss: 0.6761 - val_accuracy: 0.8611\n",
            "Epoch 50/50\n",
            "1875/1875 [==============================] - 4s 2ms/step - loss: 0.3196 - accuracy: 0.8854 - val_loss: 0.6775 - val_accuracy: 0.8547\n"
          ],
          "name": "stdout"
        }
      ]
    },
    {
      "cell_type": "markdown",
      "metadata": {
        "id": "_VXuEvZl8XXM"
      },
      "source": [
        "## Compare the curves between un normalise and normalised data models"
      ]
    },
    {
      "cell_type": "code",
      "metadata": {
        "colab": {
          "base_uri": "https://localhost:8080/",
          "height": 562
        },
        "id": "GxAeEQIn-qx2",
        "outputId": "82d001e9-6920-40fa-fcf8-af849ab44f21"
      },
      "source": [
        "import pandas as pd\n",
        "#Plot non normalised data\n",
        "pd.DataFrame(mnist_model_1_history.history).plot(title=\"Non normalised data\")\n",
        "#Plot the normalised data\n",
        "pd.DataFrame(mnist_model_2_history.history).plot(title='Normalised Data')"
      ],
      "execution_count": 50,
      "outputs": [
        {
          "output_type": "execute_result",
          "data": {
            "text/plain": [
              "<matplotlib.axes._subplots.AxesSubplot at 0x7fea675b9f90>"
            ]
          },
          "metadata": {
            "tags": []
          },
          "execution_count": 50
        },
        {
          "output_type": "display_data",
          "data": {
            "image/png": "[encoded data removed]",
            "text/plain": [
              "<Figure size 432x288 with 1 Axes>"
            ]
          },
          "metadata": {
            "tags": [],
            "needs_background": "light"
          }
        },
        {
          "output_type": "display_data",
          "data": {
            "image/png": "[encoded data removed]",
            "text/plain": [
              "<Figure size 432x288 with 1 Axes>"
            ]
          },
          "metadata": {
            "tags": [],
            "needs_background": "light"
          }
        }
      ]
    },
    {
      "cell_type": "markdown",
      "metadata": {
        "id": "lGKOQpmw_BBd"
      },
      "source": [
        "> 🔑 **Note:** The same model with even *slightly* different data can produce *dramatically* different results. So when you're comparing models, it's important to make sure you're comparing them on the same criteria (e.g. same architecture but different data or same data but different architecture)."
      ]
    },
    {
      "cell_type": "markdown",
      "metadata": {
        "id": "8GL108Ho_95K"
      },
      "source": [
        "## Finding the ideal learning rate"
      ]
    },
    {
      "cell_type": "code",
      "metadata": {
        "colab": {
          "base_uri": "https://localhost:8080/"
        },
        "id": "cb6KgsFHAO8U",
        "outputId": "57aa3768-14b0-41c0-98c5-c80e66cc053b"
      },
      "source": [
        "#Set random seed\n",
        "tf.random.set_seed(42)\n",
        "\n",
        "# Create the learning rate callback\n",
        "lr_scheduler = tf.keras.callbacks.LearningRateScheduler(lambda epoch: 1e-3 * 10**(epoch/20))\n",
        "\n",
        "#1. Create model\n",
        "mnist_model_2 = tf.keras.models.Sequential([\n",
        "        tf.keras.layers.Flatten(input_shape=(28,28)),\n",
        "        tf.keras.layers.Dense(1000,activation='relu'),\n",
        "        tf.keras.layers.Dense(1000,activation='relu'),\n",
        "        tf.keras.layers.Dense(10,activation='softmax')\n",
        "])\n",
        "\n",
        "#2. Compile the model\n",
        "mnist_model_2.compile(loss=tf.keras.losses.SparseCategoricalCrossentropy(),\n",
        "                      optimizer = tf.keras.optimizers.Adam(),\n",
        "                      metrics = ['accuracy'])\n",
        "#3. Fit the model\n",
        "mnist_model_2_history = mnist_model_2.fit(train_data,train_labels,epochs=50,validation_data=(test_data,test_labels),\n",
        "                                          callbacks=[lr_scheduler])"
      ],
      "execution_count": 51,
      "outputs": [
        {
          "output_type": "stream",
          "text": [
            "Epoch 1/50\n",
            "1875/1875 [==============================] - 4s 2ms/step - loss: 2.2444 - accuracy: 0.7487 - val_loss: 0.6680 - val_accuracy: 0.7628\n",
            "Epoch 2/50\n",
            "1875/1875 [==============================] - 4s 2ms/step - loss: 0.6183 - accuracy: 0.7944 - val_loss: 0.5532 - val_accuracy: 0.8173\n",
            "Epoch 3/50\n",
            "1875/1875 [==============================] - 4s 2ms/step - loss: 0.5241 - accuracy: 0.8224 - val_loss: 0.5181 - val_accuracy: 0.8241\n",
            "Epoch 4/50\n",
            "1875/1875 [==============================] - 4s 2ms/step - loss: 0.4821 - accuracy: 0.8351 - val_loss: 0.5047 - val_accuracy: 0.8327\n",
            "Epoch 5/50\n",
            "1875/1875 [==============================] - 4s 2ms/step - loss: 0.4705 - accuracy: 0.8395 - val_loss: 0.6227 - val_accuracy: 0.7795\n",
            "Epoch 6/50\n",
            "1875/1875 [==============================] - 4s 2ms/step - loss: 0.4667 - accuracy: 0.8409 - val_loss: 0.5227 - val_accuracy: 0.8277\n",
            "Epoch 7/50\n",
            "1875/1875 [==============================] - 4s 2ms/step - loss: 0.4681 - accuracy: 0.8419 - val_loss: 0.5334 - val_accuracy: 0.8252\n",
            "Epoch 8/50\n",
            "1875/1875 [==============================] - 4s 2ms/step - loss: 0.5154 - accuracy: 0.8364 - val_loss: 0.5518 - val_accuracy: 0.8278\n",
            "Epoch 9/50\n",
            "1875/1875 [==============================] - 4s 2ms/step - loss: 0.5334 - accuracy: 0.8269 - val_loss: 0.4885 - val_accuracy: 0.8391\n",
            "Epoch 10/50\n",
            "1875/1875 [==============================] - 4s 2ms/step - loss: 0.5478 - accuracy: 0.8263 - val_loss: 0.5662 - val_accuracy: 0.8259\n",
            "Epoch 11/50\n",
            "1875/1875 [==============================] - 4s 2ms/step - loss: 0.5471 - accuracy: 0.8266 - val_loss: 0.6451 - val_accuracy: 0.7980\n",
            "Epoch 12/50\n",
            "1875/1875 [==============================] - 4s 2ms/step - loss: 0.5794 - accuracy: 0.8218 - val_loss: 0.5916 - val_accuracy: 0.8105\n",
            "Epoch 13/50\n",
            "1875/1875 [==============================] - 4s 2ms/step - loss: 0.6154 - accuracy: 0.8108 - val_loss: 0.6058 - val_accuracy: 0.8113\n",
            "Epoch 14/50\n",
            "1875/1875 [==============================] - 4s 2ms/step - loss: 0.8866 - accuracy: 0.7009 - val_loss: 1.3366 - val_accuracy: 0.7197\n",
            "Epoch 15/50\n",
            "1875/1875 [==============================] - 4s 2ms/step - loss: 1.1523 - accuracy: 0.6034 - val_loss: 1.3569 - val_accuracy: 0.4908\n",
            "Epoch 16/50\n",
            "1875/1875 [==============================] - 4s 2ms/step - loss: 1.6276 - accuracy: 0.4251 - val_loss: 1.6629 - val_accuracy: 0.2458\n",
            "Epoch 17/50\n",
            "1875/1875 [==============================] - 4s 2ms/step - loss: 1.9340 - accuracy: 0.2727 - val_loss: 1.6164 - val_accuracy: 0.2735\n",
            "Epoch 18/50\n",
            "1875/1875 [==============================] - 4s 2ms/step - loss: 1.9391 - accuracy: 0.2230 - val_loss: 1.7690 - val_accuracy: 0.2049\n",
            "Epoch 19/50\n",
            "1875/1875 [==============================] - 4s 2ms/step - loss: 1.8336 - accuracy: 0.2040 - val_loss: 1.7286 - val_accuracy: 0.2165\n",
            "Epoch 20/50\n",
            "1875/1875 [==============================] - 4s 2ms/step - loss: 1.7781 - accuracy: 0.2089 - val_loss: 2.0795 - val_accuracy: 0.2000\n",
            "Epoch 21/50\n",
            "1875/1875 [==============================] - 4s 2ms/step - loss: 1.7087 - accuracy: 0.1988 - val_loss: 1.7469 - val_accuracy: 0.1993\n",
            "Epoch 22/50\n",
            "1875/1875 [==============================] - 4s 2ms/step - loss: 1.7564 - accuracy: 0.2002 - val_loss: 1.7364 - val_accuracy: 0.1995\n",
            "Epoch 23/50\n",
            "1875/1875 [==============================] - 4s 2ms/step - loss: 2.0345 - accuracy: 0.1986 - val_loss: 1.7633 - val_accuracy: 0.1965\n",
            "Epoch 24/50\n",
            "1875/1875 [==============================] - 4s 2ms/step - loss: 1.9303 - accuracy: 0.1982 - val_loss: 1.7431 - val_accuracy: 0.2001\n",
            "Epoch 25/50\n",
            "1875/1875 [==============================] - 4s 2ms/step - loss: 1.7391 - accuracy: 0.2019 - val_loss: 1.7405 - val_accuracy: 0.1963\n",
            "Epoch 26/50\n",
            "1875/1875 [==============================] - 4s 2ms/step - loss: 1.7396 - accuracy: 0.1984 - val_loss: 1.7397 - val_accuracy: 0.2003\n",
            "Epoch 27/50\n",
            "1875/1875 [==============================] - 4s 2ms/step - loss: 1.7391 - accuracy: 0.2006 - val_loss: 1.7548 - val_accuracy: 0.1987\n",
            "Epoch 28/50\n",
            "1875/1875 [==============================] - 4s 2ms/step - loss: 1.7399 - accuracy: 0.1987 - val_loss: 1.7441 - val_accuracy: 0.2001\n",
            "Epoch 29/50\n",
            "1875/1875 [==============================] - 4s 2ms/step - loss: 1.7413 - accuracy: 0.1949 - val_loss: 1.7429 - val_accuracy: 0.2000\n",
            "Epoch 30/50\n",
            "1875/1875 [==============================] - 4s 2ms/step - loss: 1.7418 - accuracy: 0.1986 - val_loss: 1.7535 - val_accuracy: 0.1947\n",
            "Epoch 31/50\n",
            "1875/1875 [==============================] - 4s 2ms/step - loss: 1.7422 - accuracy: 0.1972 - val_loss: 1.7463 - val_accuracy: 0.1947\n",
            "Epoch 32/50\n",
            "1875/1875 [==============================] - 4s 2ms/step - loss: 1.7430 - accuracy: 0.1982 - val_loss: 1.7512 - val_accuracy: 0.1944\n",
            "Epoch 33/50\n",
            "1875/1875 [==============================] - 4s 2ms/step - loss: 1.7430 - accuracy: 0.1975 - val_loss: 1.7453 - val_accuracy: 0.1987\n",
            "Epoch 34/50\n",
            "1875/1875 [==============================] - 4s 2ms/step - loss: 1.7440 - accuracy: 0.2018 - val_loss: 1.7556 - val_accuracy: 0.1985\n",
            "Epoch 35/50\n",
            "1875/1875 [==============================] - 4s 2ms/step - loss: 1.7450 - accuracy: 0.1991 - val_loss: 1.7458 - val_accuracy: 0.1981\n",
            "Epoch 36/50\n",
            "1875/1875 [==============================] - 4s 2ms/step - loss: 1.7471 - accuracy: 0.1979 - val_loss: 1.7565 - val_accuracy: 0.2000\n",
            "Epoch 37/50\n",
            "1875/1875 [==============================] - 4s 2ms/step - loss: 1.7487 - accuracy: 0.1966 - val_loss: 1.7469 - val_accuracy: 0.1984\n",
            "Epoch 38/50\n",
            "1875/1875 [==============================] - 4s 2ms/step - loss: 1.9722 - accuracy: 0.1970 - val_loss: 1.7713 - val_accuracy: 0.1946\n",
            "Epoch 39/50\n",
            "1875/1875 [==============================] - 4s 2ms/step - loss: 1.7530 - accuracy: 0.1958 - val_loss: 1.7531 - val_accuracy: 0.1986\n",
            "Epoch 40/50\n",
            "1875/1875 [==============================] - 4s 2ms/step - loss: 1.7538 - accuracy: 0.1987 - val_loss: 1.7583 - val_accuracy: 0.2000\n",
            "Epoch 41/50\n",
            "1875/1875 [==============================] - 4s 2ms/step - loss: 1.7562 - accuracy: 0.1940 - val_loss: 1.7852 - val_accuracy: 0.1986\n",
            "Epoch 42/50\n",
            "1875/1875 [==============================] - 4s 2ms/step - loss: 1.7582 - accuracy: 0.1967 - val_loss: 1.7704 - val_accuracy: 0.1980\n",
            "Epoch 43/50\n",
            "1875/1875 [==============================] - 4s 2ms/step - loss: 1.7629 - accuracy: 0.2004 - val_loss: 1.7692 - val_accuracy: 0.1984\n",
            "Epoch 44/50\n",
            "1875/1875 [==============================] - 4s 2ms/step - loss: 1.7657 - accuracy: 0.1981 - val_loss: 1.7675 - val_accuracy: 0.2002\n",
            "Epoch 45/50\n",
            "1875/1875 [==============================] - 4s 2ms/step - loss: 1.7701 - accuracy: 0.1956 - val_loss: 1.7595 - val_accuracy: 0.1980\n",
            "Epoch 46/50\n",
            "1875/1875 [==============================] - 4s 2ms/step - loss: 1.7765 - accuracy: 0.1957 - val_loss: 1.7911 - val_accuracy: 0.2002\n",
            "Epoch 47/50\n",
            "1875/1875 [==============================] - 4s 2ms/step - loss: 1.7785 - accuracy: 0.1958 - val_loss: 1.7639 - val_accuracy: 0.1986\n",
            "Epoch 48/50\n",
            "1875/1875 [==============================] - 4s 2ms/step - loss: 1.7845 - accuracy: 0.1966 - val_loss: 1.7585 - val_accuracy: 0.1986\n",
            "Epoch 49/50\n",
            "1875/1875 [==============================] - 4s 2ms/step - loss: 1.7875 - accuracy: 0.1975 - val_loss: 1.8004 - val_accuracy: 0.2002\n",
            "Epoch 50/50\n",
            "1875/1875 [==============================] - 4s 2ms/step - loss: 1.7978 - accuracy: 0.1958 - val_loss: 1.7619 - val_accuracy: 0.1983\n"
          ],
          "name": "stdout"
        }
      ]
    },
    {
      "cell_type": "code",
      "metadata": {
        "colab": {
          "base_uri": "https://localhost:8080/",
          "height": 298
        },
        "id": "hU0b_mCvAHro",
        "outputId": "7de51321-2cc5-4d27-e51a-016881a7b20b"
      },
      "source": [
        "# Plot the learning rate decay curve\n",
        "import numpy as np\n",
        "import matplotlib.pyplot as plt\n",
        "lrs = 1e-3 * (10**(np.arange(50)/20))\n",
        "plt.semilogx(lrs, mnist_model_2_history.history[\"loss\"]) # want the x-axis to be log-scale\n",
        "plt.xlabel(\"Learning rate\")\n",
        "plt.ylabel(\"Loss\")\n",
        "plt.title(\"Finding the ideal learning rate\");"
      ],
      "execution_count": 52,
      "outputs": [
        {
          "output_type": "display_data",
          "data": {
            "image/png": "[encoded data removed]",
            "text/plain": [
              "<Figure size 432x288 with 1 Axes>"
            ]
          },
          "metadata": {
            "tags": [],
            "needs_background": "light"
          }
        }
      ]
    },
    {
      "cell_type": "markdown",
      "metadata": {
        "id": "IJpBAA9IAKBD"
      },
      "source": [
        "* Evaluate its performance using other classification metrics (such as a [confusion matrix](https://scikit-learn.org/stable/auto_examples/model_selection/plot_confusion_matrix.html#sphx-glr-auto-examples-model-selection-plot-confusion-matrix-py) or [classification report](https://scikit-learn.org/stable/modules/generated/sklearn.metrics.classification_report.html)).\n",
        "* Assess some of its predictions (through visualizations).\n",
        "* Improve its accuracy (by training it for longer or changing the architecture).\n",
        "* Save and export it for use in an application."
      ]
    },
    {
      "cell_type": "code",
      "metadata": {
        "colab": {
          "base_uri": "https://localhost:8080/",
          "height": 345
        },
        "id": "khaC2K6azB2F",
        "outputId": "b3db5483-a210-48ec-cfe0-a3743ac614dc"
      },
      "source": [
        "from sklearn.metrics import plot_confusion_matrix\n",
        "disp = plot_confusion_matrix( mnist_model_2_history,train_data, train_labels,\n",
        "                                 display_labels=['T-shirt/top', 'Trouser', 'Pullover', 'Dress', 'Coat',\n",
        "               'Sandal', 'Shirt', 'Sneaker', 'Bag', 'Ankle boot'],\n",
        "                                 cmap=plt.cm.Blues)"
      ],
      "execution_count": 61,
      "outputs": [
        {
          "output_type": "error",
          "ename": "ValueError",
          "evalue": "ignored",
          "traceback": [
            "\u001b[0;31m---------------------------------------------------------------------------\u001b[0m",
            "\u001b[0;31mValueError\u001b[0m                                Traceback (most recent call last)",
            "\u001b[0;32m<ipython-input-61-e842e502811d>\u001b[0m in \u001b[0;36m<module>\u001b[0;34m()\u001b[0m\n\u001b[1;32m      3\u001b[0m                                  display_labels=['T-shirt/top', 'Trouser', 'Pullover', 'Dress', 'Coat',\n\u001b[1;32m      4\u001b[0m                'Sandal', 'Shirt', 'Sneaker', 'Bag', 'Ankle boot'],\n\u001b[0;32m----> 5\u001b[0;31m                                  cmap=plt.cm.Blues)\n\u001b[0m",
            "\u001b[0;32m/usr/local/lib/python3.7/dist-packages/sklearn/metrics/_plot/confusion_matrix.py\u001b[0m in \u001b[0;36mplot_confusion_matrix\u001b[0;34m(estimator, X, y_true, labels, sample_weight, normalize, display_labels, include_values, xticks_rotation, values_format, cmap, ax)\u001b[0m\n\u001b[1;32m    181\u001b[0m \u001b[0;34m\u001b[0m\u001b[0m\n\u001b[1;32m    182\u001b[0m     \u001b[0;32mif\u001b[0m \u001b[0;32mnot\u001b[0m \u001b[0mis_classifier\u001b[0m\u001b[0;34m(\u001b[0m\u001b[0mestimator\u001b[0m\u001b[0;34m)\u001b[0m\u001b[0;34m:\u001b[0m\u001b[0;34m\u001b[0m\u001b[0;34m\u001b[0m\u001b[0m\n\u001b[0;32m--> 183\u001b[0;31m         \u001b[0;32mraise\u001b[0m \u001b[0mValueError\u001b[0m\u001b[0;34m(\u001b[0m\u001b[0;34m\"plot_confusion_matrix only supports classifiers\"\u001b[0m\u001b[0;34m)\u001b[0m\u001b[0;34m\u001b[0m\u001b[0;34m\u001b[0m\u001b[0m\n\u001b[0m\u001b[1;32m    184\u001b[0m \u001b[0;34m\u001b[0m\u001b[0m\n\u001b[1;32m    185\u001b[0m     \u001b[0my_pred\u001b[0m \u001b[0;34m=\u001b[0m \u001b[0mestimator\u001b[0m\u001b[0;34m.\u001b[0m\u001b[0mpredict\u001b[0m\u001b[0;34m(\u001b[0m\u001b[0mX\u001b[0m\u001b[0;34m)\u001b[0m\u001b[0;34m\u001b[0m\u001b[0;34m\u001b[0m\u001b[0m\n",
            "\u001b[0;31mValueError\u001b[0m: plot_confusion_matrix only supports classifiers"
          ]
        }
      ]
    },
    {
      "cell_type": "code",
      "metadata": {
        "id": "yneJxWg50iAI"
      },
      "source": [
        ""
      ],
      "execution_count": null,
      "outputs": []
    }
  ]
}